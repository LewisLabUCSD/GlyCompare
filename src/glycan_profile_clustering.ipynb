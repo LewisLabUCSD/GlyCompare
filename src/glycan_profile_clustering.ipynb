{
 "cells": [
  {
   "cell_type": "code",
   "execution_count": 16,
   "metadata": {
    "collapsed": false
   },
   "outputs": [],
   "source": [
    "import customize_motif_vector\n",
    "import extract_motif\n",
    "import motif_class\n",
    "import __init__\n",
    "import json_utility\n",
    "import glycan_profile\n",
    "from importlib import reload\n",
    "reload(__init__)\n",
    "reload(extract_motif)\n",
    "reload(customize_motif_vector)\n",
    "reload(motif_class)\n",
    "import plot_glycan_utilities\n",
    "reload(plot_glycan_utilities)\n",
    "import matplotlib.pyplot as plt\n",
    "from glypy.io import glycoct\n",
    "\n",
    "%matplotlib inline\n"
   ]
  },
  {
   "cell_type": "code",
   "execution_count": 19,
   "metadata": {
    "collapsed": false
   },
   "outputs": [
    {
     "ename": "FileNotFoundError",
     "evalue": "[Errno 2] No such file or directory: '/Users/apple/PycharmProjects/GlyCompare/generated_json_file/Glycan_topolog_list.txt'",
     "output_type": "error",
     "traceback": [
      "\u001b[0;31m---------------------------------------------------------------------------\u001b[0m",
      "\u001b[0;31mFileNotFoundError\u001b[0m                         Traceback (most recent call last)",
      "\u001b[0;32m<ipython-input-19-c36951804681>\u001b[0m in \u001b[0;36m<module>\u001b[0;34m()\u001b[0m\n\u001b[0;32m----> 1\u001b[0;31m \u001b[0mglycan_dict\u001b[0m \u001b[0;34m=\u001b[0m \u001b[0mextract_motif\u001b[0m\u001b[0;34m.\u001b[0m\u001b[0mload_glycoct_for_database\u001b[0m\u001b[0;34m(\u001b[0m\u001b[0;34m)\u001b[0m\u001b[0;34m\u001b[0m\u001b[0m\n\u001b[0m\u001b[1;32m      2\u001b[0m \u001b[0mNBT_dict_name_abundance_cross_profile\u001b[0m\u001b[0;34m,\u001b[0m \u001b[0mnormalized_matrix\u001b[0m \u001b[0;34m=\u001b[0m \u001b[0mglycan_profile\u001b[0m\u001b[0;34m.\u001b[0m\u001b[0mload_glycan_profile\u001b[0m\u001b[0;34m(\u001b[0m\u001b[0mglycan_dict\u001b[0m\u001b[0;34m)\u001b[0m\u001b[0;34m\u001b[0m\u001b[0m\n\u001b[1;32m      3\u001b[0m \u001b[0mglycan_profile\u001b[0m\u001b[0;34m,\u001b[0m \u001b[0mglycan_profile_merged\u001b[0m \u001b[0;34m=\u001b[0m \u001b[0mglycan_profile\u001b[0m\u001b[0;34m.\u001b[0m\u001b[0mload_glycan_profile_dic\u001b[0m\u001b[0;34m(\u001b[0m\u001b[0;34m)\u001b[0m\u001b[0;34m\u001b[0m\u001b[0m\n\u001b[1;32m      4\u001b[0m profile_obj_list = glycan_profile.combine_profile_mz_with_motif_existance(glycan_profile,\n\u001b[1;32m      5\u001b[0m                                                                                   NBT_dict_name_abundance_cross_profile)\n",
      "\u001b[0;32m~/PycharmProjects/GlyCompare/src/extract_motif.py\u001b[0m in \u001b[0;36mload_glycoct_for_database\u001b[0;34m()\u001b[0m\n\u001b[1;32m    158\u001b[0m     \u001b[0moutput_for_motif\u001b[0m \u001b[0;34m=\u001b[0m \u001b[0;34m{\u001b[0m\u001b[0;34m}\u001b[0m\u001b[0;34m\u001b[0m\u001b[0m\n\u001b[1;32m    159\u001b[0m     \u001b[0mglycan_dict_glycoct\u001b[0m \u001b[0;34m=\u001b[0m \u001b[0;34m{\u001b[0m\u001b[0;34m}\u001b[0m\u001b[0;34m\u001b[0m\u001b[0m\n\u001b[0;32m--> 160\u001b[0;31m     \u001b[0mf\u001b[0m \u001b[0;34m=\u001b[0m \u001b[0mopen\u001b[0m\u001b[0;34m(\u001b[0m\u001b[0mtopology_list\u001b[0m\u001b[0;34m)\u001b[0m\u001b[0;34m\u001b[0m\u001b[0m\n\u001b[0m\u001b[1;32m    161\u001b[0m     \u001b[0mglycan_dict\u001b[0m \u001b[0;34m=\u001b[0m \u001b[0;34m{\u001b[0m\u001b[0;34m}\u001b[0m\u001b[0;34m\u001b[0m\u001b[0m\n\u001b[1;32m    162\u001b[0m     \u001b[0m_count\u001b[0m \u001b[0;34m=\u001b[0m \u001b[0;36m0\u001b[0m\u001b[0;34m\u001b[0m\u001b[0m\n",
      "\u001b[0;31mFileNotFoundError\u001b[0m: [Errno 2] No such file or directory: '/Users/apple/PycharmProjects/GlyCompare/generated_json_file/Glycan_topolog_list.txt'"
     ]
    }
   ],
   "source": [
    "glycan_dict = extract_motif.load_glycoct_for_database()\n",
    "NBT_dict_name_abundance_cross_profile, normalized_matrix = glycan_profile.load_glycan_profile(glycan_dict)\n",
    "glycan_profile, glycan_profile_merged = glycan_profile.load_glycan_profile_dic()\n",
    "profile_obj_list = glycan_profile.combine_profile_mz_with_motif_existance(glycan_profile,\n",
    "                                                                                  NBT_dict_name_abundance_cross_profile)\n",
    "_ggg = glycan_profile.glycan_profiles(profile_obj_list)\n",
    "_table = _ggg.table_against_wt_relative_abd()\n",
    "#     _table\n",
    "_np_mat = np.array(_table)\n",
    "weight_dict = {}\n",
    "for i in range(len(_np_mat)):\n",
    "        weight_dict[i] = list(_np_mat[i])\n",
    "\n",
    "vec_dict = load_json(NBT_init.root_address + 'NBT_motif_dic_degree_list.json')\n",
    "motif_ = motif_class.GlycanMotifLib(vec_dict)\n",
    "# ncore_dependence_tree = motif_.motif_with_ncore_dependence_tree()\n",
    "dp_tree = motif_class.MotifDpTree(motif_, weight_dict)\n",
    "# print(\"\", len(dp_tree.after_drop_node))\n",
    "df_ncore = _table[_table.index.isin(dp_tree.all_nodes)]\n",
    "# df_ncore.to_csv(NBT_init.root_address + r\"nglycan_core_profile_table.txt\")"
   ]
  },
  {
   "cell_type": "code",
   "execution_count": null,
   "metadata": {
    "collapsed": true
   },
   "outputs": [],
   "source": []
  }
 ],
 "metadata": {
  "kernelspec": {
   "display_name": "Python [anaconda3]",
   "language": "python",
   "name": "Python [anaconda3]"
  },
  "language_info": {
   "codemirror_mode": {
    "name": "ipython",
    "version": 3
   },
   "file_extension": ".py",
   "mimetype": "text/x-python",
   "name": "python",
   "nbconvert_exporter": "python",
   "pygments_lexer": "ipython3",
   "version": "3.5.2"
  }
 },
 "nbformat": 4,
 "nbformat_minor": 0
}
