{
 "cells": [
  {
   "cell_type": "code",
   "execution_count": 2,
   "metadata": {
    "collapsed": true
   },
   "outputs": [],
   "source": [
    "import customize_motif_vector\n",
    "import extract_motif\n",
    "import motif_class\n",
    "import __init__\n",
    "import json_utility\n",
    "import glycan_profile\n",
    "from importlib import reload\n",
    "reload(__init__)\n",
    "reload(extract_motif)\n",
    "reload(customize_motif_vector)\n",
    "reload(motif_class)\n",
    "reload(glycan_profile)\n",
    "import plot_glycan_utilities\n",
    "reload(plot_glycan_utilities)\n",
    "import matplotlib.pyplot as plt\n",
    "from glypy.io import glycoct\n",
    "from hierarchical_enrichment import *\n",
    "%matplotlib inline\n"
   ]
  },
  {
   "cell_type": "code",
   "execution_count": 3,
   "metadata": {
    "collapsed": false
   },
   "outputs": [
    {
     "name": "stdout",
     "output_type": "stream",
     "text": [
      "<class 'str'>\n",
      "start motif_with core\n",
      "len 5\n",
      "len 6\n",
      "len 7\n",
      "len 8\n",
      "len 9\n",
      "len 10\n",
      "len 11\n",
      "len 12\n",
      "len 13\n",
      "len 14\n",
      "len 15\n",
      "len 16\n",
      "len 17\n",
      "len 18\n",
      "len 19\n",
      "len 20\n",
      "len 21\n",
      "Finish the n-glycan match  716  motifs are matched to the n-glycan core\n",
      "start building dependence_tree\n",
      "1\n",
      "2\n",
      "3\n",
      "4\n",
      "5\n",
      "6\n",
      "7\n",
      "8\n",
      "9\n",
      "10\n",
      "11\n",
      "12\n",
      "13\n",
      "14\n",
      "15\n",
      "16\n",
      "17\n",
      "18\n",
      "19\n",
      "20\n",
      "21\n"
     ]
    },
    {
     "ename": "NameError",
     "evalue": "name 'glycoprofile' is not defined",
     "output_type": "error",
     "traceback": [
      "\u001b[0;31m---------------------------------------------------------------------------\u001b[0m",
      "\u001b[0;31mNameError\u001b[0m                                 Traceback (most recent call last)",
      "\u001b[0;32m<ipython-input-3-a394f033eb66>\u001b[0m in \u001b[0;36m<module>\u001b[0;34m()\u001b[0m\n\u001b[1;32m      9\u001b[0m \u001b[0;34m\u001b[0m\u001b[0m\n\u001b[1;32m     10\u001b[0m \u001b[0;31m# representative motif extraction from 1 glycoprofile\u001b[0m\u001b[0;34m\u001b[0m\u001b[0;34m\u001b[0m\u001b[0m\n\u001b[0;32m---> 11\u001b[0;31m \u001b[0mhier_enrich_glycoprofile_occurence\u001b[0m\u001b[0;34m(\u001b[0m\u001b[0mglycoprofile\u001b[0m\u001b[0;34m,\u001b[0m \u001b[0mscoredMotifs_occurence_vector\u001b[0m\u001b[0;34m,\u001b[0m \u001b[0mnp\u001b[0m\u001b[0;34m.\u001b[0m\u001b[0marray\u001b[0m\u001b[0;34m(\u001b[0m\u001b[0medge_list\u001b[0m\u001b[0;34m)\u001b[0m\u001b[0;34m,\u001b[0m \u001b[0mmotif_vector\u001b[0m\u001b[0;34m)\u001b[0m\u001b[0;34m\u001b[0m\u001b[0m\n\u001b[0m",
      "\u001b[0;31mNameError\u001b[0m: name 'glycoprofile' is not defined"
     ]
    }
   ],
   "source": [
    "abundance_data_table = json_utility.load_json(\"../generated_json_file/NBT_dict_name_abundance_cross_profile.json\")\n",
    "merged_glycan_profile, _ = glycan_profile.load_glycan_profile_dic()\n",
    "glycan_profiles_obj = glycan_profile.combine_profile_mz_with_motif_existance(merged_glycan_profile, abundance_data_table)\n",
    "motif_abd_table = glycan_profiles_obj.table_against_wt_relative_abd()\n",
    "motif_abd_table.head()\n",
    "motif_lib = motif_class.GlycanMotifLib(\n",
    "    json_utility.load_json(__init__.output_motif_dic_degree_list_addr))  # unicarbkb_motifs_12259.json\n",
    "tree_type_dp, edge_list = motif_lib.motif_dependence_tree()\n",
    "\n",
    "# representative motif extraction from 1 glycoprofile\n",
    "hier_enrich_glycoprofile_occurence(glycoprofile, scoredMotifs_occurence_vector, np.array(edge_list), motif_vector)"
   ]
  },
  {
   "cell_type": "code",
   "execution_count": null,
   "metadata": {
    "collapsed": true
   },
   "outputs": [],
   "source": [
    "hier_enrich_glycoprofile_occurence(glycoprofile, scoredMotifs_occurence_vector, np.array(edge_list), motif_vector)"
   ]
  }
 ],
 "metadata": {
  "anaconda-cloud": {},
  "kernelspec": {
   "display_name": "Python [anaconda3]",
   "language": "python",
   "name": "Python [anaconda3]"
  },
  "language_info": {
   "codemirror_mode": {
    "name": "ipython",
    "version": 3
   },
   "file_extension": ".py",
   "mimetype": "text/x-python",
   "name": "python",
   "nbconvert_exporter": "python",
   "pygments_lexer": "ipython3",
   "version": "3.5.2"
  }
 },
 "nbformat": 4,
 "nbformat_minor": 0
}
