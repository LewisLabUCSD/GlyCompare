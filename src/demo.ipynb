{
 "cells": [
  {
   "cell_type": "code",
   "execution_count": 1,
   "metadata": {
    "collapsed": false
   },
   "outputs": [],
   "source": [
    "import gc_customizing_motif_vec\n",
    "import gc_extract_motif\n",
    "import gc_glycan_motif\n",
    "import gc_init\n",
    "from importlib import reload\n",
    "reload(gc_init)\n",
    "reload(gc_extract_motif)\n",
    "reload(gc_customizing_motif_vec)\n",
    "import gc_plot_glycan_utilities\n",
    "%matplotlib inline\n"
   ]
  },
  {
   "cell_type": "code",
   "execution_count": 2,
   "metadata": {
    "collapsed": true
   },
   "outputs": [],
   "source": [
    "a_3350 = \"\"\"RES\n",
    "1b:x-dglc-HEX-1:5\n",
    "2b:x-lgal-HEX-1:5|6:d\n",
    "3b:x-dglc-HEX-1:5\n",
    "4b:x-dman-HEX-1:5\n",
    "5b:x-dman-HEX-1:5\n",
    "6b:x-dglc-HEX-1:5\n",
    "7b:x-dgal-HEX-1:5\n",
    "8b:x-dgro-dgal-NON-2:6|1:a|2:keto|3:d\n",
    "9s:n-acetyl\n",
    "10s:n-acetyl\n",
    "11b:x-dman-HEX-1:5\n",
    "12b:x-dglc-HEX-1:5\n",
    "13b:x-dgal-HEX-1:5\n",
    "14s:n-acetyl\n",
    "15b:x-dglc-HEX-1:5\n",
    "16b:x-dgal-HEX-1:5\n",
    "17s:n-acetyl\n",
    "18s:n-acetyl\n",
    "19s:n-acetyl\n",
    "LIN\n",
    "1:1o(-1+1)2d\n",
    "2:1o(-1+1)3d\n",
    "3:3o(-1+1)4d\n",
    "4:4o(-1+1)5d\n",
    "5:5o(-1+1)6d\n",
    "6:6o(-1+1)7d\n",
    "7:7o(-1+2)8d\n",
    "8:8d(5+1)9n\n",
    "9:6d(2+1)10n\n",
    "10:4o(-1+1)11d\n",
    "11:11o(-1+1)12d\n",
    "12:12o(-1+1)13d\n",
    "13:12d(2+1)14n\n",
    "14:11o(-1+1)15d\n",
    "15:15o(-1+1)16d\n",
    "16:15d(2+1)17n\n",
    "17:3d(2+1)18n\n",
    "18:1d(2+1)19n\n",
    "\"\"\""
   ]
  },
  {
   "cell_type": "markdown",
   "metadata": {},
   "source": [
    "# extract_motif"
   ]
  },
  {
   "cell_type": "code",
   "execution_count": 3,
   "metadata": {
    "collapsed": false
   },
   "outputs": [],
   "source": [
    "from glypy.io import glycoct\n",
    "# transform glycoct to Glycan obj\n",
    "a_glycan = glycoct.loads(a_3350)"
   ]
  },
  {
   "cell_type": "code",
   "execution_count": 5,
   "metadata": {
    "collapsed": false
   },
   "outputs": [
    {
     "name": "stdout",
     "output_type": "stream",
     "text": [
      "0 13 9.5367431640625e-07 3.434659004211426\n",
      "dict_keys([1, 2, 3, 4, 5, 6, 7, 8, 9, 10, 11, 12])\n",
      "['RES\\n1b:x-lgal-HEX-1:5|6:d\\nLIN\\n', 'RES\\n1b:x-dgal-HEX-1:5\\nLIN\\n', 'RES\\n1b:x-dgal-HEX-1:5\\nLIN\\n', 'RES\\n1b:x-dgro-dgal-NON-2:6|1:a|2:keto|3:d\\n2s:n-acetyl\\nLIN\\n1:1d(5+1)2n\\n', 'RES\\n1b:x-dglc-HEX-1:5\\n2s:n-acetyl\\nLIN\\n1:1d(2+1)2n\\n', 'RES\\n1b:x-dglc-HEX-1:5\\n2s:n-acetyl\\nLIN\\n1:1d(2+1)2n\\n', 'RES\\n1b:x-dman-HEX-1:5\\nLIN\\n', 'RES\\n1b:x-dglc-HEX-1:5\\n2s:n-acetyl\\nLIN\\n1:1d(2+1)2n\\n', 'RES\\n1b:x-dglc-HEX-1:5\\n2s:n-acetyl\\nLIN\\n1:1d(2+1)2n\\n', 'RES\\n1b:x-dglc-HEX-1:5\\n2s:n-acetyl\\nLIN\\n1:1d(2+1)2n\\n', 'RES\\n1b:x-dgal-HEX-1:5\\nLIN\\n', 'RES\\n1b:x-dman-HEX-1:5\\nLIN\\n', 'RES\\n1b:x-dman-HEX-1:5\\nLIN\\n']\n",
      "<class 'str'>\n"
     ]
    }
   ],
   "source": [
    "# extract_motif\n",
    "glycan_motif_dict = gc_extract_motif.extract_motif(a_glycan)\n",
    "print(glycan_motif_dict.keys())\n",
    "print(glycan_motif_dict[1])\n",
    "print(type(glycan_motif_dict[1][0]))"
   ]
  },
  {
   "cell_type": "markdown",
   "metadata": {},
   "source": [
    "# Plot"
   ]
  },
  {
   "cell_type": "code",
   "execution_count": 6,
   "metadata": {
    "collapsed": false
   },
   "outputs": [
    {
     "data": {
      "text/plain": [
       "(RES 1b:x-dglc-HEX-1:5 2s:n-acetyl LIN 1:1d(2+1)2n: id=1  x=0.44999999999999996 mod=0,\n",
       " <matplotlib.axes._subplots.AxesSubplot at 0x121d25080>)"
      ]
     },
     "execution_count": 6,
     "metadata": {},
     "output_type": "execute_result"
    },
    {
     "data": {
      "image/png": "[encoded data removed]",
      "text/plain": [
       "<Figure size 600x400 with 1 Axes>"
      ]
     },
     "metadata": {},
     "output_type": "display_data"
    }
   ],
   "source": [
    "gc_plot_glycan_utilities.plot_glycan(a_glycan)"
   ]
  },
  {
   "cell_type": "markdown",
   "metadata": {},
   "source": [
    "# pipeline"
   ]
  },
  {
   "cell_type": "code",
   "execution_count": 7,
   "metadata": {
    "collapsed": false,
    "scrolled": true
   },
   "outputs": [
    {
     "name": "stdout",
     "output_type": "stream",
     "text": [
      "start parallel\n",
      "0 6 0.0 0.08706402778625488\n",
      "closing poll\n",
      "joining pool\n",
      "1 10 9.5367431640625e-07 1.5671770572662354\n",
      "9 7 0.0 0.20027899742126465\n",
      "7 12 1.1920928955078125e-06 3.842092990875244\n",
      "5 12 9.5367431640625e-07 4.40812087059021\n",
      "12 8 9.5367431640625e-07 0.427156925201416\n",
      "10 12 0.0 4.673549175262451\n",
      "4 13 9.5367431640625e-07 7.675364971160889\n",
      "15 9 9.5367431640625e-07 0.8958439826965332\n",
      "14 11 9.5367431640625e-07 2.7697248458862305\n",
      "3 14 9.5367431640625e-07 12.078837156295776\n",
      "17 11 9.5367431640625e-07 2.897017002105713\n",
      "16 12 9.5367431640625e-07 4.6319260597229\n",
      "19 12 9.5367431640625e-07 5.887125015258789\n",
      "21 11 0.0 3.381891965866089\n",
      "22 6 0.0 0.20746588706970215\n",
      "23 12 9.5367431640625e-07 5.499340057373047\n",
      "20 14 9.5367431640625e-07 16.480144023895264\n",
      "24 11 9.5367431640625e-07 3.336660146713257\n",
      "25 10 0.0 1.9231481552124023\n",
      "2 16 1.1920928955078125e-06 34.89481782913208\n",
      "18 15 0.0 23.577799081802368\n",
      "29 7 9.5367431640625e-07 0.28688693046569824\n",
      "28 9 9.5367431640625e-07 1.2253930568695068\n",
      "30 11 0.0 3.8473398685455322\n",
      "32 8 0.0 0.6323990821838379\n",
      "13 16 9.5367431640625e-07 36.13741493225098\n",
      "34 10 9.5367431640625e-07 1.8789501190185547\n",
      "35 11 1.1920928955078125e-06 3.9453530311584473\n",
      "31 13 0.0 11.26827096939087\n",
      "26 14 9.5367431640625e-07 18.045707941055298\n",
      "27 14 9.5367431640625e-07 17.12822198867798\n",
      "36 10 0.0 2.0342798233032227\n",
      "11 17 0.0 52.85451912879944\n",
      "41 8 0.0 0.5552408695220947\n",
      "37 13 1.1920928955078125e-06 11.205185890197754\n",
      "43 10 0.0 2.1786420345306396\n",
      "44 9 0.0 1.3106610774993896\n",
      "40 14 0.0 16.88992214202881\n",
      "46 13 0.0 10.068217992782593\n",
      "45 16 9.5367431640625e-07 36.45813703536987\n",
      "39 17 0.0 60.1173369884491\n",
      "48 14 0.0 17.305004119873047\n",
      "33 18 9.5367431640625e-07 76.57050395011902\n",
      "51 7 9.5367431640625e-07 0.29700398445129395\n",
      "52 12 9.5367431640625e-07 7.137371063232422\n",
      "38 18 9.5367431640625e-07 88.7938129901886\n",
      "54 9 9.5367431640625e-07 0.9078881740570068\n",
      "49 16 9.5367431640625e-07 33.367377042770386\n",
      "55 13 0.0 9.578915119171143\n",
      "53 15 9.5367431640625e-07 25.86977195739746\n",
      "58 13 9.5367431640625e-07 8.92409896850586\n",
      "42 19 9.5367431640625e-07 111.92442607879639\n",
      "50 17 4.0531158447265625e-06 54.48628902435303\n",
      "61 10 9.5367431640625e-07 1.9070980548858643\n",
      "60 12 0.0 5.558928966522217\n",
      "63 11 9.5367431640625e-07 3.410633087158203\n",
      "57 16 0.0 40.851271867752075\n",
      "47 19 9.5367431640625e-07 118.1122670173645\n",
      "65 13 0.0 10.956500053405762\n",
      "67 8 9.5367431640625e-07 0.5605449676513672\n",
      "64 15 0.0 28.58658504486084\n",
      "66 14 1.1920928955078125e-06 13.917259931564331\n",
      "69 10 9.5367431640625e-07 2.0062341690063477\n",
      "8 21 0.0 214.55248498916626\n",
      "59 17 1.1920928955078125e-06 63.44219183921814\n",
      "70 14 9.5367431640625e-07 16.31237292289734\n",
      "72 15 3.0994415283203125e-06 25.68829894065857\n",
      "56 19 9.5367431640625e-07 106.70391011238098\n",
      "75 14 1.1920928955078125e-06 14.019502878189087\n",
      "68 18 0.0 75.87249493598938\n",
      "6 22 1.1920928955078125e-06 281.470312833786\n",
      "74 18 0.0 60.473663091659546\n",
      "62 20 0.0 121.64717602729797\n",
      "76 19 9.5367431640625e-07 68.21399593353271\n",
      "71 20 9.5367431640625e-07 110.12269401550293\n",
      "73 21 9.5367431640625e-07 109.56891989707947\n",
      "finished pool\n",
      "success_log\n",
      "store duplicate\n"
     ]
    }
   ],
   "source": [
    "# in gc_init: clarify the glycoct_dict_goto_extraction_addr\n",
    "# in gc_init: clarify the glytoucan_data_base_addr__\n",
    "# two files above are input data file for this pip \n",
    "gc_extract_motif.get_motif_pip(22, prior=True)\n",
    "# it would be faster if you run the python directly"
   ]
  },
  {
   "cell_type": "code",
   "execution_count": null,
   "metadata": {
    "collapsed": true
   },
   "outputs": [],
   "source": [
    "# check the gc_init as well\n",
    "# it would be faster if you run the python directly\n",
    "gc_customizing_motif_vec.customizing_motif_vec_pip()"
   ]
  }
 ],
 "metadata": {
  "anaconda-cloud": {},
  "kernelspec": {
   "display_name": "Python [anaconda3]",
   "language": "python",
   "name": "Python [anaconda3]"
  },
  "language_info": {
   "codemirror_mode": {
    "name": "ipython",
    "version": 3
   },
   "file_extension": ".py",
   "mimetype": "text/x-python",
   "name": "python",
   "nbconvert_exporter": "python",
   "pygments_lexer": "ipython3",
   "version": "3.5.2"
  }
 },
 "nbformat": 4,
 "nbformat_minor": 0
}
