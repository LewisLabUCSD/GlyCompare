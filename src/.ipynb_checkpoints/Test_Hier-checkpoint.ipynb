{
 "cells": [
  {
   "cell_type": "code",
   "execution_count": 2,
   "metadata": {
    "collapsed": true
   },
   "outputs": [],
   "source": [
    "import customize_motif_vector\n",
    "import extract_motif\n",
    "import motif_class\n",
    "import __init__\n",
    "import json_utility\n",
    "import glycan_profile\n",
    "from importlib import reload\n",
    "reload(__init__)\n",
    "reload(extract_motif)\n",
    "reload(customize_motif_vector)\n",
    "reload(motif_class)\n",
    "reload(glycan_profile)\n",
    "import plot_glycan_utilities\n",
    "reload(plot_glycan_utilities)\n",
    "import matplotlib.pyplot as plt\n",
    "from glypy.io import glycoct\n",
    "from hierarchical_enrichment import *\n",
    "%matplotlib inline\n"
   ]
  },
  {
   "cell_type": "code",
   "execution_count": null,
   "metadata": {
    "collapsed": true
   },
   "outputs": [],
   "source": [
    "abundance_data_table = json_utility.load_json(\"../generated_json_file/NBT_dict_name_abundance_cross_profile.json\")\n",
    "merged_glycan_profile, _ = glycan_profile.load_glycan_profile_dic()\n",
    "glycan_profiles_obj = glycan_profile.combine_profile_mz_with_motif_existance(merged_glycan_profile, abundance_data_table)\n",
    "motif_abd_table = glycan_profiles_obj.table_against_wt_relative_abd()\n",
    "motif_abd_table.head()\n",
    "motif_lib = motif_class.GlycanMotifLib(\n",
    "    json_utility.load_json(__init__.output_motif_dic_degree_list_addr))  # unicarbkb_motifs_12259.json\n",
    "tree_type_dp, edge_list = motif_lib.motif_dependence_tree()\n",
    "\n",
    "# representative motif extraction from 1 glycoprofile\n",
    "hier_enrich_glycoprofile_occurence(glycoprofile, scoredMotifs_occurence_vector, np.array(edge_list), motif_vector)"
   ]
  }
 ],
 "metadata": {
  "anaconda-cloud": {},
  "kernelspec": {
   "display_name": "Python [anaconda3]",
   "language": "python",
   "name": "Python [anaconda3]"
  },
  "language_info": {
   "codemirror_mode": {
    "name": "ipython",
    "version": 3
   },
   "file_extension": ".py",
   "mimetype": "text/x-python",
   "name": "python",
   "nbconvert_exporter": "python",
   "pygments_lexer": "ipython3",
   "version": "3.5.2"
  }
 },
 "nbformat": 4,
 "nbformat_minor": 0
}
