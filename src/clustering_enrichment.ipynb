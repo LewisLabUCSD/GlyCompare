{
 "cells": [
  {
   "cell_type": "code",
   "execution_count": 10,
   "metadata": {
    "collapsed": false
   },
   "outputs": [],
   "source": [
    "from glypy.io import glycoct\n",
    "import extract_motif\n",
    "from glypy.algorithms.subtree_search import subtree_of\n",
    "import hierarchical_enrichment\n",
    "import customize_motif_vec\n",
    "import glycan_io\n",
    "import extract_motif\n",
    "import motif_class\n",
    "import __init__\n",
    "import json_utility\n",
    "import glycan_profile\n",
    "from importlib import reload\n",
    "import pandas as pd\n",
    "import plot_glycan_utilities\n",
    "import matplotlib.pyplot as plt\n",
    "from glypy.io import glycoct, iupac\n",
    "import numpy as np\n",
    "import clustering_analysis_pip\n",
    "reload(__init__)\n",
    "reload(extract_motif)\n",
    "reload(motif_class)\n",
    "reload(glycan_profile)\n",
    "reload(plot_glycan_utilities)\n",
    "%matplotlib inline\n"
   ]
  },
  {
   "cell_type": "markdown",
   "metadata": {},
   "source": [
    "# Table relative abd"
   ]
  },
  {
   "cell_type": "code",
   "execution_count": 2,
   "metadata": {
    "collapsed": false,
    "scrolled": true
   },
   "outputs": [
    {
     "name": "stdout",
     "output_type": "stream",
     "text": [
      "mz_list 57 profile_list 37\n",
      "57 37\n",
      "<class 'str'>\n",
      "start motif_with core\n",
      "len 5\n",
      "len 6\n",
      "len 7\n",
      "len 8\n",
      "len 9\n",
      "len 10\n",
      "len 11\n",
      "len 12\n",
      "len 13\n",
      "len 14\n",
      "len 15\n",
      "len 16\n",
      "len 17\n",
      "len 18\n",
      "len 19\n",
      "len 20\n",
      "len 21\n",
      "Finish the n-glycan match  716  motifs are matched to the n-glycan core\n",
      "start building ncore_dependence_tree\n",
      "5\n",
      "6\n",
      "7\n",
      "8\n",
      "9\n",
      "10\n",
      "11\n",
      "12\n",
      "13\n",
      "14\n",
      "15\n",
      "16\n",
      "17\n",
      "18\n",
      "19\n",
      "20\n",
      "21\n"
     ]
    }
   ],
   "source": [
    "# abundance_data_table = json_utility.load_json(\"../generated_json_file/NBT_dict_name_abundance_cross_profile.json\")\n",
    "# load glycoprofile Mass Spectrum m/z and glycan structure info\n",
    "# load CHO paper abundance table\n",
    "mz_abd_table = glycan_profile.load_cho_mz_abundance()\n",
    "# load glycoprofile Mass Spectrum m/z and glycan structure info\n",
    "profile_mz_to_id = glycan_profile.load_glycan_profile_dic()\n",
    "# normalize CHO abundance table\n",
    "norm_mz_abd_dict = glycan_profile.get_norm_mz_abd_table(mz_abd_table)\n",
    "# load match_dict\n",
    "match_dict = json_utility.load_json(__init__.json_address + \"match_dict.json\")\n",
    "# digitalize the glycoprofile\n",
    "glycoprofile_list = glycan_profile.get_glycoprofile_list(profile_mz_to_id, norm_mz_abd_dict, match_dict)\n",
    "# generate table\n",
    "table_generator = glycan_profile.MotifAbdTableGenerator(glycoprofile_list)\n",
    "motif_abd_table = table_generator.table_against_wt_relative_abd()\n",
    "\n",
    "# motif_abd_table.head()\n",
    "# load motif vector and return edge_list\n",
    "# motif_vector = json_utility.load_json(\"../generated_json_file/Unicarbkb_motif_vec_12259.json\")\n",
    "# motif_lib = gc_glycan_motif.GlycanMotifLib(motif_dict)\n",
    "motif_lib = motif_class.MotifLabNGlycan(json_utility.load_json(__init__.merged_motif_dict_addr)) # unicarbkb_motifs_12259.json\n",
    "tree_type_dp, edge_list = motif_lib.motif_dependence_tree()\n",
    "dropper = motif_class.NodesDropper(motif_lib, motif_class.get_weight_dict(motif_abd_table))\n",
    "# hier_enrich_glycoprofile_occurence(glycoprofile, scoredMotifs_occurence_vector, np.array(edge_list),motif_vector)"
   ]
  },
  {
   "cell_type": "code",
   "execution_count": 5,
   "metadata": {
    "collapsed": false
   },
   "outputs": [
    {
     "data": {
      "text/plain": [
       "<module 'clustering_analysis_pip' from '/Users/apple/PycharmProjects/GlyCompare/src/clustering_analysis_pip.py'>"
      ]
     },
     "execution_count": 5,
     "metadata": {},
     "output_type": "execute_result"
    }
   ],
   "source": [
    "reload(__init__)\n",
    "reload(extract_motif)\n",
    "reload(motif_class)\n",
    "reload(glycan_profile)\n",
    "reload(plot_glycan_utilities)\n",
    "reload(clustering_analysis_pip)"
   ]
  },
  {
   "cell_type": "code",
   "execution_count": 3,
   "metadata": {
    "collapsed": false
   },
   "outputs": [
    {
     "name": "stdout",
     "output_type": "stream",
     "text": [
      "start building ncore_dependence_tree\n"
     ]
    }
   ],
   "source": [
    "dropper = motif_class.NodesDropper(motif_lib, motif_class.get_weight_dict(motif_abd_table))"
   ]
  },
  {
   "cell_type": "code",
   "execution_count": 1,
   "metadata": {
    "collapsed": false,
    "scrolled": false
   },
   "outputs": [
    {
     "ename": "NameError",
     "evalue": "name 'dropper' is not defined",
     "output_type": "error",
     "traceback": [
      "\u001b[0;31m---------------------------------------------------------------------------\u001b[0m",
      "\u001b[0;31mNameError\u001b[0m                                 Traceback (most recent call last)",
      "\u001b[0;32m<ipython-input-1-11a099707250>\u001b[0m in \u001b[0;36m<module>\u001b[0;34m()\u001b[0m\n\u001b[1;32m      1\u001b[0m \u001b[0;32mimport\u001b[0m \u001b[0mseaborn\u001b[0m \u001b[0;32mas\u001b[0m \u001b[0msns\u001b[0m\u001b[0;34m\u001b[0m\u001b[0m\n\u001b[1;32m      2\u001b[0m \u001b[0;31m# sns.set(\"RdBu_r\", 7)\u001b[0m\u001b[0;34m\u001b[0m\u001b[0;34m\u001b[0m\u001b[0m\n\u001b[0;32m----> 3\u001b[0;31m \u001b[0mdropper\u001b[0m\u001b[0;34m.\u001b[0m\u001b[0mdrop_node\u001b[0m\u001b[0;34m(\u001b[0m\u001b[0;34m)\u001b[0m\u001b[0;34m\u001b[0m\u001b[0m\n\u001b[0m\u001b[1;32m      4\u001b[0m \u001b[0mprint\u001b[0m\u001b[0;34m(\u001b[0m\u001b[0;34m\"\"\u001b[0m\u001b[0;34m,\u001b[0m \u001b[0mlen\u001b[0m\u001b[0;34m(\u001b[0m\u001b[0mdropper\u001b[0m\u001b[0;34m.\u001b[0m\u001b[0mdrop_node\u001b[0m\u001b[0;34m(\u001b[0m\u001b[0;34m)\u001b[0m\u001b[0;34m)\u001b[0m\u001b[0;34m)\u001b[0m\u001b[0;34m\u001b[0m\u001b[0m\n\u001b[1;32m      5\u001b[0m \u001b[0mdf_ncore\u001b[0m \u001b[0;34m=\u001b[0m \u001b[0mmotif_abd_table\u001b[0m\u001b[0;34m[\u001b[0m\u001b[0mmotif_abd_table\u001b[0m\u001b[0;34m.\u001b[0m\u001b[0mindex\u001b[0m\u001b[0;34m.\u001b[0m\u001b[0misin\u001b[0m\u001b[0;34m(\u001b[0m\u001b[0mdropper\u001b[0m\u001b[0;34m.\u001b[0m\u001b[0mnodes_kept\u001b[0m\u001b[0;34m)\u001b[0m\u001b[0;34m]\u001b[0m\u001b[0;34m\u001b[0m\u001b[0m\n",
      "\u001b[0;31mNameError\u001b[0m: name 'dropper' is not defined"
     ]
    }
   ],
   "source": [
    "import seaborn as sns\n",
    "# sns.set(\"RdBu_r\", 7)\n",
    "dropper.drop_node()\n",
    "print(\"\", len(dropper.drop_node()))\n",
    "df_ncore = motif_abd_table[motif_abd_table.index.isin(dropper.nodes_kept)]\n",
    "# draw plot\n",
    "# motif_with_n_glycan_core_all_motif(motif_, _table, weight_dict)\n",
    "\"\"\" with n_glycan_core using jaccard for binary and use braycurtis for float\n",
    "\"\"\"\n",
    "df_ncore.to_csv(__init__.json_address + r\"abundance_matrix.txt\")\n",
    "name_prefix = 'dropped'\n",
    "# sns.palplot(sns.color_palette(\"RdBu_r\", 7))\n",
    "g = sns.clustermap(df_ncore.T, metric=\"braycurtis\",method='single',cmap=sns.diverging_palette(247,10,99,54,1,20),linewidths=.01,figsize=(20,20),linecolor='black')\n",
    "draw_profile_cluster(g, df_ncore, __init__.aaa, name_prefix, color_threshold=0.95)\n",
    "cccluster_dict = draw_motif_cluster(g, df_ncore, name_prefix, color_threshold=0.23)\n"
   ]
  },
  {
   "cell_type": "code",
   "execution_count": 8,
   "metadata": {
    "collapsed": false
   },
   "outputs": [
    {
     "data": {
      "image/png": "[encoded data removed]",
      "text/plain": [
       "<Figure size 900x100 with 1 Axes>"
      ]
     },
     "metadata": {},
     "output_type": "display_data"
    }
   ],
   "source": [
    "sns.choose_diverging_palette()"
   ]
  },
  {
   "cell_type": "code",
   "execution_count": null,
   "metadata": {
    "collapsed": true
   },
   "outputs": [],
   "source": [
    "247,10,99,33,1,10"
   ]
  },
  {
   "cell_type": "code",
   "execution_count": 25,
   "metadata": {
    "collapsed": false
   },
   "outputs": [
    {
     "data": {
      "text/plain": [
       "0.0073143129341400812"
      ]
     },
     "execution_count": 25,
     "metadata": {},
     "output_type": "execute_result"
    }
   ],
   "source": [
    "import numpy as np\n",
    "from scipy import stats\n",
    "a = np.array([1,2,3,4,5,6,7,8,9,0])\n",
    "a.mean()\n",
    "a.var()\n",
    "tt = (1-a.mean())/np.sqrt(a.var()/8)\n",
    "stats.t.sf(np.abs(tt), len(a)-1)*2"
   ]
  },
  {
   "cell_type": "code",
   "execution_count": 28,
   "metadata": {
    "collapsed": false
   },
   "outputs": [],
   "source": [
    "from scipy.cluster import hierarchy\n",
    "ytdist = np.array([662., 877., 255., 412., 996., 295., 468., 268.,400., 754., 564., 138., 219., 869., 669.])\n",
    "Z = hierarchy.linkage(ytdist, 'single')"
   ]
  },
  {
   "cell_type": "markdown",
   "metadata": {
    "collapsed": true
   },
   "source": [
    "# Table Existance"
   ]
  },
  {
   "cell_type": "code",
   "execution_count": 13,
   "metadata": {
    "collapsed": false
   },
   "outputs": [
    {
     "ename": "IndexError",
     "evalue": "in the future, 0-d boolean arrays will be interpreted as a valid boolean index",
     "output_type": "error",
     "traceback": [
      "\u001b[0;31m---------------------------------------------------------------------------\u001b[0m",
      "\u001b[0;31mIndexError\u001b[0m                                Traceback (most recent call last)",
      "\u001b[0;32m<ipython-input-13-40320608df66>\u001b[0m in \u001b[0;36m<module>\u001b[0;34m()\u001b[0m\n\u001b[1;32m      8\u001b[0m \u001b[0mmotif_hierarchy\u001b[0m \u001b[0;34m=\u001b[0m \u001b[0mnp\u001b[0m\u001b[0;34m.\u001b[0m\u001b[0marray\u001b[0m\u001b[0;34m(\u001b[0m\u001b[0medge_list\u001b[0m\u001b[0;34m)\u001b[0m\u001b[0;34m\u001b[0m\u001b[0m\n\u001b[1;32m      9\u001b[0m \u001b[0mmotif_vec\u001b[0m\u001b[0;34m=\u001b[0m \u001b[0mmotif_lib\u001b[0m\u001b[0;34m.\u001b[0m\u001b[0mmotif_vec\u001b[0m\u001b[0;34m\u001b[0m\u001b[0m\n\u001b[0;32m---> 10\u001b[0;31m \u001b[0mhierarchical_enrichment\u001b[0m\u001b[0;34m.\u001b[0m\u001b[0mhier_enrich_glycoprofile_occurence\u001b[0m\u001b[0;34m(\u001b[0m\u001b[0mglycoprofile_list\u001b[0m\u001b[0;34m,\u001b[0m \u001b[0mscoredMotifs_occurence_vector\u001b[0m\u001b[0;34m,\u001b[0m \u001b[0mnp\u001b[0m\u001b[0;34m.\u001b[0m\u001b[0marray\u001b[0m\u001b[0;34m(\u001b[0m\u001b[0medge_list\u001b[0m\u001b[0;34m)\u001b[0m\u001b[0;34m,\u001b[0m \u001b[0mmotif_vec\u001b[0m\u001b[0;34m)\u001b[0m\u001b[0;34m\u001b[0m\u001b[0m\n\u001b[0m",
      "\u001b[0;32m~/PycharmProjects/GlyCompare/src/hierarchical_enrichment.py\u001b[0m in \u001b[0;36mhier_enrich_glycoprofile_occurence\u001b[0;34m(glycoprofile, scoredMotifs_occurence_vector, motif_hierarchy, motif_vector, method, relative)\u001b[0m\n\u001b[1;32m     84\u001b[0m     \u001b[0;32mfor\u001b[0m \u001b[0mmotif\u001b[0m \u001b[0;32min\u001b[0m \u001b[0mmotif_vector\u001b[0m\u001b[0;34m:\u001b[0m\u001b[0;34m\u001b[0m\u001b[0m\n\u001b[1;32m     85\u001b[0m         \u001b[0;31m# get the child of this motif\u001b[0m\u001b[0;34m\u001b[0m\u001b[0;34m\u001b[0m\u001b[0m\n\u001b[0;32m---> 86\u001b[0;31m         \u001b[0mchildren\u001b[0m \u001b[0;34m=\u001b[0m \u001b[0mget_relative\u001b[0m\u001b[0;34m(\u001b[0m\u001b[0mmotif\u001b[0m\u001b[0;34m,\u001b[0m \u001b[0mmotif_hierarchy\u001b[0m\u001b[0;34m,\u001b[0m \u001b[0mdir\u001b[0m\u001b[0;34m=\u001b[0m\u001b[0mrelative\u001b[0m\u001b[0;34m)\u001b[0m\u001b[0;34m\u001b[0m\u001b[0m\n\u001b[0m\u001b[1;32m     87\u001b[0m         \u001b[0mchild_p\u001b[0m \u001b[0;34m=\u001b[0m \u001b[0;34m[\u001b[0m\u001b[0;34m]\u001b[0m\u001b[0;34m\u001b[0m\u001b[0m\n\u001b[1;32m     88\u001b[0m         \u001b[0;32mfor\u001b[0m \u001b[0mchild\u001b[0m \u001b[0;32min\u001b[0m \u001b[0mchildren\u001b[0m\u001b[0;34m:\u001b[0m\u001b[0;34m\u001b[0m\u001b[0m\n",
      "\u001b[0;32m~/PycharmProjects/GlyCompare/src/hierarchical_enrichment.py\u001b[0m in \u001b[0;36mget_relative\u001b[0;34m(m, mh, dir)\u001b[0m\n\u001b[1;32m     26\u001b[0m \u001b[0;32mdef\u001b[0m \u001b[0mget_relative\u001b[0m\u001b[0;34m(\u001b[0m\u001b[0mm\u001b[0m\u001b[0;34m,\u001b[0m \u001b[0mmh\u001b[0m\u001b[0;34m,\u001b[0m \u001b[0mdir\u001b[0m\u001b[0;34m=\u001b[0m\u001b[0;34m'child'\u001b[0m\u001b[0;34m)\u001b[0m\u001b[0;34m:\u001b[0m\u001b[0;34m\u001b[0m\u001b[0m\n\u001b[1;32m     27\u001b[0m     \u001b[0;32mif\u001b[0m \u001b[0mdir\u001b[0m \u001b[0;34m==\u001b[0m \u001b[0;34m'child'\u001b[0m\u001b[0;34m:\u001b[0m\u001b[0;34m\u001b[0m\u001b[0m\n\u001b[0;32m---> 28\u001b[0;31m         \u001b[0;32mreturn\u001b[0m \u001b[0mmh\u001b[0m\u001b[0;34m[\u001b[0m\u001b[0mmh\u001b[0m\u001b[0;34m[\u001b[0m\u001b[0;34m:\u001b[0m\u001b[0;34m,\u001b[0m \u001b[0;36m0\u001b[0m\u001b[0;34m]\u001b[0m \u001b[0;34m==\u001b[0m \u001b[0mm\u001b[0m\u001b[0;34m,\u001b[0m \u001b[0;36m1\u001b[0m\u001b[0;34m]\u001b[0m\u001b[0;34m\u001b[0m\u001b[0m\n\u001b[0m\u001b[1;32m     29\u001b[0m     \u001b[0;32melif\u001b[0m \u001b[0mdir\u001b[0m \u001b[0;34m==\u001b[0m \u001b[0;34m'parent'\u001b[0m\u001b[0;34m:\u001b[0m\u001b[0;34m\u001b[0m\u001b[0m\n\u001b[1;32m     30\u001b[0m         \u001b[0;32mreturn\u001b[0m \u001b[0mmh\u001b[0m\u001b[0;34m[\u001b[0m\u001b[0mmh\u001b[0m\u001b[0;34m[\u001b[0m\u001b[0;34m:\u001b[0m\u001b[0;34m,\u001b[0m \u001b[0;36m1\u001b[0m\u001b[0;34m]\u001b[0m \u001b[0;34m==\u001b[0m \u001b[0mm\u001b[0m\u001b[0;34m,\u001b[0m \u001b[0;36m0\u001b[0m\u001b[0;34m]\u001b[0m\u001b[0;34m\u001b[0m\u001b[0m\n",
      "\u001b[0;31mIndexError\u001b[0m: in the future, 0-d boolean arrays will be interpreted as a valid boolean index"
     ]
    }
   ],
   "source": [
    "motif_exist_table = table_generator.table_existance()\n",
    "# motif_lib = motif_class.MotifLabNGlycan(json_utility.load_json(__init__.merged_motif_dict_addr)) # unicarbkb_motifs_12259.json\n",
    "# tree_type_dp, edge_list = motif_lib.motif_dependence_tree()\n",
    "import hierarchical_enrichment\n",
    "scoredMotifs_occurence_vector=[sum(i) for i in np.array(motif_exist_table)]\n",
    "method='chi_squared'\n",
    "relative='child'\n",
    "motif_hierarchy = np.array(edge_list)\n",
    "motif_vec= motif_lib.motif_vec\n",
    "hierarchical_enrichment.hier_enrich_glycoprofile_occurence(glycoprofile_list, scoredMotifs_occurence_vector, np.array(edge_list), motif_vec)\n"
   ]
  },
  {
   "cell_type": "code",
   "execution_count": 14,
   "metadata": {
    "collapsed": false
   },
   "outputs": [
    {
     "data": {
      "text/plain": [
       "array([[  51,   77],\n",
       "       [  51,   84],\n",
       "       [  51,   94],\n",
       "       ..., \n",
       "       [1684, 1694],\n",
       "       [1685, 1694],\n",
       "       [1686, 1694]])"
      ]
     },
     "execution_count": 14,
     "metadata": {},
     "output_type": "execute_result"
    }
   ],
   "source": [
    "motif_hierarchy"
   ]
  },
  {
   "cell_type": "code",
   "execution_count": 10,
   "metadata": {
    "collapsed": false
   },
   "outputs": [
    {
     "ename": "NameError",
     "evalue": "name 'motif_exist_table' is not defined",
     "output_type": "error",
     "traceback": [
      "\u001b[0;31m---------------------------------------------------------------------------\u001b[0m",
      "\u001b[0;31mNameError\u001b[0m                                 Traceback (most recent call last)",
      "\u001b[0;32m<ipython-input-10-5c807fc1965e>\u001b[0m in \u001b[0;36m<module>\u001b[0;34m()\u001b[0m\n\u001b[0;32m----> 1\u001b[0;31m \u001b[0mmotif_exist_table\u001b[0m\u001b[0;34m\u001b[0m\u001b[0m\n\u001b[0m",
      "\u001b[0;31mNameError\u001b[0m: name 'motif_exist_table' is not defined"
     ]
    }
   ],
   "source": [
    "motif_exist_table"
   ]
  },
  {
   "cell_type": "code",
   "execution_count": null,
   "metadata": {
    "collapsed": true
   },
   "outputs": [],
   "source": []
  },
  {
   "cell_type": "code",
   "execution_count": null,
   "metadata": {
    "collapsed": true
   },
   "outputs": [],
   "source": []
  },
  {
   "cell_type": "code",
   "execution_count": null,
   "metadata": {
    "collapsed": true
   },
   "outputs": [],
   "source": []
  }
 ],
 "metadata": {
  "anaconda-cloud": {},
  "kernelspec": {
   "display_name": "Python [anaconda3]",
   "language": "python",
   "name": "Python [anaconda3]"
  },
  "language_info": {
   "codemirror_mode": {
    "name": "ipython",
    "version": 3
   },
   "file_extension": ".py",
   "mimetype": "text/x-python",
   "name": "python",
   "nbconvert_exporter": "python",
   "pygments_lexer": "ipython3",
   "version": "3.5.2"
  }
 },
 "nbformat": 4,
 "nbformat_minor": 0
}
