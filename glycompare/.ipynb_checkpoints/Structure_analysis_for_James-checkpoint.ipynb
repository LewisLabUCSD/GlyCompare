{
 "cells": [
  {
   "cell_type": "code",
   "execution_count": 1,
   "metadata": {
    "collapsed": true
   },
   "outputs": [],
   "source": [
    "import glycan_io"
   ]
  },
  {
   "cell_type": "code",
   "execution_count": 3,
   "metadata": {
    "collapsed": false
   },
   "outputs": [],
   "source": [
    "x = glycan_io.load_glytoucan_database()"
   ]
  },
  {
   "cell_type": "code",
   "execution_count": null,
   "metadata": {
    "collapsed": true
   },
   "outputs": [],
   "source": [
    "name_list = [\"G70073SG\",\n",
    "\"G14576KZ\",\n",
    "\"G88876JQ\",\n",
    "\"G65984FE\",\n",
    "\"G03652TR\",\n",
    "\"G36859SD\",\n",
    "\"G44754DF\",\n",
    "\"G53582JE\",\n",
    "\"G29024OJ\",\n",
    "\"G66741YQ\",\n",
    "\"G00998NI\",\n",
    "\"G68318SH\",\n",
    "\"G33685ZQ\",\n",
    "\"G88495BI\",\n",
    "\"G90889KG\"]"
   ]
  }
 ],
 "metadata": {
  "kernelspec": {
   "display_name": "Python [anaconda3]",
   "language": "python",
   "name": "Python [anaconda3]"
  },
  "language_info": {
   "codemirror_mode": {
    "name": "ipython",
    "version": 3
   },
   "file_extension": ".py",
   "mimetype": "text/x-python",
   "name": "python",
   "nbconvert_exporter": "python",
   "pygments_lexer": "ipython3",
   "version": "3.5.2"
  }
 },
 "nbformat": 4,
 "nbformat_minor": 0
}
