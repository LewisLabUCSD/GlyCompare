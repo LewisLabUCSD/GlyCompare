{
 "cells": [
  {
   "cell_type": "code",
   "execution_count": 2,
   "metadata": {},
   "outputs": [],
   "source": [
    "import glycompare\n",
    "import glypy"
   ]
  },
  {
   "cell_type": "code",
   "execution_count": null,
   "metadata": {},
   "outputs": [],
   "source": [
    "glycompare.extract_substructures"
   ]
  },
  {
   "cell_type": "code",
   "execution_count": 7,
   "metadata": {},
   "outputs": [],
   "source": [
    "from glypy.io import glycoct, wurcs\n",
    "\n"
   ]
  },
  {
   "cell_type": "code",
   "execution_count": 25,
   "metadata": {},
   "outputs": [
    {
     "data": {
      "text/plain": [
       "RES\n",
       "1b:b-dglc-HEX-1:5\n",
       "2s:n-acetyl\n",
       "3b:b-dglc-HEX-1:5\n",
       "4s:n-acetyl\n",
       "5b:b-dman-HEX-1:5\n",
       "6b:a-dman-HEX-1:5\n",
       "7b:b-dglc-HEX-1:5\n",
       "8s:n-acetyl\n",
       "9b:b-dgal-HEX-1:5\n",
       "10b:a-dman-HEX-1:5\n",
       "11b:a-lgal-HEX-1:5|6:d\n",
       "LIN\n",
       "1:1d(2+1)2n\n",
       "2:1o(4+1)3d\n",
       "3:3d(2+1)4n\n",
       "4:3o(4+1)5d\n",
       "5:5o(3+1)6d\n",
       "6:6o(2+1)7d\n",
       "7:7d(2+1)8n\n",
       "8:7o(3+1)9d\n",
       "9:5o(6+1)10d\n",
       "10:1o(6+1)11d"
      ]
     },
     "execution_count": 25,
     "metadata": {},
     "output_type": "execute_result"
    }
   ],
   "source": [
    "a_glycan = glycoct.loads(\n",
    "\"\"\"RES\n",
    "1b:b-dglc-HEX-1:5\n",
    "2s:n-acetyl\n",
    "3b:b-dglc-HEX-1:5\n",
    "4s:n-acetyl\n",
    "5b:b-dman-HEX-1:5\n",
    "6b:a-dman-HEX-1:5\n",
    "7b:a-dman-HEX-1:5\n",
    "8b:a-lgal-HEX-1:5|6:d\n",
    "LIN\n",
    "1:1d(2+1)2n\n",
    "2:1o(4+1)3d\n",
    "3:3d(2+1)4n\n",
    "4:3o(4+1)5d\n",
    "5:5o(3+1)6d\n",
    "6:5o(6+1)7d\n",
    "7:1o(6+1)8d\n",
    "UND\n",
    "UND1:100.0:100.0\n",
    "ParentIDs:6|7|8\n",
    "SubtreeLinkageID1:o(2+1)d\n",
    "RES\n",
    "9b:b-dglc-HEX-1:5\n",
    "10s:n-acetyl\n",
    "11b:b-dgal-HEX-1:5\n",
    "LIN\n",
    "8:9d(2+1)10n\n",
    "9:9o(3+1)11d\n",
    "\"\"\")\n",
    "a_glycan"
   ]
  },
  {
   "cell_type": "code",
   "execution_count": 22,
   "metadata": {},
   "outputs": [
    {
     "data": {
      "text/plain": [
       "(RES 1b:b-dglc-HEX-1:5 2s:n-acetyl LIN 1:1d(2+1)2n: id=1  x=3.061616997868383e-17 mod=0,\n",
       " <matplotlib.axes._subplots.AxesSubplot at 0x1a23306a90>)"
      ]
     },
     "execution_count": 22,
     "metadata": {},
     "output_type": "execute_result"
    },
    {
     "data": {
      "image/png": "[encoded data removed]",
      "text/plain": [
       "<Figure size 432x288 with 1 Axes>"
      ]
     },
     "metadata": {
      "needs_background": "light"
     },
     "output_type": "display_data"
    }
   ],
   "source": [
    "glycompare.plot_glycan_utilities.plot_glycan(a_glycan)"
   ]
  },
  {
   "cell_type": "code",
   "execution_count": null,
   "metadata": {},
   "outputs": [],
   "source": []
  }
 ],
 "metadata": {
  "kernelspec": {
   "display_name": "Python 3",
   "language": "python",
   "name": "python3"
  },
  "language_info": {
   "codemirror_mode": {
    "name": "ipython",
    "version": 3
   },
   "file_extension": ".py",
   "mimetype": "text/x-python",
   "name": "python",
   "nbconvert_exporter": "python",
   "pygments_lexer": "ipython3",
   "version": "3.7.3"
  }
 },
 "nbformat": 4,
 "nbformat_minor": 2
}
