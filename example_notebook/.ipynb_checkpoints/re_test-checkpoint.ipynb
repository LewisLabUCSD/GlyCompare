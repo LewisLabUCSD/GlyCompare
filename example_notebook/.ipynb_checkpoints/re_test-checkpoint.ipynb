{
 "cells": [
  {
   "cell_type": "code",
   "execution_count": 5,
   "metadata": {
    "collapsed": false
   },
   "outputs": [
    {
     "name": "stdout",
     "output_type": "stream",
     "text": [
      "\n",
      "### An abundance table (1.1) is necessary to run the full GlyCompare pipeline:\n",
      "    The abundance_table have column: sample (glycoprofile), row: glycan (the glycan identifier can be glytoucan_id, or custimized: m/z, hplc)\n",
      "    1.1. abundance_table.xls\n",
      "\n",
      "    Glycompare defaults to index names for each sample (e.g. 1,2,3). If you want to specify a name for each sample use:\n",
      "    1.2. (optional) external_profile_naming.json\n",
      "\n",
      "    If the glycan identifiers in abundance_table.xls are not glytoucan_id (if uses m/z or costumized). See 2.4.\n",
      "    1.3. (optional) glycan_identifier_to_glytoucan_id.json\n",
      "\n",
      "\n",
      "### There are several parameter should be set up first\n",
      "    2.1. working_addr : root working dir\n",
      "\n",
      "    2.2. project_name: usually same as the folder of root\n",
      "\n",
      "    2.3. __init__.num_processors: number of processes needed\n",
      "\n",
      "    2.4. complex_naming: \n",
      "        True if they use the mz, hplc naming or self-created naming rather than glytoucan_id in abundance table.\n",
      "        \n",
      "    2.5. complex_profile: \n",
      "        False, if glycan identifiers in abundance_table.xls is not glytoucan_id.\n",
      "        \n",
      "        True, if a glycan identifier, for example m/z, in abundance_table.xls has isomers, the m/z-structure matching \n",
      "        must be specified in glycan_identifier_to_glytoucan_id.json (1.3)\n",
      "        \n",
      "    #    glycan_profile['5'] = {\n",
      "    #         \"2244\": \"G04483SK\",\n",
      "    #         \"2605\": \"G30460NZ\",\n",
      "    #         \"2967\": \"G17689DH\",\n",
      "    #         \"3416\": \"3416.1\",\n",
      "    #     }\n",
      "    #    glycan_profile['6'] = {\n",
      "    #         \"1591\": \"G07483YN\",\n",
      "    #         \"1836\": \"G80858MF\",\n",
      "    #         \"2081\": \"G80393PG\",\n",
      "    #         \"2326\": \"G00176HZ\",\n",
      "    #         \"2530\": \"G79457WN\",\n",
      "    #         \"2892\": \"G79412GP\",\n",
      "    #         \"3096\": \"G40242TG\", \n",
      "    #         \"3457\": \"3457.1\",\n",
      "    #         \"3777\": \"G76812VG\",\n",
      "    #         \"4022\": \"G80264ZA\",\n",
      "    #         \"4226\": \"G86696LV\",\n",
      "    #         \"4587\": \"4587.1\",\n",
      "    #         \"5037\": \"G49604DB\",\n",
      "    #     }\n",
      "        False, if there is no ambiguity between abundance table index and glycan structure ID.\n",
      "\n",
      "    \n",
      "    2.6. external_profile_naming: as 1.2.\n",
      "        True, \n",
      "        False\n",
      "\n",
      "    2.7. structure_loader: for loading glytoucan id, could be:\n",
      "        list of glycan_id\n",
      "        glycan_dict\n",
      "\n",
      "    2.8. glytoucan_db_addr: the addr for glytoucan database if needed\n",
      "\n",
      "    # meta_name: a gff type table which includes glycan's naming information\n",
      "\n",
      "\n"
     ]
    }
   ],
   "source": [
    "import os\n",
    "from importlib import reload\n",
    "\n",
    "import pandas as pd\n",
    "import seaborn as sns\n",
    "\n",
    "import glycompare\n",
    "import matplotlib.pyplot as plt\n",
    "from copy import deepcopy\n",
    "# reload(pipeline_functions)\n",
    "%matplotlib inline"
   ]
  },
  {
   "cell_type": "code",
   "execution_count": 8,
   "metadata": {
    "collapsed": false
   },
   "outputs": [
    {
     "name": "stdout",
     "output_type": "stream",
     "text": [
      "/Users/apple/anaconda3/lib/python3.5/site-packages/glycompare\n"
     ]
    }
   ],
   "source": [
    "import glycompare\n",
    "path = os.path.dirname(glycompare.__file__)\n",
    "print(path)\n",
    "glytoucan_db_addr = os.path.join(path,'database', 'glytoucan_database.json')\n",
    "# __init__.num_processors = 4\n",
    "# __init__.exact_Ture = False\n",
    "linkage_specific = False\n",
    "num\n",
    "# project parameter\n",
    "working_addr = '/Users/apple/PycharmProjects/GlyCompare/example_data/paper_epo/'\n",
    "project_name = \"paper_epo\"\n",
    "costumized_glycan_identifier = True\n",
    "external_profile_naming= True\n",
    "\n",
    "# initiator\n",
    "keywords_dict = pipeline_functions.load_para_keywords(project_name, working_addr, glytoucan_db_addr=glytoucan_db_addr)\n",
    "keywords_dict"
   ]
  },
  {
   "cell_type": "code",
   "execution_count": null,
   "metadata": {
    "collapsed": true
   },
   "outputs": [],
   "source": []
  }
 ],
 "metadata": {
  "kernelspec": {
   "display_name": "Python [anaconda3]",
   "language": "python",
   "name": "Python [anaconda3]"
  },
  "language_info": {
   "codemirror_mode": {
    "name": "ipython",
    "version": 3
   },
   "file_extension": ".py",
   "mimetype": "text/x-python",
   "name": "python",
   "nbconvert_exporter": "python",
   "pygments_lexer": "ipython3",
   "version": "3.5.6"
  }
 },
 "nbformat": 4,
 "nbformat_minor": 0
}
