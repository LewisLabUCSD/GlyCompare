{
 "cells": [
  {
   "cell_type": "code",
   "execution_count": 9,
   "metadata": {
    "collapsed": false
   },
   "outputs": [],
   "source": [
    "import os\n",
    "from importlib import reload\n",
    "\n",
    "import pandas as pd\n",
    "import seaborn as sns\n",
    "\n",
    "from glycompare import *\n",
    "import matplotlib.pyplot as plt\n",
    "from copy import deepcopy\n",
    "# reload(pipeline_functions)\n",
    "%matplotlib inline"
   ]
  },
  {
   "cell_type": "code",
   "execution_count": 11,
   "metadata": {
    "collapsed": false
   },
   "outputs": [
    {
     "name": "stdout",
     "output_type": "stream",
     "text": [
      "/Users/apple/anaconda3/lib/python3.5/site-packages/glycompare\n"
     ]
    },
    {
     "data": {
      "text/plain": [
       "{'external_profile_naming': False,\n",
       " 'external_profile_naming_addr': '/Users/apple/PycharmProjects/GlyCompare/example_data/check_epo/source_data/external_profile_naming.json',\n",
       " 'glycan_dict_addr': '/Users/apple/PycharmProjects/GlyCompare/example_data/check_epo/intermediate_file/paper_epo_glycan_dict.json',\n",
       " 'glycan_motif_dict_addr': '/Users/apple/PycharmProjects/GlyCompare/example_data/check_epo/intermediate_file/paper_epo_glycan_motif_dict.json',\n",
       " 'glycoct_dir': '/Users/apple/PycharmProjects/GlyCompare/example_data/check_epo/source_data/glycoct/',\n",
       " 'glycoprofile_list_addr': '/Users/apple/PycharmProjects/GlyCompare/example_data/check_epo/intermediate_file/paper_epo_glycoprofile_list.json',\n",
       " 'glytoucan_db_addr': '/Users/apple/anaconda3/lib/python3.5/site-packages/glycompare/database/glytoucan_database.json',\n",
       " 'intermediate_dir': '/Users/apple/PycharmProjects/GlyCompare/example_data/check_epo/intermediate_file/',\n",
       " 'matched_dict_addr': '/Users/apple/PycharmProjects/GlyCompare/example_data/check_epo/intermediate_file/paper_epo_matched_dict.json',\n",
       " 'motif_abd_table_addr': '/Users/apple/PycharmProjects/GlyCompare/example_data/check_epo/intermediate_file/paper_epo_motif_abd_table.csv',\n",
       " 'motif_dict_addr': '/Users/apple/PycharmProjects/GlyCompare/example_data/check_epo/intermediate_file/paper_epo_motif_dict.json',\n",
       " 'name_to_id_addr': '/Users/apple/PycharmProjects/GlyCompare/example_data/check_epo/source_data/glycan_identifier_to_glytoucan_id.json',\n",
       " 'plot_output_dir': '/Users/apple/PycharmProjects/GlyCompare/example_data/check_epo/output_plot/',\n",
       " 'project_name': 'paper_epo',\n",
       " 'simple_naming': False,\n",
       " 'simple_profile': False,\n",
       " 'source_dir': '/Users/apple/PycharmProjects/GlyCompare/example_data/check_epo/source_data/',\n",
       " 'substructure_abd_table_addr': '/Users/apple/PycharmProjects/GlyCompare/example_data/check_epo/intermediate_file/paper_epo_substructure_abd_table.csv',\n",
       " 'working_addr': '/Users/apple/PycharmProjects/GlyCompare/example_data/check_epo/'}"
      ]
     },
     "execution_count": 11,
     "metadata": {},
     "output_type": "execute_result"
    }
   ],
   "source": [
    "import glycompare\n",
    "path = \"/Users/apple/PycharmProjects/GlyCompare/glycompare/\"\n",
    "print(path)\n",
    "glytoucan_db_addr = os.path.join(path,'database', 'glytoucan_database.json')\n",
    "# __init__.num_processors = 4\n",
    "# __init__.exact_Ture = False\n",
    "linkage_specific = False\n",
    "\n",
    "# project parameter\n",
    "working_addr = '/Users/apple/PycharmProjects/GlyCompare/example_data/check_epo/'\n",
    "project_name = \"paper_epo\"\n",
    "costumized_glycan_identifier = True\n",
    "external_profile_naming= True\n",
    "\n",
    "# initiator\n",
    "keywords_dict = pipeline_functions.load_para_keywords(project_name, working_addr, glytoucan_db_addr=glytoucan_db_addr)\n",
    "keywords_dict"
   ]
  },
  {
   "cell_type": "code",
   "execution_count": 12,
   "metadata": {
    "collapsed": false
   },
   "outputs": [
    {
     "name": "stdout",
     "output_type": "stream",
     "text": [
      "Check if the required files exist\n",
      "files doesn't exist /Users/apple/PycharmProjects/GlyCompare/example_data/check_epo/intermediate_file/\n",
      "created /Users/apple/PycharmProjects/GlyCompare/example_data/check_epo/intermediate_file/\n",
      "created /Users/apple/PycharmProjects/GlyCompare/example_data/check_epo/output_plot/\n",
      "Check if the required files exist\n",
      "files checked\n",
      "Successfully created the directory need, please add the source file is the directory\n"
     ]
    }
   ],
   "source": [
    "pipeline_functions.check_init_dir(keywords_dict)"
   ]
  },
  {
   "cell_type": "code",
   "execution_count": 13,
   "metadata": {
    "collapsed": false
   },
   "outputs": [
    {
     "name": "stdout",
     "output_type": "stream",
     "text": [
      "Check if the required files exist\n",
      "files checked\n",
      "Check if the required files exist\n",
      "files checked\n",
      "Successfully created the directory need, please add the source file is the directory\n",
      "2693.1\n",
      "4675.1\n",
      "3143.1\n",
      "3865.1\n",
      "2693.3\n",
      "5486.1\n",
      "4490.1\n",
      "2693.2\n",
      "3953.1\n",
      "5312.1\n",
      "1754.1\n",
      "3661.1\n",
      "3416.3\n",
      "1417.1\n",
      "2646.1\n",
      "3457.1\n",
      "3212.1\n",
      "4402.1\n",
      "3416.2\n",
      "4587.1\n",
      "4041.1\n",
      "2605.2\n",
      "3055.2\n",
      "3592.1\n",
      "3416.1\n",
      "2967.1\n",
      "2244.1\n",
      "2401.1\n",
      "2605.1\n",
      "3055.1\n",
      "4851.1\n",
      "end loading glycoct from  /Users/apple/PycharmProjects/GlyCompare/example_data/check_epo/source_data/glycoct/\n",
      "loading glytoucan_database from  /Users/apple/anaconda3/lib/python3.5/site-packages/glycompare/database/glytoucan_database.json\n"
     ]
    },
    {
     "ename": "FileNotFoundError",
     "evalue": "[Errno 2] No such file or directory: '/Users/apple/anaconda3/lib/python3.5/site-packages/glycompare/database/glytoucan_database.json'",
     "output_type": "error",
     "traceback": [
      "\u001b[0;31m---------------------------------------------------------------------------\u001b[0m",
      "\u001b[0;31mFileNotFoundError\u001b[0m                         Traceback (most recent call last)",
      "\u001b[0;32m<ipython-input-13-694bdf3904e5>\u001b[0m in \u001b[0;36m<module>\u001b[0;34m()\u001b[0m\n\u001b[1;32m      4\u001b[0m glycan_dict = pipeline_functions.load_glycans_pip(keywords_dict=keywords_dict,\n\u001b[1;32m      5\u001b[0m                                            \u001b[0mdata_type\u001b[0m\u001b[0;34m=\u001b[0m\u001b[0mdata_type\u001b[0m\u001b[0;34m,\u001b[0m\u001b[0;34m\u001b[0m\u001b[0m\n\u001b[0;32m----> 6\u001b[0;31m                                            structure_loader=structure_loader)\n\u001b[0m",
      "\u001b[0;32m~/anaconda3/lib/python3.5/site-packages/glycompare/pipeline_functions.py\u001b[0m in \u001b[0;36mload_glycans_pip\u001b[0;34m(keywords_dict, data_type, structure_loader)\u001b[0m\n\u001b[1;32m    215\u001b[0m             \u001b[0mglycan_dict\u001b[0m \u001b[0;34m=\u001b[0m \u001b[0;34m{\u001b[0m\u001b[0;34m}\u001b[0m\u001b[0;34m\u001b[0m\u001b[0m\n\u001b[1;32m    216\u001b[0m             \u001b[0m_glycoct_glycan_dict\u001b[0m \u001b[0;34m=\u001b[0m \u001b[0mglycan_io\u001b[0m\u001b[0;34m.\u001b[0m\u001b[0mload_glycan_obj_from_glycoct_file\u001b[0m\u001b[0;34m(\u001b[0m\u001b[0mglycoct_dir\u001b[0m\u001b[0;34m)\u001b[0m\u001b[0;34m\u001b[0m\u001b[0m\n\u001b[0;32m--> 217\u001b[0;31m             \u001b[0mprint\u001b[0m\u001b[0;34m(\u001b[0m\u001b[0;34m'end loading glycoct from '\u001b[0m\u001b[0;34m,\u001b[0m \u001b[0mglycoct_dir\u001b[0m\u001b[0;34m)\u001b[0m\u001b[0;34m\u001b[0m\u001b[0m\n\u001b[0m\u001b[1;32m    218\u001b[0m             \u001b[0;31m# print(glycan_dict)\u001b[0m\u001b[0;34m\u001b[0m\u001b[0;34m\u001b[0m\u001b[0m\n\u001b[1;32m    219\u001b[0m             \u001b[0mglytoucan_db\u001b[0m \u001b[0;34m=\u001b[0m \u001b[0mglycan_io\u001b[0m\u001b[0;34m.\u001b[0m\u001b[0mload_glytoucan_database\u001b[0m\u001b[0;34m(\u001b[0m\u001b[0mkeywords_dict\u001b[0m\u001b[0;34m[\u001b[0m\u001b[0;34m'glytoucan_db_addr'\u001b[0m\u001b[0;34m]\u001b[0m\u001b[0;34m)\u001b[0m\u001b[0;34m\u001b[0m\u001b[0m\n",
      "\u001b[0;32m~/anaconda3/lib/python3.5/site-packages/glycompare/glycan_io.py\u001b[0m in \u001b[0;36mload_glytoucan_database\u001b[0;34m(addr)\u001b[0m\n\u001b[1;32m    332\u001b[0m \u001b[0;32mdef\u001b[0m \u001b[0mload_glytoucan_database\u001b[0m\u001b[0;34m(\u001b[0m\u001b[0maddr\u001b[0m\u001b[0;34m)\u001b[0m\u001b[0;34m:\u001b[0m\u001b[0;34m\u001b[0m\u001b[0m\n\u001b[1;32m    333\u001b[0m     \u001b[0mprint\u001b[0m\u001b[0;34m(\u001b[0m\u001b[0;34m'loading glytoucan_database from '\u001b[0m\u001b[0;34m,\u001b[0m \u001b[0maddr\u001b[0m\u001b[0;34m)\u001b[0m\u001b[0;34m\u001b[0m\u001b[0m\n\u001b[0;32m--> 334\u001b[0;31m     \u001b[0;32mreturn\u001b[0m \u001b[0mjson_utility\u001b[0m\u001b[0;34m.\u001b[0m\u001b[0mload_json\u001b[0m\u001b[0;34m(\u001b[0m\u001b[0maddr\u001b[0m\u001b[0;34m)\u001b[0m\u001b[0;34m\u001b[0m\u001b[0m\n\u001b[0m\u001b[1;32m    335\u001b[0m \u001b[0;34m\u001b[0m\u001b[0m\n\u001b[1;32m    336\u001b[0m \u001b[0;34m\u001b[0m\u001b[0m\n",
      "\u001b[0;32m~/anaconda3/lib/python3.5/site-packages/glycompare/json_utility.py\u001b[0m in \u001b[0;36mload_json\u001b[0;34m(address)\u001b[0m\n\u001b[1;32m      8\u001b[0m \u001b[0;34m\u001b[0m\u001b[0m\n\u001b[1;32m      9\u001b[0m \u001b[0;32mdef\u001b[0m \u001b[0mload_json\u001b[0m\u001b[0;34m(\u001b[0m\u001b[0maddress\u001b[0m\u001b[0;34m)\u001b[0m\u001b[0;34m:\u001b[0m\u001b[0;34m\u001b[0m\u001b[0m\n\u001b[0;32m---> 10\u001b[0;31m     \u001b[0;32mwith\u001b[0m \u001b[0mopen\u001b[0m\u001b[0;34m(\u001b[0m\u001b[0maddress\u001b[0m\u001b[0;34m,\u001b[0m \u001b[0;34m'r'\u001b[0m\u001b[0;34m)\u001b[0m \u001b[0;32mas\u001b[0m \u001b[0mf\u001b[0m\u001b[0;34m:\u001b[0m\u001b[0;34m\u001b[0m\u001b[0m\n\u001b[0m\u001b[1;32m     11\u001b[0m         \u001b[0;32mreturn\u001b[0m \u001b[0mjson\u001b[0m\u001b[0;34m.\u001b[0m\u001b[0mload\u001b[0m\u001b[0;34m(\u001b[0m\u001b[0mf\u001b[0m\u001b[0;34m)\u001b[0m\u001b[0;34m\u001b[0m\u001b[0m\n\u001b[1;32m     12\u001b[0m \u001b[0;34m\u001b[0m\u001b[0m\n",
      "\u001b[0;31mFileNotFoundError\u001b[0m: [Errno 2] No such file or directory: '/Users/apple/anaconda3/lib/python3.5/site-packages/glycompare/database/glytoucan_database.json'"
     ]
    }
   ],
   "source": [
    "meta_name = pd.read_csv(os.path.join(working_addr,'source_data','glycan_id_list.txt'), sep='\\t')\n",
    "structure_loader = meta_name['glycan_id'].tolist()\n",
    "data_type = 'mix'\n",
    "glycan_dict = pipeline_functions.load_glycans_pip(keywords_dict=keywords_dict,\n",
    "                                           data_type=data_type, \n",
    "                                           structure_loader=structure_loader)"
   ]
  },
  {
   "cell_type": "code",
   "execution_count": null,
   "metadata": {
    "collapsed": true
   },
   "outputs": [],
   "source": []
  }
 ],
 "metadata": {
  "kernelspec": {
   "display_name": "Python [anaconda3]",
   "language": "python",
   "name": "Python [anaconda3]"
  },
  "language_info": {
   "codemirror_mode": {
    "name": "ipython",
    "version": 3
   },
   "file_extension": ".py",
   "mimetype": "text/x-python",
   "name": "python",
   "nbconvert_exporter": "python",
   "pygments_lexer": "ipython3",
   "version": "3.5.6"
  }
 },
 "nbformat": 4,
 "nbformat_minor": 0
}
