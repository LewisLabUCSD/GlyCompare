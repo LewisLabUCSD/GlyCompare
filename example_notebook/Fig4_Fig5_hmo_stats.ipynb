{
 "cells": [
  {
   "cell_type": "code",
   "execution_count": 1,
   "metadata": {},
   "outputs": [
    {
     "data": {
      "text/plain": [
       "               _                           \n",
       "platform       x86_64-pc-linux-gnu         \n",
       "arch           x86_64                      \n",
       "os             linux-gnu                   \n",
       "system         x86_64, linux-gnu           \n",
       "status                                     \n",
       "major          3                           \n",
       "minor          6.1                         \n",
       "year           2019                        \n",
       "month          07                          \n",
       "day            05                          \n",
       "svn rev        76782                       \n",
       "language       R                           \n",
       "version.string R version 3.6.1 (2019-07-05)\n",
       "nickname       Action of the Toes          "
      ]
     },
     "metadata": {},
     "output_type": "display_data"
    }
   ],
   "source": [
    "version"
   ]
  },
  {
   "cell_type": "code",
   "execution_count": 36,
   "metadata": {},
   "outputs": [
    {
     "data": {
      "text/html": [
       "<ol class=list-inline>\n",
       "\t<li>47</li>\n",
       "\t<li>16</li>\n",
       "</ol>\n"
      ],
      "text/latex": [
       "\\begin{enumerate*}\n",
       "\\item 47\n",
       "\\item 16\n",
       "\\end{enumerate*}\n"
      ],
      "text/markdown": [
       "1. 47\n",
       "2. 16\n",
       "\n",
       "\n"
      ],
      "text/plain": [
       "[1] 47 16"
      ]
     },
     "metadata": {},
     "output_type": "display_data"
    },
    {
     "data": {
      "text/html": [
       "<ol class=list-inline>\n",
       "\t<li>47</li>\n",
       "\t<li>3</li>\n",
       "</ol>\n"
      ],
      "text/latex": [
       "\\begin{enumerate*}\n",
       "\\item 47\n",
       "\\item 3\n",
       "\\end{enumerate*}\n"
      ],
      "text/markdown": [
       "1. 47\n",
       "2. 3\n",
       "\n",
       "\n"
      ],
      "text/plain": [
       "[1] 47  3"
      ]
     },
     "metadata": {},
     "output_type": "display_data"
    }
   ],
   "source": [
    "\n",
    "dim(tmp)\n",
    "dim(annot)"
   ]
  },
  {
   "cell_type": "code",
   "execution_count": 41,
   "metadata": {},
   "outputs": [
    {
     "data": {
      "text/html": [
       "<table>\n",
       "<caption>A data.frame: 6 × 33</caption>\n",
       "<thead>\n",
       "\t<tr><th scope=col>Dataset</th><th scope=col>Pateint.ID</th><th scope=col>DPP</th><th scope=col>X1</th><th scope=col>X4</th><th scope=col>X5</th><th scope=col>X8</th><th scope=col>X13</th><th scope=col>X15</th><th scope=col>X18</th><th scope=col>⋯</th><th scope=col>X113</th><th scope=col>X120</th><th scope=col>X127</th><th scope=col>X141</th><th scope=col>X142</th><th scope=col>X143</th><th scope=col>Secretor</th><th scope=col>scretor_col</th><th scope=col>DPP_col</th><th scope=col>subject_col</th></tr>\n",
       "\t<tr><th scope=col>&lt;int&gt;</th><th scope=col>&lt;fct&gt;</th><th scope=col>&lt;int&gt;</th><th scope=col>&lt;dbl&gt;</th><th scope=col>&lt;dbl&gt;</th><th scope=col>&lt;dbl&gt;</th><th scope=col>&lt;dbl&gt;</th><th scope=col>&lt;dbl&gt;</th><th scope=col>&lt;dbl&gt;</th><th scope=col>&lt;dbl&gt;</th><th scope=col>⋯</th><th scope=col>&lt;dbl&gt;</th><th scope=col>&lt;dbl&gt;</th><th scope=col>&lt;dbl&gt;</th><th scope=col>&lt;dbl&gt;</th><th scope=col>&lt;dbl&gt;</th><th scope=col>&lt;dbl&gt;</th><th scope=col>&lt;lgl&gt;</th><th scope=col>&lt;chr&gt;</th><th scope=col>&lt;chr&gt;</th><th scope=col>&lt;chr&gt;</th></tr>\n",
       "</thead>\n",
       "<tbody>\n",
       "\t<tr><td>1</td><td>L1</td><td> 1</td><td>0.19166973</td><td>0.7856543</td><td>1</td><td>0.06204399</td><td>0.6677340</td><td>0.15944045</td><td>0.2499081</td><td>⋯</td><td>0.05178206</td><td>0.002598289</td><td>0.013227652</td><td>0.0013385124</td><td>0.005012860</td><td>0.0082147919</td><td>TRUE</td><td>black</td><td>#FF0000FF</td><td>#FF0000FF</td></tr>\n",
       "\t<tr><td>1</td><td>L1</td><td> 2</td><td>0.11718214</td><td>0.8259251</td><td>1</td><td>0.06456775</td><td>0.7357523</td><td>0.08697214</td><td>0.3489010</td><td>⋯</td><td>0.04275123</td><td>0.001698292</td><td>0.007511676</td><td>0.0048662595</td><td>0.007250400</td><td>0.0002612757</td><td>TRUE</td><td>black</td><td>#FF3300FF</td><td>#FF0000FF</td></tr>\n",
       "\t<tr><td>1</td><td>L1</td><td> 3</td><td>0.07822616</td><td>0.7939394</td><td>1</td><td>0.07757576</td><td>0.7167775</td><td>0.03228381</td><td>0.5018477</td><td>⋯</td><td>0.04795270</td><td>0.002690318</td><td>0.006001478</td><td>0.0007982262</td><td>0.004050259</td><td>0.0019512195</td><td>TRUE</td><td>black</td><td>#FF6600FF</td><td>#FF0000FF</td></tr>\n",
       "\t<tr><td>1</td><td>L1</td><td> 4</td><td>0.09139850</td><td>0.7912533</td><td>1</td><td>0.09345512</td><td>0.7062061</td><td>0.03405517</td><td>0.5156666</td><td>⋯</td><td>0.05676869</td><td>0.004445923</td><td>0.010555287</td><td>0.0011492862</td><td>0.006986451</td><td>0.0035688362</td><td>TRUE</td><td>black</td><td>#FF9900FF</td><td>#FF0000FF</td></tr>\n",
       "\t<tr><td>1</td><td>L1</td><td> 7</td><td>0.06754382</td><td>0.7672239</td><td>1</td><td>0.07069797</td><td>0.6536746</td><td>0.04064345</td><td>0.5264723</td><td>⋯</td><td>0.07141892</td><td>0.009958095</td><td>0.014689316</td><td>0.0036047402</td><td>0.012165998</td><td>0.0025233182</td><td>TRUE</td><td>black</td><td>#FFCC00FF</td><td>#FF0000FF</td></tr>\n",
       "\t<tr><td>1</td><td>L1</td><td>14</td><td>0.08962425</td><td>0.7456007</td><td>1</td><td>0.10180919</td><td>0.6507500</td><td>0.03593629</td><td>0.5584970</td><td>⋯</td><td>0.05628576</td><td>0.006680068</td><td>0.013885882</td><td>0.0019174269</td><td>0.010731406</td><td>0.0031544766</td><td>TRUE</td><td>black</td><td>#FFFF00FF</td><td>#FF0000FF</td></tr>\n",
       "</tbody>\n",
       "</table>\n"
      ],
      "text/latex": [
       "A data.frame: 6 × 33\n",
       "\\begin{tabular}{r|lllllllllllllllllllllllllllllllll}\n",
       " Dataset & Pateint.ID & DPP & X1 & X4 & X5 & X8 & X13 & X15 & X18 & X32 & X34 & X35 & X37 & X40 & X61 & X62 & X63 & X64 & X65 & X66 & X94 & X106 & X113 & X120 & X127 & X141 & X142 & X143 & Secretor & scretor\\_col & DPP\\_col & subject\\_col\\\\\n",
       " <int> & <fct> & <int> & <dbl> & <dbl> & <dbl> & <dbl> & <dbl> & <dbl> & <dbl> & <dbl> & <dbl> & <dbl> & <dbl> & <dbl> & <dbl> & <dbl> & <dbl> & <dbl> & <dbl> & <dbl> & <dbl> & <dbl> & <dbl> & <dbl> & <dbl> & <dbl> & <dbl> & <dbl> & <lgl> & <chr> & <chr> & <chr>\\\\\n",
       "\\hline\n",
       "\t 1 & L1 &  1 & 0.19166973 & 0.7856543 & 1 & 0.06204399 & 0.6677340 & 0.15944045 & 0.2499081 & 0.07891974 & 0.15172432 & 0.5712299 & 0.05810719 & 0.1918010 & 0.03099575 & 0.008949661 & 0.02758385 & 0.06319878 & 0.09650412 & 0.017164453 & 0.003936801 & 0.007716130 & 0.05178206 & 0.002598289 & 0.013227652 & 0.0013385124 & 0.005012860 & 0.0082147919 & TRUE & black & \\#FF0000FF & \\#FF0000FF\\\\\n",
       "\t 1 & L1 &  2 & 0.11718214 & 0.8259251 & 1 & 0.06456775 & 0.7357523 & 0.08697214 & 0.3489010 & 0.05561906 & 0.07625984 & 0.5619713 & 0.05800320 & 0.2908978 & 0.02710735 & 0.013814952 & 0.02047748 & 0.05682746 & 0.17378099 & 0.014076227 & 0.006564551 & 0.010712303 & 0.04275123 & 0.001698292 & 0.007511676 & 0.0048662595 & 0.007250400 & 0.0002612757 & TRUE & black & \\#FF3300FF & \\#FF0000FF\\\\\n",
       "\t 1 & L1 &  3 & 0.07822616 & 0.7939394 & 1 & 0.07757576 & 0.7167775 & 0.03228381 & 0.5018477 & 0.05194383 & 0.02583888 & 0.4683222 & 0.07408721 & 0.4277605 & 0.04366593 & 0.008721360 & 0.01025868 & 0.06291205 & 0.24845528 & 0.009490022 & 0.003488544 & 0.006444937 & 0.04795270 & 0.002690318 & 0.006001478 & 0.0007982262 & 0.004050259 & 0.0019512195 & TRUE & black & \\#FF6600FF & \\#FF0000FF\\\\\n",
       "\t 1 & L1 &  4 & 0.09139850 & 0.7912533 & 1 & 0.09345512 & 0.7062061 & 0.03405517 & 0.5156666 & 0.05873458 & 0.02225986 & 0.4601077 & 0.08785991 & 0.4278067 & 0.05631503 & 0.012823615 & 0.01288410 & 0.07019719 & 0.24609848 & 0.016150496 & 0.005595209 & 0.011795306 & 0.05676869 & 0.004445923 & 0.010555287 & 0.0011492862 & 0.006986451 & 0.0035688362 & TRUE & black & \\#FF9900FF & \\#FF0000FF\\\\\n",
       "\t 1 & L1 &  7 & 0.06754382 & 0.7672239 & 1 & 0.07069797 & 0.6536746 & 0.04064345 & 0.5264723 & 0.07326635 & 0.03284820 & 0.4388321 & 0.05713513 & 0.4693372 & 0.02491777 & 0.009777858 & 0.01757311 & 0.09412878 & 0.21484252 & 0.028252152 & 0.013562835 & 0.007795251 & 0.07141892 & 0.009958095 & 0.014689316 & 0.0036047402 & 0.012165998 & 0.0025233182 & TRUE & black & \\#FFCC00FF & \\#FF0000FF\\\\\n",
       "\t 1 & L1 & 14 & 0.08962425 & 0.7456007 & 1 & 0.10180919 & 0.6507500 & 0.03593629 & 0.5584970 & 0.05650224 & 0.02851399 & 0.4127725 & 0.09321169 & 0.4652853 & 0.04942013 & 0.011690119 & 0.02087521 & 0.07375908 & 0.23797742 & 0.022483377 & 0.008597495 & 0.007422298 & 0.05628576 & 0.006680068 & 0.013885882 & 0.0019174269 & 0.010731406 & 0.0031544766 & TRUE & black & \\#FFFF00FF & \\#FF0000FF\\\\\n",
       "\\end{tabular}\n"
      ],
      "text/markdown": [
       "\n",
       "A data.frame: 6 × 33\n",
       "\n",
       "| Dataset &lt;int&gt; | Pateint.ID &lt;fct&gt; | DPP &lt;int&gt; | X1 &lt;dbl&gt; | X4 &lt;dbl&gt; | X5 &lt;dbl&gt; | X8 &lt;dbl&gt; | X13 &lt;dbl&gt; | X15 &lt;dbl&gt; | X18 &lt;dbl&gt; | ⋯ ⋯ | X113 &lt;dbl&gt; | X120 &lt;dbl&gt; | X127 &lt;dbl&gt; | X141 &lt;dbl&gt; | X142 &lt;dbl&gt; | X143 &lt;dbl&gt; | Secretor &lt;lgl&gt; | scretor_col &lt;chr&gt; | DPP_col &lt;chr&gt; | subject_col &lt;chr&gt; |\n",
       "|---|---|---|---|---|---|---|---|---|---|---|---|---|---|---|---|---|---|---|---|---|\n",
       "| 1 | L1 |  1 | 0.19166973 | 0.7856543 | 1 | 0.06204399 | 0.6677340 | 0.15944045 | 0.2499081 | ⋯ | 0.05178206 | 0.002598289 | 0.013227652 | 0.0013385124 | 0.005012860 | 0.0082147919 | TRUE | black | #FF0000FF | #FF0000FF |\n",
       "| 1 | L1 |  2 | 0.11718214 | 0.8259251 | 1 | 0.06456775 | 0.7357523 | 0.08697214 | 0.3489010 | ⋯ | 0.04275123 | 0.001698292 | 0.007511676 | 0.0048662595 | 0.007250400 | 0.0002612757 | TRUE | black | #FF3300FF | #FF0000FF |\n",
       "| 1 | L1 |  3 | 0.07822616 | 0.7939394 | 1 | 0.07757576 | 0.7167775 | 0.03228381 | 0.5018477 | ⋯ | 0.04795270 | 0.002690318 | 0.006001478 | 0.0007982262 | 0.004050259 | 0.0019512195 | TRUE | black | #FF6600FF | #FF0000FF |\n",
       "| 1 | L1 |  4 | 0.09139850 | 0.7912533 | 1 | 0.09345512 | 0.7062061 | 0.03405517 | 0.5156666 | ⋯ | 0.05676869 | 0.004445923 | 0.010555287 | 0.0011492862 | 0.006986451 | 0.0035688362 | TRUE | black | #FF9900FF | #FF0000FF |\n",
       "| 1 | L1 |  7 | 0.06754382 | 0.7672239 | 1 | 0.07069797 | 0.6536746 | 0.04064345 | 0.5264723 | ⋯ | 0.07141892 | 0.009958095 | 0.014689316 | 0.0036047402 | 0.012165998 | 0.0025233182 | TRUE | black | #FFCC00FF | #FF0000FF |\n",
       "| 1 | L1 | 14 | 0.08962425 | 0.7456007 | 1 | 0.10180919 | 0.6507500 | 0.03593629 | 0.5584970 | ⋯ | 0.05628576 | 0.006680068 | 0.013885882 | 0.0019174269 | 0.010731406 | 0.0031544766 | TRUE | black | #FFFF00FF | #FF0000FF |\n",
       "\n"
      ],
      "text/plain": [
       "  Dataset Pateint.ID DPP X1         X4        X5 X8         X13      \n",
       "1 1       L1          1  0.19166973 0.7856543 1  0.06204399 0.6677340\n",
       "2 1       L1          2  0.11718214 0.8259251 1  0.06456775 0.7357523\n",
       "3 1       L1          3  0.07822616 0.7939394 1  0.07757576 0.7167775\n",
       "4 1       L1          4  0.09139850 0.7912533 1  0.09345512 0.7062061\n",
       "5 1       L1          7  0.06754382 0.7672239 1  0.07069797 0.6536746\n",
       "6 1       L1         14  0.08962425 0.7456007 1  0.10180919 0.6507500\n",
       "  X15        X18       ⋯ X113       X120        X127        X141        \n",
       "1 0.15944045 0.2499081 ⋯ 0.05178206 0.002598289 0.013227652 0.0013385124\n",
       "2 0.08697214 0.3489010 ⋯ 0.04275123 0.001698292 0.007511676 0.0048662595\n",
       "3 0.03228381 0.5018477 ⋯ 0.04795270 0.002690318 0.006001478 0.0007982262\n",
       "4 0.03405517 0.5156666 ⋯ 0.05676869 0.004445923 0.010555287 0.0011492862\n",
       "5 0.04064345 0.5264723 ⋯ 0.07141892 0.009958095 0.014689316 0.0036047402\n",
       "6 0.03593629 0.5584970 ⋯ 0.05628576 0.006680068 0.013885882 0.0019174269\n",
       "  X142        X143         Secretor scretor_col DPP_col   subject_col\n",
       "1 0.005012860 0.0082147919 TRUE     black       #FF0000FF #FF0000FF  \n",
       "2 0.007250400 0.0002612757 TRUE     black       #FF3300FF #FF0000FF  \n",
       "3 0.004050259 0.0019512195 TRUE     black       #FF6600FF #FF0000FF  \n",
       "4 0.006986451 0.0035688362 TRUE     black       #FF9900FF #FF0000FF  \n",
       "5 0.012165998 0.0025233182 TRUE     black       #FFCC00FF #FF0000FF  \n",
       "6 0.010731406 0.0031544766 TRUE     black       #FFFF00FF #FF0000FF  "
      ]
     },
     "metadata": {},
     "output_type": "display_data"
    },
    {
     "data": {
      "text/html": [
       "<table>\n",
       "<caption>A data.frame: 6 × 24</caption>\n",
       "<thead>\n",
       "\t<tr><th scope=col>Dataset</th><th scope=col>Pateint.ID</th><th scope=col>DPP</th><th scope=col>X2.FL</th><th scope=col>X3FL</th><th scope=col>LNnT</th><th scope=col>X3.SL</th><th scope=col>LNT</th><th scope=col>LNFP.I</th><th scope=col>LNFP.II</th><th scope=col>⋯</th><th scope=col>DSLNT</th><th scope=col>FLNH</th><th scope=col>DFLNH</th><th scope=col>FDSLNH</th><th scope=col>DSLNH</th><th scope=col>SUM</th><th scope=col>Secretor</th><th scope=col>scretor_col</th><th scope=col>DPP_col</th><th scope=col>subject_col</th></tr>\n",
       "\t<tr><th scope=col>&lt;int&gt;</th><th scope=col>&lt;fct&gt;</th><th scope=col>&lt;int&gt;</th><th scope=col>&lt;int&gt;</th><th scope=col>&lt;int&gt;</th><th scope=col>&lt;int&gt;</th><th scope=col>&lt;int&gt;</th><th scope=col>&lt;int&gt;</th><th scope=col>&lt;int&gt;</th><th scope=col>&lt;int&gt;</th><th scope=col>⋯</th><th scope=col>&lt;int&gt;</th><th scope=col>&lt;int&gt;</th><th scope=col>&lt;int&gt;</th><th scope=col>&lt;int&gt;</th><th scope=col>&lt;int&gt;</th><th scope=col>&lt;dbl&gt;</th><th scope=col>&lt;lgl&gt;</th><th scope=col>&lt;chr&gt;</th><th scope=col>&lt;chr&gt;</th><th scope=col>&lt;chr&gt;</th></tr>\n",
       "</thead>\n",
       "<tbody>\n",
       "\t<tr><td>1</td><td>L1</td><td> 1</td><td>21765</td><td>1034</td><td>295</td><td>5781</td><td> 882</td><td>3578</td><td>435</td><td>⋯</td><td>243</td><td> 99</td><td>191</td><td>313</td><td> 51</td><td>38102</td><td>TRUE</td><td>black</td><td>#FF0000FF</td><td>#FF0000FF</td></tr>\n",
       "\t<tr><td>1</td><td>L1</td><td> 2</td><td>17207</td><td> 394</td><td>327</td><td>2335</td><td>1423</td><td>5269</td><td>431</td><td>⋯</td><td>179</td><td> 52</td><td>222</td><td>  8</td><td>149</td><td>30619</td><td>TRUE</td><td>black</td><td>#FF3300FF</td><td>#FF0000FF</td></tr>\n",
       "\t<tr><td>1</td><td>L1</td><td> 3</td><td>15841</td><td> 135</td><td>748</td><td> 874</td><td>3642</td><td>8313</td><td>506</td><td>⋯</td><td>191</td><td> 91</td><td>137</td><td> 66</td><td> 27</td><td>33825</td><td>TRUE</td><td>black</td><td>#FF6600FF</td><td>#FF0000FF</td></tr>\n",
       "\t<tr><td>1</td><td>L1</td><td> 4</td><td>15213</td><td>  65</td><td>735</td><td> 736</td><td>3263</td><td>7990</td><td>444</td><td>⋯</td><td>352</td><td>147</td><td>231</td><td>118</td><td> 38</td><td>33064</td><td>TRUE</td><td>black</td><td>#FF9900FF</td><td>#FF0000FF</td></tr>\n",
       "\t<tr><td>1</td><td>L1</td><td> 7</td><td> 9739</td><td>  41</td><td>381</td><td> 729</td><td>3342</td><td>4547</td><td>504</td><td>⋯</td><td> 93</td><td>221</td><td>270</td><td> 56</td><td> 80</td><td>22193</td><td>TRUE</td><td>black</td><td>#FFCC00FF</td><td>#FF0000FF</td></tr>\n",
       "\t<tr><td>1</td><td>L1</td><td>14</td><td>13347</td><td>   7</td><td>843</td><td> 922</td><td>4587</td><td>7479</td><td>565</td><td>⋯</td><td>178</td><td>216</td><td>347</td><td>102</td><td> 62</td><td>32335</td><td>TRUE</td><td>black</td><td>#FFFF00FF</td><td>#FF0000FF</td></tr>\n",
       "</tbody>\n",
       "</table>\n"
      ],
      "text/latex": [
       "A data.frame: 6 × 24\n",
       "\\begin{tabular}{r|llllllllllllllllllllllll}\n",
       " Dataset & Pateint.ID & DPP & X2.FL & X3FL & LNnT & X3.SL & LNT & LNFP.I & LNFP.II & LNFP.III & LSTb & LSTc & DFLNT & DSLNT & FLNH & DFLNH & FDSLNH & DSLNH & SUM & Secretor & scretor\\_col & DPP\\_col & subject\\_col\\\\\n",
       " <int> & <fct> & <int> & <int> & <int> & <int> & <int> & <int> & <int> & <int> & <int> & <int> & <int> & <int> & <int> & <int> & <int> & <int> & <int> & <dbl> & <lgl> & <chr> & <chr> & <chr>\\\\\n",
       "\\hline\n",
       "\t 1 & L1 &  1 & 21765 & 1034 & 295 & 5781 &  882 & 3578 & 435 & 547 &  47 &  868 & 1973 & 243 &  99 & 191 & 313 &  51 & 38102 & TRUE & black & \\#FF0000FF & \\#FF0000FF\\\\\n",
       "\t 1 & L1 &  2 & 17207 &  394 & 327 & 2335 & 1423 & 5269 & 431 & 397 &  95 &  822 & 1309 & 179 &  52 & 222 &   8 & 149 & 30619 & TRUE & black & \\#FF3300FF & \\#FF0000FF\\\\\n",
       "\t 1 & L1 &  3 & 15841 &  135 & 748 &  874 & 3642 & 8313 & 506 & 144 &  77 & 1411 & 1622 & 191 &  91 & 137 &  66 &  27 & 33825 & TRUE & black & \\#FF6600FF & \\#FF0000FF\\\\\n",
       "\t 1 & L1 &  4 & 15213 &   65 & 735 &  736 & 3263 & 7990 & 444 &  77 &  34 & 1744 & 1877 & 352 & 147 & 231 & 118 &  38 & 33064 & TRUE & black & \\#FF9900FF & \\#FF0000FF\\\\\n",
       "\t 1 & L1 &  7 &  9739 &   41 & 381 &  729 & 3342 & 4547 & 504 &  64 &  44 &  497 & 1585 &  93 & 221 & 270 &  56 &  80 & 22193 & TRUE & black & \\#FFCC00FF & \\#FF0000FF\\\\\n",
       "\t 1 & L1 & 14 & 13347 &    7 & 843 &  922 & 4587 & 7479 & 565 & 226 & 138 & 1496 & 1820 & 178 & 216 & 347 & 102 &  62 & 32335 & TRUE & black & \\#FFFF00FF & \\#FF0000FF\\\\\n",
       "\\end{tabular}\n"
      ],
      "text/markdown": [
       "\n",
       "A data.frame: 6 × 24\n",
       "\n",
       "| Dataset &lt;int&gt; | Pateint.ID &lt;fct&gt; | DPP &lt;int&gt; | X2.FL &lt;int&gt; | X3FL &lt;int&gt; | LNnT &lt;int&gt; | X3.SL &lt;int&gt; | LNT &lt;int&gt; | LNFP.I &lt;int&gt; | LNFP.II &lt;int&gt; | ⋯ ⋯ | DSLNT &lt;int&gt; | FLNH &lt;int&gt; | DFLNH &lt;int&gt; | FDSLNH &lt;int&gt; | DSLNH &lt;int&gt; | SUM &lt;dbl&gt; | Secretor &lt;lgl&gt; | scretor_col &lt;chr&gt; | DPP_col &lt;chr&gt; | subject_col &lt;chr&gt; |\n",
       "|---|---|---|---|---|---|---|---|---|---|---|---|---|---|---|---|---|---|---|---|---|\n",
       "| 1 | L1 |  1 | 21765 | 1034 | 295 | 5781 |  882 | 3578 | 435 | ⋯ | 243 |  99 | 191 | 313 |  51 | 38102 | TRUE | black | #FF0000FF | #FF0000FF |\n",
       "| 1 | L1 |  2 | 17207 |  394 | 327 | 2335 | 1423 | 5269 | 431 | ⋯ | 179 |  52 | 222 |   8 | 149 | 30619 | TRUE | black | #FF3300FF | #FF0000FF |\n",
       "| 1 | L1 |  3 | 15841 |  135 | 748 |  874 | 3642 | 8313 | 506 | ⋯ | 191 |  91 | 137 |  66 |  27 | 33825 | TRUE | black | #FF6600FF | #FF0000FF |\n",
       "| 1 | L1 |  4 | 15213 |   65 | 735 |  736 | 3263 | 7990 | 444 | ⋯ | 352 | 147 | 231 | 118 |  38 | 33064 | TRUE | black | #FF9900FF | #FF0000FF |\n",
       "| 1 | L1 |  7 |  9739 |   41 | 381 |  729 | 3342 | 4547 | 504 | ⋯ |  93 | 221 | 270 |  56 |  80 | 22193 | TRUE | black | #FFCC00FF | #FF0000FF |\n",
       "| 1 | L1 | 14 | 13347 |    7 | 843 |  922 | 4587 | 7479 | 565 | ⋯ | 178 | 216 | 347 | 102 |  62 | 32335 | TRUE | black | #FFFF00FF | #FF0000FF |\n",
       "\n"
      ],
      "text/plain": [
       "  Dataset Pateint.ID DPP X2.FL X3FL LNnT X3.SL LNT  LNFP.I LNFP.II ⋯ DSLNT FLNH\n",
       "1 1       L1          1  21765 1034 295  5781   882 3578   435     ⋯ 243    99 \n",
       "2 1       L1          2  17207  394 327  2335  1423 5269   431     ⋯ 179    52 \n",
       "3 1       L1          3  15841  135 748   874  3642 8313   506     ⋯ 191    91 \n",
       "4 1       L1          4  15213   65 735   736  3263 7990   444     ⋯ 352   147 \n",
       "5 1       L1          7   9739   41 381   729  3342 4547   504     ⋯  93   221 \n",
       "6 1       L1         14  13347    7 843   922  4587 7479   565     ⋯ 178   216 \n",
       "  DFLNH FDSLNH DSLNH SUM   Secretor scretor_col DPP_col   subject_col\n",
       "1 191   313     51   38102 TRUE     black       #FF0000FF #FF0000FF  \n",
       "2 222     8    149   30619 TRUE     black       #FF3300FF #FF0000FF  \n",
       "3 137    66     27   33825 TRUE     black       #FF6600FF #FF0000FF  \n",
       "4 231   118     38   33064 TRUE     black       #FF9900FF #FF0000FF  \n",
       "5 270    56     80   22193 TRUE     black       #FFCC00FF #FF0000FF  \n",
       "6 347   102     62   32335 TRUE     black       #FFFF00FF #FF0000FF  "
      ]
     },
     "metadata": {},
     "output_type": "display_data"
    }
   ],
   "source": [
    "setwd('/media/ben/9c17f1c9-a45e-49ec-b547-8fbd2f25ccc6/GlyCompare/')\n",
    "\n",
    "#### load libraries\n",
    "source('example_notebook/functions.r')\n",
    "\n",
    "\n",
    "clean<-function(x,skip=1,annot){\n",
    "    x=cbind(annot,x)\n",
    "    x$Secretor = ! x$Pateint.ID %in% c('L2','L3')\n",
    "    x$scretor_col = ifelse(x$Secretor,'black','grey')\n",
    "    x$DPP_col = heat.colors(length(unique(x$DPP)))[factor(x$DPP)]\n",
    "    x$subject_col = rainbow(length(levels(x$Pateint.ID)))[x$Pateint.ID]\n",
    "    x\n",
    "}\n",
    "\n",
    "##### load & prep data\n",
    "annot = na.omit(read.csv('example_data/paper_hmo/source_data/annotation.csv'))\n",
    "#head(annot)\n",
    "\n",
    "tmp=t(data.matrix(read.csv('example_data/paper_hmo/intermediate_file/paper_hmo_motif_abd_table.csv',row.names=1,header =TRUE)))\n",
    "colnames(tmp) = paste0('X',colnames(tmp))\n",
    "rownames(tmp) = NULL\n",
    "smandm = clean( tmp,annot=annot)\n",
    "\n",
    "tmp<-read.csv('example_data/paper_hmo/source_data/abundance_table.csv')[-41,-1]\n",
    "tmp$SUM=rowSums(tmp)\n",
    "gly = clean ( tmp,annot=annot )\n",
    "\n",
    "head(smandm)\n",
    "head(gly)\n",
    "\n",
    "vars = gsub('\\\\.','',c( grep('X',colnames(smandm),value=T), colnames(gly)[4:19] ))\n",
    "\n",
    "gly_p = gly\n",
    "gly_p[,colnames(gly)[4:19]] = gly[,colnames(gly)[4:19]]/as.numeric(as.character(gly$SUM))\n",
    "\n",
    "data=list(#motif_abundance=ma,motif_abundance_dropped=mand,#motif_abundance_dropped_more=mandm,\n",
    "    smallest_motif_abundance_dropped_more=smandm,glycan_concentration=gly,glycan_percent=gly_p)\n",
    "\n",
    "data = lapply(data,function(x){\n",
    "    colnames(x) = gsub('\\\\.','',colnames(x))\n",
    "    x\n",
    "})\n",
    "\n",
    "keep_data=c('smallest_motif_abundance_dropped_more','glycan_percent')#,'glycan_percent')\n",
    "\n",
    "#######################\n"
   ]
  },
  {
   "cell_type": "markdown",
   "metadata": {},
   "source": [
    "### examine glycan and motif level clustering (Supp Fig6)"
   ]
  },
  {
   "cell_type": "code",
   "execution_count": 45,
   "metadata": {},
   "outputs": [
    {
     "data": {
      "image/png": "[encoded data removed]",
      "text/plain": [
       "Plot with title “glycan_concentration”"
      ]
     },
     "metadata": {},
     "output_type": "display_data"
    },
    {
     "data": {
      "image/png": "[encoded data removed]",
      "text/plain": [
       "Plot with title “smallest_motif_abundance_dropped_more”"
      ]
     },
     "metadata": {},
     "output_type": "display_data"
    }
   ],
   "source": [
    "#pdf('~/Desktop/hmoclusters.pdf',height=10,width=10)\n",
    "## glycan abundance\n",
    "x=data$glycan_percent\n",
    "data_i = data.matrix(x[,colnames(x)%in%vars])\n",
    "cols = as.matrix(x[,rev(c('scretor_col','subject_col','DPP_col'))])\n",
    "heatmap.plus( data_i,RowSideColors=cols,main='glycan_concentration', \n",
    "    hclustfun=function(x) hclust(x,method=\"complete\"),distfun=function(x) as.dist((1 - cor(  t(x) ,method='pearson' ))/2))\n",
    "\n",
    "## motif abundance        \n",
    "x=data$smallest_motif_abundance_dropped_more\n",
    "data_i = data.matrix(x[,colnames(x)%in%vars])\n",
    "cols = as.matrix(x[,rev(c('scretor_col','subject_col','DPP_col'))])\n",
    "heatmap.plus( data_i,RowSideColors=cols,main='smallest_motif_abundance_dropped_more', \n",
    "    hclustfun=function(x) hclust(x,method=\"complete\"),distfun=function(x) as.dist((1 - cor(  t(x) ,method='pearson' ))/2))\n",
    "#dev.off()"
   ]
  },
  {
   "cell_type": "markdown",
   "metadata": {},
   "source": [
    "# Phenotype-Glycan & Phenotype-Motif Abundance Associations\n",
    "\n",
    "\n",
    "## Predictability of every glycan and motif from Secretor status and DPP (Supp Fig8, Fig4b)\n",
    "This analysis discovered several motifs signifiantly associated with secretor status and DPP, including X80"
   ]
  },
  {
   "cell_type": "code",
   "execution_count": 559,
   "metadata": {},
   "outputs": [
    {
     "name": "stderr",
     "output_type": "stream",
     "text": [
      "Beginning Cgee S-function, @(#) geeformula.q 4.13 98/01/27\n",
      "running glm to get initial regression estimate\n"
     ]
    },
    {
     "name": "stdout",
     "output_type": "stream",
     "text": [
      "(Intercept)    Secretor    log(DPP) \n",
      "      0.937      -1.830       0.143 \n"
     ]
    },
    {
     "name": "stderr",
     "output_type": "stream",
     "text": [
      "Warning message in if (is.na(mod)) {:\n",
      "“the condition has length > 1 and only the first element will be used”Beginning Cgee S-function, @(#) geeformula.q 4.13 98/01/27\n",
      "running glm to get initial regression estimate\n"
     ]
    },
    {
     "name": "stdout",
     "output_type": "stream",
     "text": [
      "(Intercept)    Secretor    log(DPP) \n",
      "    -1.2288      1.6952      0.0585 \n"
     ]
    },
    {
     "name": "stderr",
     "output_type": "stream",
     "text": [
      "Warning message in if (is.na(mod)) {:\n",
      "“the condition has length > 1 and only the first element will be used”Beginning Cgee S-function, @(#) geeformula.q 4.13 98/01/27\n",
      "running glm to get initial regression estimate\n"
     ]
    },
    {
     "name": "stdout",
     "output_type": "stream",
     "text": [
      "(Intercept)    Secretor    log(DPP) \n",
      "      0.788      -1.708       0.179 \n"
     ]
    },
    {
     "name": "stderr",
     "output_type": "stream",
     "text": [
      "Warning message in if (is.na(mod)) {:\n",
      "“the condition has length > 1 and only the first element will be used”Beginning Cgee S-function, @(#) geeformula.q 4.13 98/01/27\n",
      "running glm to get initial regression estimate\n"
     ]
    },
    {
     "name": "stdout",
     "output_type": "stream",
     "text": [
      "(Intercept)    Secretor    log(DPP) \n",
      "      1.146      -0.305      -0.499 \n"
     ]
    },
    {
     "name": "stderr",
     "output_type": "stream",
     "text": [
      "Warning message in if (is.na(mod)) {:\n",
      "“the condition has length > 1 and only the first element will be used”Beginning Cgee S-function, @(#) geeformula.q 4.13 98/01/27\n",
      "running glm to get initial regression estimate\n"
     ]
    },
    {
     "name": "stdout",
     "output_type": "stream",
     "text": [
      "(Intercept)    Secretor    log(DPP) \n",
      "    -0.3417      0.2826      0.0817 \n"
     ]
    },
    {
     "name": "stderr",
     "output_type": "stream",
     "text": [
      "Warning message in if (is.na(mod)) {:\n",
      "“the condition has length > 1 and only the first element will be used”Beginning Cgee S-function, @(#) geeformula.q 4.13 98/01/27\n",
      "running glm to get initial regression estimate\n"
     ]
    },
    {
     "name": "stdout",
     "output_type": "stream",
     "text": [
      "(Intercept)    Secretor    log(DPP) \n",
      "      0.475       0.256      -0.340 \n"
     ]
    },
    {
     "name": "stderr",
     "output_type": "stream",
     "text": [
      "Warning message in if (is.na(mod)) {:\n",
      "“the condition has length > 1 and only the first element will be used”Beginning Cgee S-function, @(#) geeformula.q 4.13 98/01/27\n",
      "running glm to get initial regression estimate\n"
     ]
    },
    {
     "name": "stdout",
     "output_type": "stream",
     "text": [
      "(Intercept)    Secretor    log(DPP) \n",
      "     0.9612     -1.3909     -0.0231 \n"
     ]
    },
    {
     "name": "stderr",
     "output_type": "stream",
     "text": [
      "Warning message in if (is.na(mod)) {:\n",
      "“the condition has length > 1 and only the first element will be used”Beginning Cgee S-function, @(#) geeformula.q 4.13 98/01/27\n",
      "running glm to get initial regression estimate\n"
     ]
    },
    {
     "name": "stdout",
     "output_type": "stream",
     "text": [
      "(Intercept)    Secretor    log(DPP) \n",
      "    -1.4423      2.0422      0.0503 \n"
     ]
    },
    {
     "name": "stderr",
     "output_type": "stream",
     "text": [
      "Warning message in if (is.na(mod)) {:\n",
      "“the condition has length > 1 and only the first element will be used”Beginning Cgee S-function, @(#) geeformula.q 4.13 98/01/27\n",
      "running glm to get initial regression estimate\n"
     ]
    },
    {
     "name": "stdout",
     "output_type": "stream",
     "text": [
      "(Intercept)    Secretor    log(DPP) \n",
      "      0.825      -1.692       0.154 \n"
     ]
    },
    {
     "name": "stderr",
     "output_type": "stream",
     "text": [
      "Warning message in if (is.na(mod)) {:\n",
      "“the condition has length > 1 and only the first element will be used”Beginning Cgee S-function, @(#) geeformula.q 4.13 98/01/27\n",
      "running glm to get initial regression estimate\n"
     ]
    },
    {
     "name": "stdout",
     "output_type": "stream",
     "text": [
      "(Intercept)    Secretor    log(DPP) \n",
      "      0.442       0.344      -0.353 \n"
     ]
    },
    {
     "name": "stderr",
     "output_type": "stream",
     "text": [
      "Warning message in if (is.na(mod)) {:\n",
      "“the condition has length > 1 and only the first element will be used”Beginning Cgee S-function, @(#) geeformula.q 4.13 98/01/27\n",
      "running glm to get initial regression estimate\n"
     ]
    },
    {
     "name": "stdout",
     "output_type": "stream",
     "text": [
      "(Intercept)    Secretor    log(DPP) \n",
      "      0.624      -1.313       0.128 \n"
     ]
    },
    {
     "name": "stderr",
     "output_type": "stream",
     "text": [
      "Warning message in if (is.na(mod)) {:\n",
      "“the condition has length > 1 and only the first element will be used”Beginning Cgee S-function, @(#) geeformula.q 4.13 98/01/27\n",
      "running glm to get initial regression estimate\n"
     ]
    },
    {
     "name": "stdout",
     "output_type": "stream",
     "text": [
      "(Intercept)    Secretor    log(DPP) \n",
      "      1.323      -0.595      -0.492 \n"
     ]
    },
    {
     "name": "stderr",
     "output_type": "stream",
     "text": [
      "Warning message in if (is.na(mod)) {:\n",
      "“the condition has length > 1 and only the first element will be used”Beginning Cgee S-function, @(#) geeformula.q 4.13 98/01/27\n",
      "running glm to get initial regression estimate\n"
     ]
    },
    {
     "name": "stdout",
     "output_type": "stream",
     "text": [
      "(Intercept)    Secretor    log(DPP) \n",
      "    -0.5759      0.6911      0.0634 \n"
     ]
    },
    {
     "name": "stderr",
     "output_type": "stream",
     "text": [
      "Warning message in if (is.na(mod)) {:\n",
      "“the condition has length > 1 and only the first element will be used”Beginning Cgee S-function, @(#) geeformula.q 4.13 98/01/27\n",
      "running glm to get initial regression estimate\n"
     ]
    },
    {
     "name": "stdout",
     "output_type": "stream",
     "text": [
      "(Intercept)    Secretor    log(DPP) \n",
      "    -1.3905      2.0598      0.0169 \n"
     ]
    },
    {
     "name": "stderr",
     "output_type": "stream",
     "text": [
      "Warning message in if (is.na(mod)) {:\n",
      "“the condition has length > 1 and only the first element will be used”Beginning Cgee S-function, @(#) geeformula.q 4.13 98/01/27\n",
      "running glm to get initial regression estimate\n"
     ]
    },
    {
     "name": "stdout",
     "output_type": "stream",
     "text": [
      "(Intercept)    Secretor    log(DPP) \n",
      "      0.671      -1.629       0.213 \n"
     ]
    },
    {
     "name": "stderr",
     "output_type": "stream",
     "text": [
      "Warning message in if (is.na(mod)) {:\n",
      "“the condition has length > 1 and only the first element will be used”Beginning Cgee S-function, @(#) geeformula.q 4.13 98/01/27\n",
      "running glm to get initial regression estimate\n"
     ]
    },
    {
     "name": "stdout",
     "output_type": "stream",
     "text": [
      "(Intercept)    Secretor    log(DPP) \n",
      "      1.225      -1.085      -0.269 \n"
     ]
    },
    {
     "name": "stderr",
     "output_type": "stream",
     "text": [
      "Warning message in if (is.na(mod)) {:\n",
      "“the condition has length > 1 and only the first element will be used”Beginning Cgee S-function, @(#) geeformula.q 4.13 98/01/27\n",
      "running glm to get initial regression estimate\n"
     ]
    },
    {
     "name": "stdout",
     "output_type": "stream",
     "text": [
      "(Intercept)    Secretor    log(DPP) \n",
      "      0.859      -1.651       0.121 \n"
     ]
    },
    {
     "name": "stderr",
     "output_type": "stream",
     "text": [
      "Warning message in if (is.na(mod)) {:\n",
      "“the condition has length > 1 and only the first element will be used”Beginning Cgee S-function, @(#) geeformula.q 4.13 98/01/27\n",
      "running glm to get initial regression estimate\n"
     ]
    },
    {
     "name": "stdout",
     "output_type": "stream",
     "text": [
      "(Intercept)    Secretor    log(DPP) \n",
      "     0.7648     -1.2174      0.0201 \n"
     ]
    },
    {
     "name": "stderr",
     "output_type": "stream",
     "text": [
      "Warning message in if (is.na(mod)) {:\n",
      "“the condition has length > 1 and only the first element will be used”Beginning Cgee S-function, @(#) geeformula.q 4.13 98/01/27\n",
      "running glm to get initial regression estimate\n"
     ]
    },
    {
     "name": "stdout",
     "output_type": "stream",
     "text": [
      "(Intercept)    Secretor    log(DPP) \n",
      "      1.293      -0.510      -0.505 \n"
     ]
    },
    {
     "name": "stderr",
     "output_type": "stream",
     "text": [
      "Warning message in if (is.na(mod)) {:\n",
      "“the condition has length > 1 and only the first element will be used”Beginning Cgee S-function, @(#) geeformula.q 4.13 98/01/27\n",
      "running glm to get initial regression estimate\n"
     ]
    },
    {
     "name": "stdout",
     "output_type": "stream",
     "text": [
      "(Intercept)    Secretor    log(DPP) \n",
      "      0.184      -1.253       0.339 \n"
     ]
    },
    {
     "name": "stderr",
     "output_type": "stream",
     "text": [
      "Warning message in if (is.na(mod)) {:\n",
      "“the condition has length > 1 and only the first element will be used”Beginning Cgee S-function, @(#) geeformula.q 4.13 98/01/27\n",
      "running glm to get initial regression estimate\n"
     ]
    },
    {
     "name": "stdout",
     "output_type": "stream",
     "text": [
      "(Intercept)    Secretor    log(DPP) \n",
      "      0.724      -1.390       0.102 \n"
     ]
    },
    {
     "name": "stderr",
     "output_type": "stream",
     "text": [
      "Warning message in if (is.na(mod)) {:\n",
      "“the condition has length > 1 and only the first element will be used”Beginning Cgee S-function, @(#) geeformula.q 4.13 98/01/27\n",
      "running glm to get initial regression estimate\n"
     ]
    },
    {
     "name": "stdout",
     "output_type": "stream",
     "text": [
      "(Intercept)    Secretor    log(DPP) \n",
      "    -1.2859      1.7964      0.0534 \n"
     ]
    },
    {
     "name": "stderr",
     "output_type": "stream",
     "text": [
      "Warning message in if (is.na(mod)) {:\n",
      "“the condition has length > 1 and only the first element will be used”Beginning Cgee S-function, @(#) geeformula.q 4.13 98/01/27\n",
      "running glm to get initial regression estimate\n"
     ]
    },
    {
     "name": "stdout",
     "output_type": "stream",
     "text": [
      "(Intercept)    Secretor    log(DPP) \n",
      "     -0.815       0.736       0.174 \n"
     ]
    },
    {
     "name": "stderr",
     "output_type": "stream",
     "text": [
      "Warning message in if (is.na(mod)) {:\n",
      "“the condition has length > 1 and only the first element will be used”Beginning Cgee S-function, @(#) geeformula.q 4.13 98/01/27\n",
      "running glm to get initial regression estimate\n"
     ]
    },
    {
     "name": "stdout",
     "output_type": "stream",
     "text": [
      "(Intercept)    Secretor    log(DPP) \n",
      "     0.0297     -0.4065      0.1259 \n"
     ]
    },
    {
     "name": "stderr",
     "output_type": "stream",
     "text": [
      "Warning message in if (is.na(mod)) {:\n",
      "“the condition has length > 1 and only the first element will be used”Beginning Cgee S-function, @(#) geeformula.q 4.13 98/01/27\n",
      "running glm to get initial regression estimate\n"
     ]
    },
    {
     "name": "stdout",
     "output_type": "stream",
     "text": [
      "(Intercept)    Secretor    log(DPP) \n",
      "     -0.320      -0.942       0.497 \n"
     ]
    },
    {
     "name": "stderr",
     "output_type": "stream",
     "text": [
      "Warning message in if (is.na(mod)) {:\n",
      "“the condition has length > 1 and only the first element will be used”Beginning Cgee S-function, @(#) geeformula.q 4.13 98/01/27\n",
      "running glm to get initial regression estimate\n"
     ]
    },
    {
     "name": "stdout",
     "output_type": "stream",
     "text": [
      "(Intercept)    Secretor    log(DPP) \n",
      "      0.553      -1.283       0.155 \n"
     ]
    },
    {
     "name": "stderr",
     "output_type": "stream",
     "text": [
      "Warning message in if (is.na(mod)) {:\n",
      "“the condition has length > 1 and only the first element will be used”Beginning Cgee S-function, @(#) geeformula.q 4.13 98/01/27\n",
      "running glm to get initial regression estimate\n"
     ]
    },
    {
     "name": "stdout",
     "output_type": "stream",
     "text": [
      "(Intercept)    Secretor    log(DPP) \n",
      "     0.0749     -1.2852      0.4081 \n"
     ]
    },
    {
     "name": "stderr",
     "output_type": "stream",
     "text": [
      "Warning message in if (is.na(mod)) {:\n",
      "“the condition has length > 1 and only the first element will be used”Beginning Cgee S-function, @(#) geeformula.q 4.13 98/01/27\n",
      "running glm to get initial regression estimate\n"
     ]
    },
    {
     "name": "stdout",
     "output_type": "stream",
     "text": [
      "(Intercept)    Secretor    log(DPP) \n",
      "      0.374      -1.369       0.280 \n"
     ]
    },
    {
     "name": "stderr",
     "output_type": "stream",
     "text": [
      "Warning message in if (is.na(mod)) {:\n",
      "“the condition has length > 1 and only the first element will be used”Beginning Cgee S-function, @(#) geeformula.q 4.13 98/01/27\n",
      "running glm to get initial regression estimate\n"
     ]
    },
    {
     "name": "stdout",
     "output_type": "stream",
     "text": [
      "(Intercept)    Secretor    log(DPP) \n",
      "     -0.746      -0.268       0.488 \n"
     ]
    },
    {
     "name": "stderr",
     "output_type": "stream",
     "text": [
      "Warning message in if (is.na(mod)) {:\n",
      "“the condition has length > 1 and only the first element will be used”Beginning Cgee S-function, @(#) geeformula.q 4.13 98/01/27\n",
      "running glm to get initial regression estimate\n"
     ]
    },
    {
     "name": "stdout",
     "output_type": "stream",
     "text": [
      "(Intercept)    Secretor    log(DPP) \n",
      "      0.760      -0.710      -0.154 \n"
     ]
    },
    {
     "name": "stderr",
     "output_type": "stream",
     "text": [
      "Warning message in if (is.na(mod)) {:\n",
      "“the condition has length > 1 and only the first element will be used”Beginning Cgee S-function, @(#) geeformula.q 4.13 98/01/27\n",
      "running glm to get initial regression estimate\n"
     ]
    },
    {
     "name": "stdout",
     "output_type": "stream",
     "text": [
      "(Intercept)    Secretor    log(DPP) \n",
      "    -1.1319      1.9003     -0.0642 \n"
     ]
    },
    {
     "name": "stderr",
     "output_type": "stream",
     "text": [
      "Warning message in if (is.na(mod)) {:\n",
      "“the condition has length > 1 and only the first element will be used”Beginning Cgee S-function, @(#) geeformula.q 4.13 98/01/27\n",
      "running glm to get initial regression estimate\n"
     ]
    },
    {
     "name": "stdout",
     "output_type": "stream",
     "text": [
      "(Intercept)    Secretor    log(DPP) \n",
      "      0.577      -0.244      -0.220 \n"
     ]
    },
    {
     "name": "stderr",
     "output_type": "stream",
     "text": [
      "Warning message in if (is.na(mod)) {:\n",
      "“the condition has length > 1 and only the first element will be used”Beginning Cgee S-function, @(#) geeformula.q 4.13 98/01/27\n",
      "running glm to get initial regression estimate\n"
     ]
    },
    {
     "name": "stdout",
     "output_type": "stream",
     "text": [
      "(Intercept)    Secretor    log(DPP) \n",
      "      0.172       0.757      -0.354 \n"
     ]
    },
    {
     "name": "stderr",
     "output_type": "stream",
     "text": [
      "Warning message in if (is.na(mod)) {:\n",
      "“the condition has length > 1 and only the first element will be used”Beginning Cgee S-function, @(#) geeformula.q 4.13 98/01/27\n",
      "running glm to get initial regression estimate\n"
     ]
    },
    {
     "name": "stdout",
     "output_type": "stream",
     "text": [
      "(Intercept)    Secretor    log(DPP) \n",
      "      0.112       1.213      -0.482 \n"
     ]
    },
    {
     "name": "stderr",
     "output_type": "stream",
     "text": [
      "Warning message in if (is.na(mod)) {:\n",
      "“the condition has length > 1 and only the first element will be used”Beginning Cgee S-function, @(#) geeformula.q 4.13 98/01/27\n",
      "running glm to get initial regression estimate\n"
     ]
    },
    {
     "name": "stdout",
     "output_type": "stream",
     "text": [
      "(Intercept)    Secretor    log(DPP) \n",
      "     0.2645     -0.4400      0.0136 \n"
     ]
    },
    {
     "name": "stderr",
     "output_type": "stream",
     "text": [
      "Warning message in if (is.na(mod)) {:\n",
      "“the condition has length > 1 and only the first element will be used”Beginning Cgee S-function, @(#) geeformula.q 4.13 98/01/27\n",
      "running glm to get initial regression estimate\n"
     ]
    },
    {
     "name": "stdout",
     "output_type": "stream",
     "text": [
      "(Intercept)    Secretor    log(DPP) \n",
      "     -0.961       1.935      -0.166 \n"
     ]
    },
    {
     "name": "stderr",
     "output_type": "stream",
     "text": [
      "Warning message in if (is.na(mod)) {:\n",
      "“the condition has length > 1 and only the first element will be used”Beginning Cgee S-function, @(#) geeformula.q 4.13 98/01/27\n",
      "running glm to get initial regression estimate\n"
     ]
    },
    {
     "name": "stdout",
     "output_type": "stream",
     "text": [
      "(Intercept)    Secretor    log(DPP) \n",
      "      1.194      -1.262      -0.191 \n"
     ]
    },
    {
     "name": "stderr",
     "output_type": "stream",
     "text": [
      "Warning message in if (is.na(mod)) {:\n",
      "“the condition has length > 1 and only the first element will be used”Beginning Cgee S-function, @(#) geeformula.q 4.13 98/01/27\n",
      "running glm to get initial regression estimate\n"
     ]
    },
    {
     "name": "stdout",
     "output_type": "stream",
     "text": [
      "(Intercept)    Secretor    log(DPP) \n",
      "     -0.215       1.091      -0.267 \n"
     ]
    },
    {
     "name": "stderr",
     "output_type": "stream",
     "text": [
      "Warning message in if (is.na(mod)) {:\n",
      "“the condition has length > 1 and only the first element will be used”Beginning Cgee S-function, @(#) geeformula.q 4.13 98/01/27\n",
      "running glm to get initial regression estimate\n"
     ]
    },
    {
     "name": "stdout",
     "output_type": "stream",
     "text": [
      "(Intercept)    Secretor    log(DPP) \n",
      "      1.260      -1.001      -0.317 \n"
     ]
    },
    {
     "name": "stderr",
     "output_type": "stream",
     "text": [
      "Warning message in if (is.na(mod)) {:\n",
      "“the condition has length > 1 and only the first element will be used”Beginning Cgee S-function, @(#) geeformula.q 4.13 98/01/27\n",
      "running glm to get initial regression estimate\n"
     ]
    },
    {
     "name": "stdout",
     "output_type": "stream",
     "text": [
      "(Intercept)    Secretor    log(DPP) \n",
      "      0.589       0.755      -0.574 \n"
     ]
    },
    {
     "name": "stderr",
     "output_type": "stream",
     "text": [
      "Warning message in if (is.na(mod)) {:\n",
      "“the condition has length > 1 and only the first element will be used”Beginning Cgee S-function, @(#) geeformula.q 4.13 98/01/27\n",
      "running glm to get initial regression estimate\n"
     ]
    },
    {
     "name": "stdout",
     "output_type": "stream",
     "text": [
      "(Intercept)    Secretor    log(DPP) \n",
      "     -0.673       1.386      -0.127 \n"
     ]
    },
    {
     "name": "stderr",
     "output_type": "stream",
     "text": [
      "Warning message in if (is.na(mod)) {:\n",
      "“the condition has length > 1 and only the first element will be used”Beginning Cgee S-function, @(#) geeformula.q 4.13 98/01/27\n",
      "running glm to get initial regression estimate\n"
     ]
    },
    {
     "name": "stdout",
     "output_type": "stream",
     "text": [
      "(Intercept)    Secretor    log(DPP) \n",
      "      0.356       0.977      -0.528 \n"
     ]
    },
    {
     "name": "stderr",
     "output_type": "stream",
     "text": [
      "Warning message in if (is.na(mod)) {:\n",
      "“the condition has length > 1 and only the first element will be used”Beginning Cgee S-function, @(#) geeformula.q 4.13 98/01/27\n",
      "running glm to get initial regression estimate\n"
     ]
    },
    {
     "name": "stdout",
     "output_type": "stream",
     "text": [
      "(Intercept)    Secretor    log(DPP) \n",
      "     -0.173      -0.290       0.192 \n"
     ]
    },
    {
     "name": "stderr",
     "output_type": "stream",
     "text": [
      "Warning message in if (is.na(mod)) {:\n",
      "“the condition has length > 1 and only the first element will be used”Beginning Cgee S-function, @(#) geeformula.q 4.13 98/01/27\n",
      "running glm to get initial regression estimate\n"
     ]
    },
    {
     "name": "stdout",
     "output_type": "stream",
     "text": [
      "(Intercept)    Secretor    log(DPP) \n",
      "     0.1415      0.0588     -0.0952 \n"
     ]
    },
    {
     "name": "stderr",
     "output_type": "stream",
     "text": [
      "Warning message in if (is.na(mod)) {:\n",
      "“the condition has length > 1 and only the first element will be used”Beginning Cgee S-function, @(#) geeformula.q 4.13 98/01/27\n",
      "running glm to get initial regression estimate\n"
     ]
    },
    {
     "name": "stdout",
     "output_type": "stream",
     "text": [
      "(Intercept)    Secretor    log(DPP) \n",
      "      0.383       0.362      -0.328 \n"
     ]
    },
    {
     "name": "stderr",
     "output_type": "stream",
     "text": [
      "Warning message in if (is.na(mod)) {:\n",
      "“the condition has length > 1 and only the first element will be used”Beginning Cgee S-function, @(#) geeformula.q 4.13 98/01/27\n",
      "running glm to get initial regression estimate\n"
     ]
    },
    {
     "name": "stdout",
     "output_type": "stream",
     "text": [
      "(Intercept)    Secretor    log(DPP) \n",
      "     -0.926       0.688       0.249 \n"
     ]
    },
    {
     "name": "stderr",
     "output_type": "stream",
     "text": [
      "Warning message in if (is.na(mod)) {:\n",
      "“the condition has length > 1 and only the first element will be used”Beginning Cgee S-function, @(#) geeformula.q 4.13 98/01/27\n",
      "running glm to get initial regression estimate\n"
     ]
    },
    {
     "name": "stdout",
     "output_type": "stream",
     "text": [
      "(Intercept)    Secretor    log(DPP) \n",
      "    -1.3905      2.0598      0.0169 \n"
     ]
    },
    {
     "name": "stderr",
     "output_type": "stream",
     "text": [
      "Warning message in if (is.na(mod)) {:\n",
      "“the condition has length > 1 and only the first element will be used”Beginning Cgee S-function, @(#) geeformula.q 4.13 98/01/27\n",
      "running glm to get initial regression estimate\n"
     ]
    },
    {
     "name": "stdout",
     "output_type": "stream",
     "text": [
      "(Intercept)    Secretor    log(DPP) \n",
      "      0.937      -0.935      -0.169 \n"
     ]
    },
    {
     "name": "stderr",
     "output_type": "stream",
     "text": [
      "Warning message in if (is.na(mod)) {:\n",
      "“the condition has length > 1 and only the first element will be used”Beginning Cgee S-function, @(#) geeformula.q 4.13 98/01/27\n",
      "running glm to get initial regression estimate\n"
     ]
    },
    {
     "name": "stdout",
     "output_type": "stream",
     "text": [
      "(Intercept)    Secretor    log(DPP) \n",
      "     0.5386     -0.7320     -0.0295 \n"
     ]
    },
    {
     "name": "stderr",
     "output_type": "stream",
     "text": [
      "Warning message in if (is.na(mod)) {:\n",
      "“the condition has length > 1 and only the first element will be used”Beginning Cgee S-function, @(#) geeformula.q 4.13 98/01/27\n",
      "running glm to get initial regression estimate\n"
     ]
    },
    {
     "name": "stdout",
     "output_type": "stream",
     "text": [
      "(Intercept)    Secretor    log(DPP) \n",
      "      0.442       0.344      -0.353 \n"
     ]
    },
    {
     "name": "stderr",
     "output_type": "stream",
     "text": [
      "Warning message in if (is.na(mod)) {:\n",
      "“the condition has length > 1 and only the first element will be used”Beginning Cgee S-function, @(#) geeformula.q 4.13 98/01/27\n",
      "running glm to get initial regression estimate\n"
     ]
    },
    {
     "name": "stdout",
     "output_type": "stream",
     "text": [
      "(Intercept)    Secretor    log(DPP) \n",
      "      0.415      -1.498       0.303 \n"
     ]
    },
    {
     "name": "stderr",
     "output_type": "stream",
     "text": [
      "Warning message in if (is.na(mod)) {:\n",
      "“the condition has length > 1 and only the first element will be used”Beginning Cgee S-function, @(#) geeformula.q 4.13 98/01/27\n",
      "running glm to get initial regression estimate\n"
     ]
    },
    {
     "name": "stdout",
     "output_type": "stream",
     "text": [
      "(Intercept)    Secretor    log(DPP) \n",
      "  -1.283766    1.944573    0.000621 \n"
     ]
    },
    {
     "name": "stderr",
     "output_type": "stream",
     "text": [
      "Warning message in if (is.na(mod)) {:\n",
      "“the condition has length > 1 and only the first element will be used”Beginning Cgee S-function, @(#) geeformula.q 4.13 98/01/27\n",
      "running glm to get initial regression estimate\n"
     ]
    },
    {
     "name": "stdout",
     "output_type": "stream",
     "text": [
      "(Intercept)    Secretor    log(DPP) \n",
      "     1.0743     -1.8301      0.0701 \n"
     ]
    },
    {
     "name": "stderr",
     "output_type": "stream",
     "text": [
      "Warning message in if (is.na(mod)) {:\n",
      "“the condition has length > 1 and only the first element will be used”Beginning Cgee S-function, @(#) geeformula.q 4.13 98/01/27\n",
      "running glm to get initial regression estimate\n"
     ]
    },
    {
     "name": "stdout",
     "output_type": "stream",
     "text": [
      "(Intercept)    Secretor    log(DPP) \n",
      "      0.208       0.479      -0.277 \n"
     ]
    },
    {
     "name": "stderr",
     "output_type": "stream",
     "text": [
      "Warning message in if (is.na(mod)) {:\n",
      "“the condition has length > 1 and only the first element will be used”Beginning Cgee S-function, @(#) geeformula.q 4.13 98/01/27\n",
      "running glm to get initial regression estimate\n"
     ]
    },
    {
     "name": "stdout",
     "output_type": "stream",
     "text": [
      "(Intercept)    Secretor    log(DPP) \n",
      "     1.2086     -1.8433      0.0038 \n"
     ]
    },
    {
     "name": "stderr",
     "output_type": "stream",
     "text": [
      "Warning message in if (is.na(mod)) {:\n",
      "“the condition has length > 1 and only the first element will be used”Beginning Cgee S-function, @(#) geeformula.q 4.13 98/01/27\n",
      "running glm to get initial regression estimate\n"
     ]
    },
    {
     "name": "stdout",
     "output_type": "stream",
     "text": [
      "(Intercept)    Secretor    log(DPP) \n",
      "      1.199      -0.368      -0.505 \n"
     ]
    },
    {
     "name": "stderr",
     "output_type": "stream",
     "text": [
      "Warning message in if (is.na(mod)) {:\n",
      "“the condition has length > 1 and only the first element will be used”Beginning Cgee S-function, @(#) geeformula.q 4.13 98/01/27\n",
      "running glm to get initial regression estimate\n"
     ]
    },
    {
     "name": "stdout",
     "output_type": "stream",
     "text": [
      "(Intercept)    Secretor    log(DPP) \n",
      "     -0.815       0.736       0.174 \n"
     ]
    },
    {
     "name": "stderr",
     "output_type": "stream",
     "text": [
      "Warning message in if (is.na(mod)) {:\n",
      "“the condition has length > 1 and only the first element will be used”Beginning Cgee S-function, @(#) geeformula.q 4.13 98/01/27\n",
      "running glm to get initial regression estimate\n"
     ]
    },
    {
     "name": "stdout",
     "output_type": "stream",
     "text": [
      "(Intercept)    Secretor    log(DPP) \n",
      "      0.813       0.130      -0.475 \n"
     ]
    },
    {
     "name": "stderr",
     "output_type": "stream",
     "text": [
      "Warning message in if (is.na(mod)) {:\n",
      "“the condition has length > 1 and only the first element will be used”Beginning Cgee S-function, @(#) geeformula.q 4.13 98/01/27\n",
      "running glm to get initial regression estimate\n"
     ]
    },
    {
     "name": "stdout",
     "output_type": "stream",
     "text": [
      "(Intercept)    Secretor    log(DPP) \n",
      "     0.0748     -1.2852      0.4081 \n"
     ]
    },
    {
     "name": "stderr",
     "output_type": "stream",
     "text": [
      "Warning message in if (is.na(mod)) {:\n",
      "“the condition has length > 1 and only the first element will be used”Beginning Cgee S-function, @(#) geeformula.q 4.13 98/01/27\n",
      "running glm to get initial regression estimate\n"
     ]
    },
    {
     "name": "stdout",
     "output_type": "stream",
     "text": [
      "(Intercept)    Secretor    log(DPP) \n",
      "      0.374      -1.369       0.280 \n"
     ]
    },
    {
     "name": "stderr",
     "output_type": "stream",
     "text": [
      "Warning message in if (is.na(mod)) {:\n",
      "“the condition has length > 1 and only the first element will be used”Beginning Cgee S-function, @(#) geeformula.q 4.13 98/01/27\n",
      "running glm to get initial regression estimate\n"
     ]
    },
    {
     "name": "stdout",
     "output_type": "stream",
     "text": [
      "(Intercept)    Secretor    log(DPP) \n",
      "      0.760      -0.710      -0.154 \n"
     ]
    },
    {
     "name": "stderr",
     "output_type": "stream",
     "text": [
      "Warning message in if (is.na(mod)) {:\n",
      "“the condition has length > 1 and only the first element will be used”Beginning Cgee S-function, @(#) geeformula.q 4.13 98/01/27\n",
      "running glm to get initial regression estimate\n"
     ]
    },
    {
     "name": "stdout",
     "output_type": "stream",
     "text": [
      "(Intercept)    Secretor    log(DPP) \n",
      "     -0.746      -0.268       0.488 \n"
     ]
    },
    {
     "name": "stderr",
     "output_type": "stream",
     "text": [
      "Warning message in if (is.na(mod)) {:\n",
      "“the condition has length > 1 and only the first element will be used”Warning message in if (is.na(mod)) {:\n",
      "“the condition has length > 1 and only the first element will be used”Warning message in if (is.na(mod)) {:\n",
      "“the condition has length > 1 and only the first element will be used”Warning message in if (is.na(mod)) {:\n",
      "“the condition has length > 1 and only the first element will be used”Warning message in if (is.na(mod)) {:\n",
      "“the condition has length > 1 and only the first element will be used”Warning message in if (is.na(mod)) {:\n",
      "“the condition has length > 1 and only the first element will be used”Warning message in if (is.na(mod)) {:\n",
      "“the condition has length > 1 and only the first element will be used”Warning message in if (is.na(mod)) {:\n",
      "“the condition has length > 1 and only the first element will be used”Warning message in if (is.na(mod)) {:\n",
      "“the condition has length > 1 and only the first element will be used”Warning message in if (is.na(mod)) {:\n",
      "“the condition has length > 1 and only the first element will be used”Warning message in if (is.na(mod)) {:\n",
      "“the condition has length > 1 and only the first element will be used”Warning message in if (is.na(mod)) {:\n",
      "“the condition has length > 1 and only the first element will be used”Warning message in if (is.na(mod)) {:\n",
      "“the condition has length > 1 and only the first element will be used”Warning message in if (is.na(mod)) {:\n",
      "“the condition has length > 1 and only the first element will be used”Warning message in if (is.na(mod)) {:\n",
      "“the condition has length > 1 and only the first element will be used”Warning message in if (is.na(mod)) {:\n",
      "“the condition has length > 1 and only the first element will be used”Warning message in if (is.na(mod)) {:\n",
      "“the condition has length > 1 and only the first element will be used”Warning message in if (is.na(mod)) {:\n",
      "“the condition has length > 1 and only the first element will be used”Warning message in if (is.na(mod)) {:\n",
      "“the condition has length > 1 and only the first element will be used”Warning message in if (is.na(mod)) {:\n",
      "“the condition has length > 1 and only the first element will be used”Warning message in if (is.na(mod)) {:\n",
      "“the condition has length > 1 and only the first element will be used”Warning message in if (is.na(mod)) {:\n",
      "“the condition has length > 1 and only the first element will be used”Warning message in if (is.na(mod)) {:\n",
      "“the condition has length > 1 and only the first element will be used”Warning message in if (is.na(mod)) {:\n",
      "“the condition has length > 1 and only the first element will be used”Warning message in if (is.na(mod)) {:\n",
      "“the condition has length > 1 and only the first element will be used”Warning message in if (is.na(mod)) {:\n",
      "“the condition has length > 1 and only the first element will be used”Warning message in if (is.na(mod)) {:\n",
      "“the condition has length > 1 and only the first element will be used”Warning message in if (is.na(mod)) {:\n",
      "“the condition has length > 1 and only the first element will be used”Warning message in if (is.na(mod)) {:\n",
      "“the condition has length > 1 and only the first element will be used”Warning message in if (is.na(mod)) {:\n",
      "“the condition has length > 1 and only the first element will be used”Warning message in if (is.na(mod)) {:\n",
      "“the condition has length > 1 and only the first element will be used”Warning message in if (is.na(mod)) {:\n",
      "“the condition has length > 1 and only the first element will be used”Warning message in if (is.na(mod)) {:\n",
      "“the condition has length > 1 and only the first element will be used”Warning message in if (is.na(mod)) {:\n",
      "“the condition has length > 1 and only the first element will be used”Warning message in if (is.na(mod)) {:\n",
      "“the condition has length > 1 and only the first element will be used”Warning message in if (is.na(mod)) {:\n",
      "“the condition has length > 1 and only the first element will be used”Warning message in if (is.na(mod)) {:\n",
      "“the condition has length > 1 and only the first element will be used”Warning message in if (is.na(mod)) {:\n",
      "“the condition has length > 1 and only the first element will be used”Warning message in if (is.na(mod)) {:\n",
      "“the condition has length > 1 and only the first element will be used”Warning message in if (is.na(mod)) {:\n",
      "“the condition has length > 1 and only the first element will be used”Warning message in if (is.na(mod)) {:\n",
      "“the condition has length > 1 and only the first element will be used”Warning message in if (is.na(mod)) {:\n",
      "“the condition has length > 1 and only the first element will be used”Warning message in if (is.na(mod)) {:\n",
      "“the condition has length > 1 and only the first element will be used”Warning message in if (is.na(mod)) {:\n",
      "“the condition has length > 1 and only the first element will be used”Warning message in if (is.na(mod)) {:\n",
      "“the condition has length > 1 and only the first element will be used”Warning message in if (is.na(mod)) {:\n",
      "“the condition has length > 1 and only the first element will be used”Warning message in if (is.na(mod)) {:\n",
      "“the condition has length > 1 and only the first element will be used”Warning message in if (is.na(mod)) {:\n",
      "“the condition has length > 1 and only the first element will be used”Warning message in if (is.na(mod)) {:\n",
      "“the condition has length > 1 and only the first element will be used”Warning message in if (is.na(mod)) {:\n",
      "“the condition has length > 1 and only the first element will be used”Warning message in if (is.na(mod)) {:\n",
      "“the condition has length > 1 and only the first element will be used”Warning message in if (is.na(mod)) {:\n",
      "“the condition has length > 1 and only the first element will be used”Warning message in if (is.na(mod)) {:\n",
      "“the condition has length > 1 and only the first element will be used”Warning message in if (is.na(mod)) {:\n",
      "“the condition has length > 1 and only the first element will be used”Warning message in if (is.na(mod)) {:\n",
      "“the condition has length > 1 and only the first element will be used”Warning message in if (is.na(mod)) {:\n",
      "“the condition has length > 1 and only the first element will be used”Warning message in if (is.na(mod)) {:\n",
      "“the condition has length > 1 and only the first element will be used”Warning message in if (is.na(mod)) {:\n",
      "“the condition has length > 1 and only the first element will be used”Warning message in if (is.na(mod)) {:\n",
      "“the condition has length > 1 and only the first element will be used”Warning message in if (is.na(mod)) {:\n",
      "“the condition has length > 1 and only the first element will be used”Warning message in if (is.na(mod)) {:\n",
      "“the condition has length > 1 and only the first element will be used”Warning message in if (is.na(mod)) {:\n",
      "“the condition has length > 1 and only the first element will be used”Warning message in if (is.na(mod)) {:\n",
      "“the condition has length > 1 and only the first element will be used”"
     ]
    }
   ],
   "source": [
    "library(gee)\n",
    "\n",
    "add_models=list()\n",
    "inter_models=list()\n",
    "\n",
    "i=0\n",
    "out_i=lapply( data, function(x){\n",
    "    i=i+1\n",
    "    x$Secretor = as.numeric(x$Secretor)\n",
    "    #\tx$Secretor = relevel(factor(ifelse(x$Secretor,'secretor','nonsecretor')),ref='nonsecretor')\n",
    "    mods_i = lapply( colnames(x)[colnames(x)%in%vars] , function(motif){\n",
    "        mod=NA\n",
    "        #try(mod<-gee(as.formula(paste(motif,'~ Secretor+log(DPP)')),id=PateintID,data=droplevels(x),corstr='exchangeable',family=Gamma()))\n",
    "        try(mod<-gee(as.formula(paste('scale(log(',motif,'+.001))~ Secretor+log(DPP)')),id=PateintID,data=droplevels(x),corstr='exchangeable'))\n",
    "        #try(mod<-gee(as.formula(paste('Secretor~scale(',motif,')+log(DPP)')),id=PateintID,data=droplevels(x),corstr='exchangeable',family='binomial'))\n",
    "        if(is.na(mod)){return(NULL)}else{as.data.frame(coef(summary(mod)))}\n",
    "    })\n",
    "    names(mods_i) = colnames(x)[colnames(x)%in%vars]\n",
    "    mods=as.data.frame( do.call(rbind,mods_i[!sapply(mods_i,is.null)]) )\n",
    "    mods = cbind(mods,do.call(rbind,strsplit( gsub('scale|log|\\\\(|\\\\)','',rownames(mods)) , split = '\\\\.') ) )\n",
    "    colnames(mods) = c('Coef','naiveSE','naiveZ','robustSE','robustZ','response','vars')\n",
    "    mods$type = 'additive'\n",
    "    mods$robustPr = 2*pnorm(-abs(mods$robustZ))\n",
    "    mods1=mods[mods$response%in%vars & mods$vars!='Intercept',]\n",
    "    \n",
    "    mods1\n",
    "})\n",
    "out=do.call(rbind,out_i) #[-(4:5)])\n",
    "out$data = unlist(lapply(strsplit(rownames(out),'\\\\.'),function(x) x[1]))\n",
    "\n",
    "\n",
    "#############\n",
    "out$response = factor( as.character(out$response), levels = sample(unique(as.character(out$response))))\n",
    "\n",
    "library(geepack) \n",
    "              \n",
    "# get whole models\n",
    "out_models=lapply( data, function(x){\n",
    "    i=i+1\n",
    "    x$Secretor = as.numeric(x$Secretor)\n",
    "    mods_i = lapply( colnames(x)[colnames(x)%in%vars] , function(motif){\n",
    "        mod=NA\n",
    "        try(mod<-geeglm(as.formula(paste('scale(log(',motif,'+.0001))~ Secretor+log(DPP)')),id=PateintID,data=droplevels(x),corstr='exchangeable'))\n",
    "#        try(mod<-geeglm(as.formula(paste(motif,'~ Secretor+log(DPP)')),id=PateintID,data=droplevels(x),corstr='exchangeable',family=Gamma()))\n",
    "#        try(mod<-geeglm(as.formula(paste('Secretor~log(DPP)+scale(',motif,')')),id=PateintID,data=droplevels(x),corstr='exchangeable',family='binomial'))\n",
    "        if(is.na(mod)){return(NA)}else{mod}\n",
    "    })\n",
    "    names(mods_i) = colnames(x)[colnames(x)%in%vars]\n",
    "    mods_i\n",
    "})"
   ]
  },
  {
   "cell_type": "code",
   "execution_count": 308,
   "metadata": {
    "scrolled": true
   },
   "outputs": [],
   "source": [
    "# x=data$glycan_concentration\n",
    "\n",
    "# p=unlist(apply( x[colnames(x)[colnames(x)%in%vars]],2,function(y){\n",
    "#     out=NULL;\n",
    "#     try(out<-shapiro.test(scale(log(y+.001)))$p.value);\n",
    "#     out} ))\n",
    "# hist(p)"
   ]
  },
  {
   "cell_type": "code",
   "execution_count": 570,
   "metadata": {
    "scrolled": true
   },
   "outputs": [
    {
     "name": "stdout",
     "output_type": "stream",
     "text": [
      "[1] \"x80\"\n",
      "[[1]]\n",
      "% latex table generated in R 3.6.1 by xtable 1.8-4 package\n",
      "% Sat Jul 20 19:36:33 2019\n",
      "\\begin{table}[ht]\n",
      "\\centering\n",
      "\\begin{tabular}{rrlr}\n",
      "  \\hline\n",
      " & Coef & 95 CI & Pr(W) \\\\ \n",
      "  \\hline\n",
      "(Intercept) & 0.74 & (0.348 - 1.13) & 0.01 \\\\ \n",
      "  Secretor & -1.37 & (-0.642 - -2.09) & 0.00 \\\\ \n",
      "  log(DPP) & 0.09 & (0.0654 - 0.117) & 0.53 \\\\ \n",
      "   \\hline\n",
      "\\end{tabular}\n",
      "\\end{table}\n",
      "\n",
      "[[2]]\n",
      "% latex table generated in R 3.6.1 by xtable 1.8-4 package\n",
      "% Sat Jul 20 19:36:33 2019\n",
      "\\begin{table}[ht]\n",
      "\\centering\n",
      "\\begin{tabular}{rlr}\n",
      "  \\hline\n",
      " & stat & value \\\\ \n",
      "  \\hline\n",
      "1 & Number of observations & 47.00 \\\\ \n",
      "  2 & Number of Clusters & 6.00 \\\\ \n",
      "  3 & Marginal R\\verb|^|2 & 0.45 \\\\ \n",
      "  4 & Degrees of Freedom & 44.00 \\\\ \n",
      "  5 & Shapiro-Wilks P & 0.53 \\\\ \n",
      "   \\hline\n",
      "\\end{tabular}\n",
      "\\end{table}\n",
      "\n",
      "[1] \"lnt\"\n",
      "[[1]]\n",
      "% latex table generated in R 3.6.1 by xtable 1.8-4 package\n",
      "% Sat Jul 20 19:36:33 2019\n",
      "\\begin{table}[ht]\n",
      "\\centering\n",
      "\\begin{tabular}{rrlr}\n",
      "  \\hline\n",
      " & Coef & 95 CI & Pr(W) \\\\ \n",
      "  \\hline\n",
      "(Intercept) & 0.42 & (0.302 - 0.547) & 0.00 \\\\ \n",
      "  Secretor & -1.48 & (-0.828 - -2.13) & 0.00 \\\\ \n",
      "  log(DPP) & 0.29 & (0.255 - 0.335) & 0.00 \\\\ \n",
      "   \\hline\n",
      "\\end{tabular}\n",
      "\\end{table}\n",
      "\n",
      "[[2]]\n",
      "% latex table generated in R 3.6.1 by xtable 1.8-4 package\n",
      "% Sat Jul 20 19:36:33 2019\n",
      "\\begin{table}[ht]\n",
      "\\centering\n",
      "\\begin{tabular}{rlr}\n",
      "  \\hline\n",
      " & stat & value \\\\ \n",
      "  \\hline\n",
      "1 & Number of observations & 47.00 \\\\ \n",
      "  2 & Number of Clusters & 6.00 \\\\ \n",
      "  3 & Marginal R\\verb|^|2 & 0.64 \\\\ \n",
      "  4 & Degrees of Freedom & 44.00 \\\\ \n",
      "  5 & Shapiro-Wilks P & 0.02 \\\\ \n",
      "   \\hline\n",
      "\\end{tabular}\n",
      "\\end{table}\n",
      "\n",
      "[1] \"lstb\"\n",
      "[[1]]\n",
      "% latex table generated in R 3.6.1 by xtable 1.8-4 package\n",
      "% Sat Jul 20 19:36:33 2019\n",
      "\\begin{table}[ht]\n",
      "\\centering\n",
      "\\begin{tabular}{rrlr}\n",
      "  \\hline\n",
      " & Coef & 95 CI & Pr(W) \\\\ \n",
      "  \\hline\n",
      "(Intercept) & 1.18 & (0.593 - 1.77) & 0.00 \\\\ \n",
      "  Secretor & -1.81 & (-0.925 - -2.69) & 0.00 \\\\ \n",
      "  log(DPP) & 0.01 & (0.00996 - 0.013) & 0.86 \\\\ \n",
      "   \\hline\n",
      "\\end{tabular}\n",
      "\\end{table}\n",
      "\n",
      "[[2]]\n",
      "% latex table generated in R 3.6.1 by xtable 1.8-4 package\n",
      "% Sat Jul 20 19:36:33 2019\n",
      "\\begin{table}[ht]\n",
      "\\centering\n",
      "\\begin{tabular}{rlr}\n",
      "  \\hline\n",
      " & stat & value \\\\ \n",
      "  \\hline\n",
      "1 & Number of observations & 47.00 \\\\ \n",
      "  2 & Number of Clusters & 6.00 \\\\ \n",
      "  3 & Marginal R\\verb|^|2 & 0.76 \\\\ \n",
      "  4 & Degrees of Freedom & 44.00 \\\\ \n",
      "  5 & Shapiro-Wilks P & 0.02 \\\\ \n",
      "   \\hline\n",
      "\\end{tabular}\n",
      "\\end{table}\n",
      "\n",
      "[1] \"dslnt\"\n",
      "[[1]]\n",
      "% latex table generated in R 3.6.1 by xtable 1.8-4 package\n",
      "% Sat Jul 20 19:36:33 2019\n",
      "\\begin{table}[ht]\n",
      "\\centering\n",
      "\\begin{tabular}{rrlr}\n",
      "  \\hline\n",
      " & Coef & 95 CI & Pr(W) \\\\ \n",
      "  \\hline\n",
      "(Intercept) & 0.78 & (0.285 - 1.27) & 0.02 \\\\ \n",
      "  Secretor & 0.16 & (0.122 - 0.204) & 0.21 \\\\ \n",
      "  log(DPP) & -0.47 & (-0.312 - -0.626) & 0.01 \\\\ \n",
      "   \\hline\n",
      "\\end{tabular}\n",
      "\\end{table}\n",
      "\n",
      "[[2]]\n",
      "% latex table generated in R 3.6.1 by xtable 1.8-4 package\n",
      "% Sat Jul 20 19:36:33 2019\n",
      "\\begin{table}[ht]\n",
      "\\centering\n",
      "\\begin{tabular}{rlr}\n",
      "  \\hline\n",
      " & stat & value \\\\ \n",
      "  \\hline\n",
      "1 & Number of observations & 47.00 \\\\ \n",
      "  2 & Number of Clusters & 6.00 \\\\ \n",
      "  3 & Marginal R\\verb|^|2 & 0.34 \\\\ \n",
      "  4 & Degrees of Freedom & 44.00 \\\\ \n",
      "  5 & Shapiro-Wilks P & 0.22 \\\\ \n",
      "   \\hline\n",
      "\\end{tabular}\n",
      "\\end{table}\n",
      "\n"
     ]
    }
   ],
   "source": [
    "xtabs=lapply(out_models$smallest_motif_abundance_dropped_more,parseSummary.GEEpack,odsig=3)\n",
    "#print(xtabs$X80)\n",
    "print('x80')\n",
    "print(xtabs$X80)\n",
    "\n",
    "xtabs2=lapply(out_models$glycan_percent,parseSummary.GEEpack,odsig=3)\n",
    "#print(xtabs$X80)\n",
    "print('lnt')\n",
    "print(xtabs2$LNT)\n",
    "print('lstb')\n",
    "print(xtabs2$LSTb)\n",
    "print('dslnt')\n",
    "print(xtabs2$DSLNT)\n",
    "\n",
    "#### to see all motif and glycan models, uncomment the next line of code\n",
    "#xtabs   # motifs\n",
    "#xtabs2 #glycans"
   ]
  },
  {
   "cell_type": "code",
   "execution_count": 542,
   "metadata": {},
   "outputs": [
    {
     "data": {
      "image/png": "[encoded data removed]",
      "text/plain": [
       "plot without title"
      ]
     },
     "metadata": {},
     "output_type": "display_data"
    }
   ],
   "source": [
    "\n",
    "#ggplot( data=droplevels(out[out$type=='additive' & out$data%in%keep_data,]) ,\n",
    "g1<-ggplot( data=droplevels(out[out$type=='additive'& out$data%in%keep_data &out$vars=='DPP',]), # & !grepl('DPP',rownames(out)),]) ,\n",
    "       aes(x=Coef,y=(-log(robustPr+1e-10,10)),size=(-log(robustPr+1e-10,10)),\n",
    "        label=response,color=response,group=response))+\n",
    "    geom_text_repel() + #scale_x_continuous(trans='log2') +\n",
    "    facet_grid(~data,scale='free')+geom_point(size=.8)+#geom_path(size=.3)+\n",
    "    geom_hline(yintercept=1.3)+geom_vline(xintercept=0)+ guides(color=FALSE,size=FALSE)+\n",
    "    theme_classic(base_size=15)+ggtitle('DPP')\n",
    "\n",
    "g2<-ggplot( data=droplevels(out[out$type=='additive'& out$data%in%keep_data &out$vars=='Secretor',]), # & !grepl('DPP',rownames(out)),]) ,\n",
    "       aes(x=Coef,y=(-log(robustPr+1e-10,10)),size=(-log(robustPr+1e-10,10)),\n",
    "        label=response,color=response,group=response))+\n",
    "    geom_text_repel() + #scale_x_continuous(trans='log2') +\n",
    "    facet_grid(~data,scale='free')+geom_point(size=.8)+#geom_path(size=.3)+\n",
    "    geom_hline(yintercept=1.3)+geom_vline(xintercept=0)+ guides(color=FALSE,size=FALSE)+\n",
    "    theme_classic(base_size=15)+ggtitle('Secretor')\n",
    "\n",
    "g = grid.arrange(grobs=list(g1,g2),nrow=2)\n",
    "\n",
    "#ggsave(g,filename = '~/Desktop/suppfig8.pdf',height=15,width=15)\n",
    "\n"
   ]
  },
  {
   "cell_type": "code",
   "execution_count": null,
   "metadata": {},
   "outputs": [],
   "source": []
  },
  {
   "cell_type": "code",
   "execution_count": null,
   "metadata": {},
   "outputs": [],
   "source": []
  },
  {
   "cell_type": "markdown",
   "metadata": {},
   "source": [
    "## Demonstration that X80 behaves distinctly from its related glycans (Fig4b)"
   ]
  },
  {
   "cell_type": "code",
   "execution_count": 545,
   "metadata": {},
   "outputs": [
    {
     "data": {
      "image/png": "[encoded data removed]",
      "text/plain": [
       "plot without title"
      ]
     },
     "metadata": {},
     "output_type": "display_data"
    }
   ],
   "source": [
    "tmp= melt(cbind( data$smallest_motif_abundance_dropped_more[,c('DPP','X80','Secretor','PateintID')],data$glycan_percent[,c('DSLNT','DSLNH','LSTb')]) , id.vars=c('DPP','Secretor','PateintID'))\n",
    "\n",
    "tmp$variable = factor(tmp$variable,levels=c('X80','LSTb','DSLNT','DSLNH'))\n",
    "g<-ggplot(data=droplevels(tmp),aes(x=DPP,y=value,linetype=Secretor,color=factor(Secretor)))+\n",
    "\t\tgeom_point(aes(shape=PateintID),size=4)+scale_x_log10()+\n",
    "\t\txlab('Log10 Days Postpartum (log DPP)')+ylab('Relative Abundance (HPLC)')+\n",
    "\t\tstat_smooth(method='lm',size=2,se=T)+facet_grid(cols=vars(variable))+ \n",
    "        theme_classic(base_size = 15)+theme(legend.position=\"bottom\")+\n",
    "        scale_color_manual(values=c(\"#2E4172\", \"#AA6C39\"))+guides(linetype=F)\n",
    "g\n",
    "#ggsave(g,filename = '~/Desktop/fig4b.pdf',height=10,width=15)"
   ]
  },
  {
   "cell_type": "markdown",
   "metadata": {},
   "source": [
    "## Using the Product-Reactant ratio association to phenotype to determine important reactions in biosynthesis (Fig5 supporting exploration)"
   ]
  },
  {
   "cell_type": "code",
   "execution_count": 549,
   "metadata": {},
   "outputs": [
    {
     "name": "stdout",
     "output_type": "stream",
     "text": [
      "     [,1] [,2]\n",
      "[1,] \"5\"  \"20\"\n",
      "[1] \"skip 5_20\"\n",
      "     [,1] [,2]\n",
      "[1,] \"5\"  \"21\"\n",
      "[1] \"skip 5_21\"\n",
      "     [,1] [,2]\n",
      "[1,] \"5\"  \"26\"\n",
      "[1] \"skip 5_26\"\n",
      "     [,1] [,2]\n",
      "[1,] \"5\"  \"29\"\n",
      "[1] \"skip 5_29\"\n",
      "     [,1] [,2]\n",
      "[1,] \"5\"  \"35\"\n",
      "[1] \"skip 5_35\"\n",
      "     [,1] [,2]\n",
      "[1,] \"20\" \"37\"\n",
      "[1] \"skip 20_37\"\n",
      "     [,1] [,2]\n",
      "[1,] \"20\" \"38\"\n"
     ]
    },
    {
     "name": "stderr",
     "output_type": "stream",
     "text": [
      "Warning message:\n",
      "“glm.fit: algorithm did not converge”Warning message:\n",
      "“glm.fit: fitted probabilities numerically 0 or 1 occurred”Warning message:\n",
      "“glm.fit: algorithm did not converge”Warning message:\n",
      "“glm.fit: fitted probabilities numerically 0 or 1 occurred”Warning message:\n",
      "“glm.fit: algorithm did not converge”Warning message:\n",
      "“glm.fit: fitted probabilities numerically 0 or 1 occurred”"
     ]
    },
    {
     "name": "stdout",
     "output_type": "stream",
     "text": [
      "     [,1] [,2]\n",
      "[1,] \"20\" \"40\"\n"
     ]
    },
    {
     "name": "stderr",
     "output_type": "stream",
     "text": [
      "Warning message:\n",
      "“glm.fit: algorithm did not converge”Warning message:\n",
      "“glm.fit: fitted probabilities numerically 0 or 1 occurred”Warning message:\n",
      "“glm.fit: algorithm did not converge”Warning message:\n",
      "“glm.fit: fitted probabilities numerically 0 or 1 occurred”Warning message:\n",
      "“glm.fit: algorithm did not converge”Warning message:\n",
      "“glm.fit: fitted probabilities numerically 0 or 1 occurred”"
     ]
    },
    {
     "name": "stdout",
     "output_type": "stream",
     "text": [
      "     [,1] [,2]\n",
      "[1,] \"20\" \"41\"\n",
      "[1] \"skip 20_41\"\n",
      "     [,1] [,2]\n",
      "[1,] \"20\" \"43\"\n",
      "[1] \"skip 20_43\"\n",
      "     [,1] [,2]\n",
      "[1,] \"20\" \"51\"\n",
      "[1] \"skip 20_51\"\n",
      "     [,1] [,2]\n",
      "[1,] \"20\" \"53\"\n",
      "[1] \"skip 20_53\"\n",
      "     [,1] [,2]\n",
      "[1,] \"26\" \"43\"\n",
      "[1] \"skip 26_43\"\n",
      "     [,1] [,2]\n",
      "[1,] \"29\" \"45\"\n",
      "[1] \"skip 29_45\"\n",
      "     [,1] [,2]\n",
      "[1,] \"29\" \"46\"\n",
      "[1] \"skip 29_46\"\n",
      "     [,1] [,2]\n",
      "[1,] \"29\" \"51\"\n",
      "[1] \"skip 29_51\"\n",
      "     [,1] [,2]\n",
      "[1,] \"37\" \"61\"\n",
      "[1] \"skip 37_61\"\n",
      "     [,1] [,2]\n",
      "[1,] \"37\" \"64\"\n",
      "[1] \"skip 37_64\"\n",
      "     [,1] [,2]\n",
      "[1,] \"38\" \"61\"\n"
     ]
    },
    {
     "name": "stderr",
     "output_type": "stream",
     "text": [
      "Warning message:\n",
      "“glm.fit: algorithm did not converge”Warning message:\n",
      "“glm.fit: fitted probabilities numerically 0 or 1 occurred”Warning message:\n",
      "“glm.fit: algorithm did not converge”Warning message:\n",
      "“glm.fit: fitted probabilities numerically 0 or 1 occurred”Warning message:\n",
      "“glm.fit: algorithm did not converge”Warning message:\n",
      "“glm.fit: fitted probabilities numerically 0 or 1 occurred”"
     ]
    },
    {
     "name": "stdout",
     "output_type": "stream",
     "text": [
      "     [,1] [,2]\n",
      "[1,] \"38\" \"65\"\n",
      "[1] \"skip 38_65\"\n",
      "     [,1] [,2]\n",
      "[1,] \"38\" \"79\"\n",
      "[1] \"skip 38_79\"\n",
      "     [,1] [,2]\n",
      "[1,] \"38\" \"80\"\n"
     ]
    },
    {
     "name": "stderr",
     "output_type": "stream",
     "text": [
      "Warning message:\n",
      "“glm.fit: algorithm did not converge”Warning message:\n",
      "“glm.fit: fitted probabilities numerically 0 or 1 occurred”Warning message:\n",
      "“glm.fit: algorithm did not converge”Warning message:\n",
      "“glm.fit: fitted probabilities numerically 0 or 1 occurred”Warning message:\n",
      "“glm.fit: algorithm did not converge”Warning message:\n",
      "“glm.fit: fitted probabilities numerically 0 or 1 occurred”"
     ]
    },
    {
     "name": "stdout",
     "output_type": "stream",
     "text": [
      "     [,1] [,2]\n",
      "[1,] \"38\" \"85\"\n",
      "[1] \"skip 38_85\"\n",
      "     [,1] [,2]\n",
      "[1,] \"38\" \"86\"\n"
     ]
    },
    {
     "name": "stderr",
     "output_type": "stream",
     "text": [
      "Warning message:\n",
      "“glm.fit: algorithm did not converge”Warning message:\n",
      "“glm.fit: fitted probabilities numerically 0 or 1 occurred”Warning message:\n",
      "“glm.fit: algorithm did not converge”Warning message:\n",
      "“glm.fit: fitted probabilities numerically 0 or 1 occurred”Warning message:\n",
      "“glm.fit: algorithm did not converge”Warning message:\n",
      "“glm.fit: fitted probabilities numerically 0 or 1 occurred”Warning message:\n",
      "“glm.fit: algorithm did not converge”Warning message:\n",
      "“glm.fit: fitted probabilities numerically 0 or 1 occurred”"
     ]
    },
    {
     "name": "stdout",
     "output_type": "stream",
     "text": [
      "     [,1] [,2]\n",
      "[1,] \"40\" \"62\"\n",
      "     [,1] [,2]\n",
      "[1,] \"40\" \"63\"\n",
      "     [,1] [,2]\n",
      "[1,] \"40\" \"73\"\n",
      "[1] \"skip 40_73\"\n",
      "     [,1] [,2]\n",
      "[1,] \"41\" \"62\"\n",
      "[1] \"skip 41_62\"\n",
      "     [,1] [,2]\n",
      "[1,] \"41\" \"74\"\n",
      "[1] \"skip 41_74\"\n",
      "     [,1] [,2]\n",
      "[1,] \"43\" \"64\"\n",
      "[1] \"skip 43_64\"\n",
      "     [,1] [,2]\n",
      "[1,] \"43\" \"65\"\n",
      "[1] \"skip 43_65\"\n",
      "     [,1] [,2]\n",
      "[1,] \"45\" \"66\"\n",
      "[1] \"skip 45_66\"\n",
      "     [,1] [,2]\n",
      "[1,] \"45\" \"75\"\n",
      "[1] \"skip 45_75\"\n",
      "     [,1] [,2]\n",
      "[1,] \"45\" \"88\"\n",
      "[1] \"skip 45_88\"\n",
      "     [,1] [,2]\n",
      "[1,] \"46\" \"66\"\n",
      "[1] \"skip 46_66\"\n",
      "     [,1] [,2]\n",
      "[1,] \"46\" \"76\"\n",
      "[1] \"skip 46_76\"\n",
      "     [,1] [,2]\n",
      "[1,] \"51\" \"73\"\n",
      "[1] \"skip 51_73\"\n",
      "     [,1] [,2]\n",
      "[1,] \"51\" \"74\"\n",
      "[1] \"skip 51_74\"\n",
      "     [,1] [,2]\n",
      "[1,] \"51\" \"75\"\n",
      "[1] \"skip 51_75\"\n",
      "     [,1] [,2]\n",
      "[1,] \"51\" \"76\"\n",
      "[1] \"skip 51_76\"\n",
      "     [,1] [,2]\n",
      "[1,] \"51\" \"81\"\n",
      "[1] \"skip 51_81\"\n",
      "     [,1] [,2]\n",
      "[1,] \"51\" \"85\"\n",
      "[1] \"skip 51_85\"\n",
      "     [,1] [,2]\n",
      "[1,] \"53\" \"80\"\n",
      "[1] \"skip 53_80\"\n",
      "     [,1] [,2]\n",
      "[1,] \"53\" \"81\"\n",
      "[1] \"skip 53_81\"\n",
      "     [,1] [,2]\n",
      "[1,] \"61\" \"92\"\n"
     ]
    },
    {
     "name": "stderr",
     "output_type": "stream",
     "text": [
      "Warning message:\n",
      "“glm.fit: fitted probabilities numerically 0 or 1 occurred”Warning message:\n",
      "“glm.fit: algorithm did not converge”Warning message:\n",
      "“glm.fit: fitted probabilities numerically 0 or 1 occurred”Warning message:\n",
      "“glm.fit: algorithm did not converge”Warning message:\n",
      "“glm.fit: fitted probabilities numerically 0 or 1 occurred”"
     ]
    },
    {
     "name": "stdout",
     "output_type": "stream",
     "text": [
      "     [,1] [,2]\n",
      "[1,] \"62\" \"97\"\n",
      "[1] \"skip 62_97\"\n",
      "     [,1] [,2] \n",
      "[1,] \"62\" \"113\"\n",
      "[1] \"skip 62_113\"\n",
      "     [,1] [,2] \n",
      "[1,] \"63\" \"113\"\n",
      "[1] \"skip 63_113\"\n",
      "     [,1] [,2] \n",
      "[1,] \"63\" \"116\"\n",
      "[1] \"skip 63_116\"\n",
      "     [,1] [,2]\n",
      "[1,] \"64\" \"92\"\n",
      "[1] \"skip 64_92\"\n",
      "     [,1] [,2]\n",
      "[1,] \"65\" \"92\"\n",
      "[1] \"skip 65_92\"\n",
      "     [,1] [,2] \n",
      "[1,] \"66\" \"102\"\n",
      "[1] \"skip 66_102\"\n",
      "     [,1] [,2]\n",
      "[1,] \"73\" \"97\"\n",
      "[1] \"skip 73_97\"\n",
      "     [,1] [,2]\n",
      "[1,] \"73\" \"98\"\n",
      "[1] \"skip 73_98\"\n",
      "     [,1] [,2] \n",
      "[1,] \"73\" \"100\"\n",
      "[1] \"skip 73_100\"\n",
      "     [,1] [,2] \n",
      "[1,] \"73\" \"116\"\n",
      "[1] \"skip 73_116\"\n",
      "     [,1] [,2]\n",
      "[1,] \"74\" \"97\"\n",
      "[1] \"skip 74_97\"\n",
      "     [,1] [,2]\n",
      "[1,] \"74\" \"99\"\n",
      "[1] \"skip 74_99\"\n",
      "     [,1] [,2] \n",
      "[1,] \"74\" \"101\"\n",
      "[1] \"skip 74_101\"\n",
      "     [,1] [,2]\n",
      "[1,] \"75\" \"98\"\n",
      "[1] \"skip 75_98\"\n",
      "     [,1] [,2]\n",
      "[1,] \"75\" \"99\"\n",
      "[1] \"skip 75_99\"\n",
      "     [,1] [,2] \n",
      "[1,] \"75\" \"102\"\n",
      "[1] \"skip 75_102\"\n",
      "     [,1] [,2] \n",
      "[1,] \"75\" \"104\"\n",
      "[1] \"skip 75_104\"\n",
      "     [,1] [,2] \n",
      "[1,] \"75\" \"110\"\n",
      "     [,1] [,2] \n",
      "[1,] \"75\" \"117\"\n",
      "[1] \"skip 75_117\"\n",
      "     [,1] [,2] \n",
      "[1,] \"76\" \"100\"\n",
      "[1] \"skip 76_100\"\n",
      "     [,1] [,2] \n",
      "[1,] \"76\" \"101\"\n",
      "[1] \"skip 76_101\"\n",
      "     [,1] [,2] \n",
      "[1,] \"76\" \"102\"\n",
      "[1] \"skip 76_102\"\n",
      "     [,1] [,2] \n",
      "[1,] \"79\" \"103\"\n",
      "[1] \"skip 79_103\"\n",
      "     [,1] [,2] \n",
      "[1,] \"79\" \"108\"\n",
      "[1] \"skip 79_108\"\n",
      "     [,1] [,2] \n",
      "[1,] \"80\" \"103\"\n"
     ]
    },
    {
     "name": "stderr",
     "output_type": "stream",
     "text": [
      "Warning message:\n",
      "“glm.fit: fitted probabilities numerically 0 or 1 occurred”Warning message:\n",
      "“glm.fit: fitted probabilities numerically 0 or 1 occurred”"
     ]
    },
    {
     "name": "stdout",
     "output_type": "stream",
     "text": [
      "     [,1] [,2] \n",
      "[1,] \"80\" \"109\"\n",
      "[1] \"skip 80_109\"\n",
      "     [,1] [,2] \n",
      "[1,] \"81\" \"104\"\n",
      "[1] \"skip 81_104\"\n",
      "     [,1] [,2] \n",
      "[1,] \"81\" \"109\"\n",
      "[1] \"skip 81_109\"\n",
      "     [,1] [,2] \n",
      "[1,] \"85\" \"108\"\n",
      "[1] \"skip 85_108\"\n",
      "     [,1] [,2] \n",
      "[1,] \"85\" \"109\"\n",
      "[1] \"skip 85_109\"\n",
      "     [,1] [,2] \n",
      "[1,] \"85\" \"110\"\n",
      "[1] \"skip 85_110\"\n",
      "     [,1] [,2] \n",
      "[1,] \"85\" \"112\"\n",
      "[1] \"skip 85_112\"\n",
      "     [,1] [,2] \n",
      "[1,] \"86\" \"112\"\n",
      "[1] \"skip 86_112\"\n",
      "     [,1] [,2] \n",
      "[1,] \"88\" \"117\"\n",
      "[1] \"skip 88_117\"\n",
      "     [,1] [,2] \n",
      "[1,] \"97\" \"121\"\n",
      "[1] \"skip 97_121\"\n",
      "     [,1] [,2] \n",
      "[1,] \"97\" \"122\"\n",
      "[1] \"skip 97_122\"\n",
      "     [,1] [,2] \n",
      "[1,] \"97\" \"130\"\n",
      "[1] \"skip 97_130\"\n",
      "     [,1] [,2] \n",
      "[1,] \"98\" \"121\"\n",
      "[1] \"skip 98_121\"\n",
      "     [,1] [,2] \n",
      "[1,] \"98\" \"123\"\n",
      "[1] \"skip 98_123\"\n",
      "     [,1] [,2] \n",
      "[1,] \"98\" \"135\"\n",
      "[1] \"skip 98_135\"\n",
      "     [,1] [,2] \n",
      "[1,] \"98\" \"136\"\n",
      "[1] \"skip 98_136\"\n",
      "     [,1] [,2] \n",
      "[1,] \"99\" \"121\"\n",
      "[1] \"skip 99_121\"\n",
      "     [,1] [,2] \n",
      "[1,] \"99\" \"124\"\n",
      "[1] \"skip 99_124\"\n",
      "     [,1] [,2] \n",
      "[1,] \"99\" \"131\"\n",
      "[1] \"skip 99_131\"\n",
      "     [,1]  [,2] \n",
      "[1,] \"100\" \"122\"\n",
      "[1] \"skip 100_122\"\n",
      "     [,1]  [,2] \n",
      "[1,] \"100\" \"123\"\n",
      "[1] \"skip 100_123\"\n",
      "     [,1]  [,2] \n",
      "[1,] \"101\" \"122\"\n",
      "[1] \"skip 101_122\"\n",
      "     [,1]  [,2] \n",
      "[1,] \"101\" \"124\"\n",
      "[1] \"skip 101_124\"\n",
      "     [,1]  [,2] \n",
      "[1,] \"102\" \"123\"\n",
      "[1] \"skip 102_123\"\n",
      "     [,1]  [,2] \n",
      "[1,] \"102\" \"124\"\n",
      "[1] \"skip 102_124\"\n",
      "     [,1]  [,2] \n",
      "[1,] \"103\" \"126\"\n",
      "[1] \"skip 103_126\"\n",
      "     [,1]  [,2] \n",
      "[1,] \"104\" \"128\"\n",
      "[1] \"skip 104_128\"\n",
      "     [,1]  [,2] \n",
      "[1,] \"108\" \"126\"\n",
      "[1] \"skip 108_126\"\n",
      "     [,1]  [,2] \n",
      "[1,] \"108\" \"127\"\n",
      "[1] \"skip 108_127\"\n",
      "     [,1]  [,2] \n",
      "[1,] \"109\" \"126\"\n",
      "[1] \"skip 109_126\"\n",
      "     [,1]  [,2] \n",
      "[1,] \"109\" \"128\"\n",
      "[1] \"skip 109_128\"\n",
      "     [,1]  [,2] \n",
      "[1,] \"110\" \"127\"\n",
      "[1] \"skip 110_127\"\n",
      "     [,1]  [,2] \n",
      "[1,] \"110\" \"128\"\n",
      "[1] \"skip 110_128\"\n",
      "     [,1]  [,2] \n",
      "[1,] \"110\" \"129\"\n",
      "     [,1]  [,2] \n",
      "[1,] \"112\" \"129\"\n",
      "[1] \"skip 112_129\"\n",
      "     [,1]  [,2] \n",
      "[1,] \"113\" \"130\"\n",
      "[1] \"skip 113_130\"\n",
      "     [,1]  [,2] \n",
      "[1,] \"116\" \"130\"\n",
      "[1] \"skip 116_130\"\n",
      "     [,1]  [,2] \n",
      "[1,] \"116\" \"135\"\n",
      "[1] \"skip 116_135\"\n",
      "     [,1]  [,2] \n",
      "[1,] \"117\" \"131\"\n",
      "[1] \"skip 117_131\"\n",
      "     [,1]  [,2] \n",
      "[1,] \"117\" \"136\"\n",
      "[1] \"skip 117_136\"\n",
      "     [,1]  [,2] \n",
      "[1,] \"121\" \"137\"\n",
      "     [,1]  [,2] \n",
      "[1,] \"121\" \"140\"\n",
      "[1] \"skip 121_140\"\n",
      "     [,1]  [,2] \n",
      "[1,] \"121\" \"142\"\n",
      "[1] \"skip 121_142\"\n",
      "     [,1]  [,2] \n",
      "[1,] \"122\" \"137\"\n",
      "[1] \"skip 122_137\"\n",
      "     [,1]  [,2] \n",
      "[1,] \"123\" \"137\"\n",
      "[1] \"skip 123_137\"\n",
      "     [,1]  [,2] \n",
      "[1,] \"124\" \"137\"\n",
      "[1] \"skip 124_137\"\n",
      "     [,1]  [,2] \n",
      "[1,] \"126\" \"138\"\n",
      "[1] \"skip 126_138\"\n",
      "     [,1]  [,2] \n",
      "[1,] \"127\" \"138\"\n",
      "[1] \"skip 127_138\"\n",
      "     [,1]  [,2] \n",
      "[1,] \"128\" \"138\"\n",
      "[1] \"skip 128_138\"\n",
      "     [,1]  [,2] \n",
      "[1,] \"130\" \"140\"\n",
      "[1] \"skip 130_140\"\n",
      "     [,1]  [,2] \n",
      "[1,] \"131\" \"142\"\n",
      "[1] \"skip 131_142\"\n",
      "     [,1]  [,2] \n",
      "[1,] \"135\" \"140\"\n",
      "[1] \"skip 135_140\"\n",
      "     [,1]  [,2] \n",
      "[1,] \"135\" \"141\"\n",
      "[1] \"skip 135_141\"\n",
      "     [,1]  [,2] \n",
      "[1,] \"136\" \"141\"\n",
      "[1] \"skip 136_141\"\n",
      "     [,1]  [,2] \n",
      "[1,] \"136\" \"142\"\n",
      "[1] \"skip 136_142\"\n",
      "     [,1]  [,2] \n",
      "[1,] \"140\" \"143\"\n",
      "[1] \"skip 140_143\"\n",
      "     [,1]  [,2] \n",
      "[1,] \"141\" \"143\"\n",
      "[1] \"skip 141_143\"\n",
      "     [,1]  [,2] \n",
      "[1,] \"142\" \"143\"\n",
      "[1] \"skip 142_143\"\n"
     ]
    }
   ],
   "source": [
    "#### load heirachy\n",
    "r = read.csv('example_data/hmo_stats_data/edges.txt',header=FALSE)\n",
    "heir = graph_from_edgelist( cbind( as.character(r[,1]) , as.character(r[,2]) ))\n",
    "#plot(heir, layout=layout_as_tree(heir))\n",
    "\n",
    "#### data\n",
    "tmp = data$smallest_motif_abundance_dropped_more\n",
    "\n",
    "comp=list()\n",
    "comp_clean=list()\n",
    "p = c(); lfc=c()\n",
    "for( e in E(heir)){\n",
    "    p = c(p,1);\n",
    "    lfc=c(lfc,0);\n",
    "\n",
    "    print(ends(heir,e))\n",
    "    en=as.character(ends(heir,e))\n",
    "    if(any(! paste0('X',en) %in% colnames(tmp) )){print(paste('skip',paste(en,collapse='_')));next}\n",
    "    if( !all( apply(tmp[,paste0('X',en)],2,sd) > 1e-4 ) | all( tmp[[paste0('X',en[1])]] == tmp[[paste0('X',en[2])]] ) ){\n",
    "        print(paste('skip',paste(en,collapse='_')));next}\n",
    "    # run models\n",
    "    f1 = Secretor ~ log(DPP)\n",
    "    f2 = as.formula(paste0('Secretor ~ log(DPP) + I(',paste(paste0('X',rev(en)),collapse='/'),')'  ) )\n",
    "\n",
    "    m1 = geeglm( f1, id=PateintID,data=tmp,corstr='exchangeable',family='binomial')\n",
    "    m2 = geeglm( f2 , id=PateintID,data=tmp,corstr='exchangeable',family='binomial')\n",
    "\n",
    "    f0 = as.formula(paste0('Secretor ~ scale(X',en[1],')'))\n",
    "    f = as.formula(paste0('Secretor ~  scale(X',en[1],') + scale(X',en[2],')'  ) )\n",
    "\n",
    "    m0 = geeglm( f0, id=PateintID,data=tmp,corstr='exchangeable',family='binomial')\n",
    "    m = geeglm( f , id=PateintID,data=tmp,corstr='exchangeable',family='binomial')\n",
    "\n",
    "    aov = anova(m0,m,test='LRT')\n",
    "\n",
    "    out = data.frame( coef(summary(m2)) )\n",
    "    out$iter = paste(en,collapse='_')\n",
    "    out$vars = rownames(out)\n",
    "    out$LRT = aov[[3]]\n",
    "\n",
    "    #if(any(abs(out$Estimate)>15)){next}\n",
    "\n",
    "    p[length(p)] = aov[[3]]\n",
    "    lfc[length(lfc)] = coef(summary(m2))[3,1]\n",
    "\n",
    "    comp[[paste(en,collapse='_')]] = list(m1,m2,aov,m)\n",
    "    comp_clean[[paste(en,collapse='_')]] = out\n",
    "}\n",
    "\n",
    "out=do.call(rbind,comp_clean)\n",
    "out = out[!grepl('Intercept|DPP',rownames(out)),]\n",
    "#write.csv(out,file='motifAnyl/motif_heir.12.7.18.Bokan/stats.csv')\n"
   ]
  },
  {
   "cell_type": "code",
   "execution_count": 550,
   "metadata": {
    "scrolled": false
   },
   "outputs": [
    {
     "data": {
      "text/html": [
       "<table>\n",
       "<caption>A data.frame: 2 × 8</caption>\n",
       "<thead>\n",
       "\t<tr><th></th><th scope=col>Estimate</th><th scope=col>Std.err</th><th scope=col>Wald</th><th scope=col>Pr...W..</th><th scope=col>iter</th><th scope=col>vars</th><th scope=col>LRT</th><th scope=col>q</th></tr>\n",
       "\t<tr><th></th><th scope=col>&lt;dbl&gt;</th><th scope=col>&lt;dbl&gt;</th><th scope=col>&lt;dbl&gt;</th><th scope=col>&lt;dbl&gt;</th><th scope=col>&lt;chr&gt;</th><th scope=col>&lt;chr&gt;</th><th scope=col>&lt;dbl&gt;</th><th scope=col>&lt;dbl&gt;</th></tr>\n",
       "</thead>\n",
       "<tbody>\n",
       "\t<tr><th scope=row>110_129.I(X129/X110)</th><td> 0.0178</td><td>0.0103</td><td>3.00</td><td>0.0831</td><td>110_129</td><td>I(X129/X110)</td><td>0.0248</td><td>0.0271</td></tr>\n",
       "\t<tr><th scope=row>80_103.I(X103/X80)</th><td>-0.0526</td><td>0.0223</td><td>5.56</td><td>0.0183</td><td>80_103 </td><td>I(X103/X80) </td><td>0.0487</td><td>0.0487</td></tr>\n",
       "</tbody>\n",
       "</table>\n"
      ],
      "text/latex": [
       "A data.frame: 2 × 8\n",
       "\\begin{tabular}{r|llllllll}\n",
       "  & Estimate & Std.err & Wald & Pr...W.. & iter & vars & LRT & q\\\\\n",
       "  & <dbl> & <dbl> & <dbl> & <dbl> & <chr> & <chr> & <dbl> & <dbl>\\\\\n",
       "\\hline\n",
       "\t110\\_129.I(X129/X110) &  0.0178 & 0.0103 & 3.00 & 0.0831 & 110\\_129 & I(X129/X110) & 0.0248 & 0.0271\\\\\n",
       "\t80\\_103.I(X103/X80) & -0.0526 & 0.0223 & 5.56 & 0.0183 & 80\\_103  & I(X103/X80)  & 0.0487 & 0.0487\\\\\n",
       "\\end{tabular}\n"
      ],
      "text/markdown": [
       "\n",
       "A data.frame: 2 × 8\n",
       "\n",
       "| <!--/--> | Estimate &lt;dbl&gt; | Std.err &lt;dbl&gt; | Wald &lt;dbl&gt; | Pr...W.. &lt;dbl&gt; | iter &lt;chr&gt; | vars &lt;chr&gt; | LRT &lt;dbl&gt; | q &lt;dbl&gt; |\n",
       "|---|---|---|---|---|---|---|---|---|\n",
       "| 110_129.I(X129/X110) |  0.0178 | 0.0103 | 3.00 | 0.0831 | 110_129 | I(X129/X110) | 0.0248 | 0.0271 |\n",
       "| 80_103.I(X103/X80) | -0.0526 | 0.0223 | 5.56 | 0.0183 | 80_103  | I(X103/X80)  | 0.0487 | 0.0487 |\n",
       "\n"
      ],
      "text/plain": [
       "                     Estimate Std.err Wald Pr...W.. iter    vars         LRT   \n",
       "110_129.I(X129/X110)  0.0178  0.0103  3.00 0.0831   110_129 I(X129/X110) 0.0248\n",
       "80_103.I(X103/X80)   -0.0526  0.0223  5.56 0.0183   80_103  I(X103/X80)  0.0487\n",
       "                     q     \n",
       "110_129.I(X129/X110) 0.0271\n",
       "80_103.I(X103/X80)   0.0487"
      ]
     },
     "metadata": {},
     "output_type": "display_data"
    },
    {
     "name": "stdout",
     "output_type": "stream",
     "text": [
      "[[1]]\n",
      "% latex table generated in R 3.6.1 by xtable 1.8-4 package\n",
      "% Sat Jul 20 19:27:23 2019\n",
      "\\begin{table}[ht]\n",
      "\\centering\n",
      "\\begin{tabular}{rrlr}\n",
      "  \\hline\n",
      " & Coef & 95 CI & Pr(W) \\\\ \n",
      "  \\hline\n",
      "(Intercept) & 2.00 & (-1.4 - 5.4) & 0.42 \\\\ \n",
      "  log(DPP) & 1.00 & (1 - 1) & 0.14 \\\\ \n",
      "  I(X80/X38) & 0.99 & (0.957 - 1.02) & 0.55 \\\\ \n",
      "   \\hline\n",
      "\\end{tabular}\n",
      "\\end{table}\n",
      "\n",
      "[[2]]\n",
      "% latex table generated in R 3.6.1 by xtable 1.8-4 package\n",
      "% Sat Jul 20 19:27:23 2019\n",
      "\\begin{table}[ht]\n",
      "\\centering\n",
      "\\begin{tabular}{rlr}\n",
      "  \\hline\n",
      " & stat & value \\\\ \n",
      "  \\hline\n",
      "1 & Number of observations & 47.00 \\\\ \n",
      "  2 & Number of Clusters & 6.00 \\\\ \n",
      "  3 & Marginal R\\verb|^|2 & -0.00 \\\\ \n",
      "  4 & Degrees of Freedom & 44.00 \\\\ \n",
      "  5 & Shapiro-Wilks P &  \\\\ \n",
      "   \\hline\n",
      "\\end{tabular}\n",
      "\\end{table}\n",
      "\n",
      "[[1]]\n",
      "% latex table generated in R 3.6.1 by xtable 1.8-4 package\n",
      "% Sat Jul 20 19:27:23 2019\n",
      "\\begin{table}[ht]\n",
      "\\centering\n",
      "\\begin{tabular}{rrlr}\n",
      "  \\hline\n",
      " & Coef & 95 CI & Pr(W) \\\\ \n",
      "  \\hline\n",
      "(Intercept) & 2.07 & (-1.49 - 5.63) & 0.41 \\\\ \n",
      "  log(DPP) & 1.00 & (0.999 - 1) & 0.99 \\\\ \n",
      "  I(X103/X80) & 0.95 & (0.907 - 0.99) & 0.02 \\\\ \n",
      "   \\hline\n",
      "\\end{tabular}\n",
      "\\end{table}\n",
      "\n",
      "[[2]]\n",
      "% latex table generated in R 3.6.1 by xtable 1.8-4 package\n",
      "% Sat Jul 20 19:27:23 2019\n",
      "\\begin{table}[ht]\n",
      "\\centering\n",
      "\\begin{tabular}{rlr}\n",
      "  \\hline\n",
      " & stat & value \\\\ \n",
      "  \\hline\n",
      "1 & Number of observations & 47.00 \\\\ \n",
      "  2 & Number of Clusters & 6.00 \\\\ \n",
      "  3 & Marginal R\\verb|^|2 & -0.01 \\\\ \n",
      "  4 & Degrees of Freedom & 44.00 \\\\ \n",
      "  5 & Shapiro-Wilks P &  \\\\ \n",
      "   \\hline\n",
      "\\end{tabular}\n",
      "\\end{table}\n",
      "\n"
     ]
    }
   ],
   "source": [
    "out$q = p.adjust(out$LRT,'fdr')\n",
    "#hist(out$q,main='FDR corrected significance of Likelihood Ratio Test\\n(significantly secretion-associated reactions)')\n",
    "sub<-out[out$q>0&out$q<.1,]\n",
    "sub[order(sub$q),]\n",
    "# E(heir)$p = p\n",
    "# E(heir)$lfc = lfc\n",
    "# E(heir)$q = p.adjust(p,'fdr')\n",
    "\n",
    "# E(heir)$weight = (-log(E(heir)$q+.01,10)*10+.5)\n",
    "# V(heir)$weight = strength(heir,mode='out')\n",
    "\n",
    "\n",
    "# #pdf('motifAnyl/motif_heir.12.7.18.Bokan/significance_network.pdf',height=10,width=10)\n",
    "# plot(heir,layout=layout_as_tree(heir),\n",
    "#     edge.width=E(heir)$weight,edge.arrow.size=0,#edge.color=E(heir)$color,\n",
    "#     vertex.size=5,vertex.label.cex=1,vertex.label.family='sans',\n",
    "#     vertex.color=NA,vertex.frame.color=NA,main=)\n",
    "\n",
    "print(parseSummary.GEEpack(comp$'38_80'[[2]],logit=TRUE))\n",
    "print(parseSummary.GEEpack(comp$'80_103'[[2]],logit=TRUE))"
   ]
  },
  {
   "cell_type": "markdown",
   "metadata": {},
   "source": [
    "## Exploration of specific reactions highlighted by anylizing the association of Product-Reactant ratio to Secretor status (Fig5)"
   ]
  },
  {
   "cell_type": "code",
   "execution_count": 551,
   "metadata": {},
   "outputs": [],
   "source": [
    "\n",
    "# #g = grid.arrange(grobs=list(\n",
    "#     ggplot(data[[1]],aes(x=DPP,y=X80/X38,color=factor(Secretor),linetype=Secretor,shape=PateintID,group=factor(PateintID)))+\n",
    "#         geom_point(size=4,show.legend=F)+stat_smooth(method='lm',size=2,se=F,show.legend=F)+\n",
    "#         theme_classic(base_size=20)+scale_x_log10()+ylab('Relative Motif Abundance Ratio')+\n",
    "#         ggtitle(\"Percent of LNT converted to LSTb\\n(X80/X38)\")+xlab(\"Log10 Days Postpartum (log DPP)\")+\n",
    "#         scale_color_manual(values=c(\"#2E4172\", \"#AA6C39\"))#,\n",
    "#     ggplot(data[[1]],aes(x=DPP,y=X103/X80,color=factor(Secretor),linetype=Secretor,shape=PateintID,group=factor(PateintID)))+\n",
    "#         geom_point(size=4,show.legend=F)+stat_smooth(method='lm',size=2,se=F,show.legend=F)+\n",
    "#         theme_classic(base_size=20)+scale_x_log10()+ylab('Relative Motif Abundance Ratio')+\n",
    "#         ggtitle(\"Percent of LSTb converted to DSLNT\\n(X103/X80)\")+xlab(\"Log10 Days Postpartum (log DPP)\")+\n",
    "#         scale_color_manual(values=c(\"#2E4172\", \"#AA6C39\"))\n",
    "# #),nrow=2)\n",
    "# #ggsave(g,filename='motifAnyl/motif_heir.12.7.18.Bokan/ratio_trends.pdf',width=13,height=6)"
   ]
  },
  {
   "cell_type": "code",
   "execution_count": 554,
   "metadata": {
    "scrolled": false
   },
   "outputs": [
    {
     "name": "stderr",
     "output_type": "stream",
     "text": [
      "Warning message:\n",
      "“`show.legend` must be a logical vector.”Warning message:\n",
      "“`show.legend` must be a logical vector.”Warning message:\n",
      "“`show.legend` must be a logical vector.”Warning message:\n",
      "“`show.legend` must be a logical vector.”"
     ]
    },
    {
     "data": {
      "image/png": "[encoded data removed]",
      "text/plain": [
       "plot without title"
      ]
     },
     "metadata": {},
     "output_type": "display_data"
    },
    {
     "data": {
      "image/png": "[encoded data removed]",
      "text/plain": [
       "plot without title"
      ]
     },
     "metadata": {},
     "output_type": "display_data"
    }
   ],
   "source": [
    "\n",
    "#g = grid.arrange(grobs=list(\n",
    "    ggplot(data[[1]],aes(x=DPP,y=X80/X38,color=factor(Secretor),linetype=Secretor,shape=PateintID,group=factor(Secretor)))+\n",
    "        geom_point(size=4,show.legend=F)+stat_smooth(method='lm',size=2,se=TRUE,show.legend=F)+\n",
    "        theme_classic(base_size=20)+scale_x_log10()+ylab('Relative Motif Abundance Ratio')+\n",
    "        ggtitle(\"Percent of LNT converted to LSTb\\n(X80/X38)\")+xlab(\"Log10 Days Postpartum (log DPP)\")+\n",
    "        scale_color_manual(values=c(\"#2E4172\", \"#AA6C39\"))#,\n",
    "    ggplot(data[[1]],aes(x=DPP,y=X103/X80,color=factor(Secretor),linetype=Secretor,shape=PateintID,group=factor(Secretor)))+\n",
    "        geom_point(size=4,show.legend=F)+stat_smooth(method='lm',size=2,se=TRUE,show.legend=F)+\n",
    "        theme_classic(base_size=20)+scale_x_log10()+ylab('Relative Motif Abundance Ratio')+\n",
    "        ggtitle(\"Percent of LSTb converted to DSLNT\\n(X103/X80)\")+xlab(\"Log10 Days Postpartum (log DPP)\")+\n",
    "        scale_color_manual(values=c(\"#2E4172\", \"#AA6C39\"))\n",
    "#),nrow=2)\n",
    "#ggsave(g,filename='~/Desktop/fig5.pdf',width=13,height=6)"
   ]
  },
  {
   "cell_type": "code",
   "execution_count": null,
   "metadata": {},
   "outputs": [],
   "source": []
  },
  {
   "cell_type": "markdown",
   "metadata": {},
   "source": [
    "# Power Analysis"
   ]
  },
  {
   "cell_type": "code",
   "execution_count": 577,
   "metadata": {},
   "outputs": [
    {
     "name": "stderr",
     "output_type": "stream",
     "text": [
      "Beginning Cgee S-function, @(#) geeformula.q 4.13 98/01/27\n",
      "running glm to get initial regression estimate\n"
     ]
    },
    {
     "name": "stdout",
     "output_type": "stream",
     "text": [
      "(Intercept)    log(DPP) \n",
      "     -0.238       0.126 \n"
     ]
    },
    {
     "name": "stderr",
     "output_type": "stream",
     "text": [
      "Warning message in if (is.na(mod)) {:\n",
      "“the condition has length > 1 and only the first element will be used”Beginning Cgee S-function, @(#) geeformula.q 4.13 98/01/27\n",
      "running glm to get initial regression estimate\n"
     ]
    },
    {
     "name": "stdout",
     "output_type": "stream",
     "text": [
      "(Intercept)    log(DPP) \n",
      "    -0.1405      0.0742 \n"
     ]
    },
    {
     "name": "stderr",
     "output_type": "stream",
     "text": [
      "Warning message in if (is.na(mod)) {:\n",
      "“the condition has length > 1 and only the first element will be used”Beginning Cgee S-function, @(#) geeformula.q 4.13 98/01/27\n",
      "running glm to get initial regression estimate\n"
     ]
    },
    {
     "name": "stdout",
     "output_type": "stream",
     "text": [
      "(Intercept)    log(DPP) \n",
      "     -0.309       0.163 \n"
     ]
    },
    {
     "name": "stderr",
     "output_type": "stream",
     "text": [
      "Warning message in if (is.na(mod)) {:\n",
      "“the condition has length > 1 and only the first element will be used”Beginning Cgee S-function, @(#) geeformula.q 4.13 98/01/27\n",
      "running glm to get initial regression estimate\n"
     ]
    },
    {
     "name": "stdout",
     "output_type": "stream",
     "text": [
      "(Intercept)    log(DPP) \n",
      "      0.951      -0.502 \n"
     ]
    },
    {
     "name": "stderr",
     "output_type": "stream",
     "text": [
      "Warning message in if (is.na(mod)) {:\n",
      "“the condition has length > 1 and only the first element will be used”Beginning Cgee S-function, @(#) geeformula.q 4.13 98/01/27\n",
      "running glm to get initial regression estimate\n"
     ]
    },
    {
     "name": "stdout",
     "output_type": "stream",
     "text": [
      "(Intercept)    log(DPP) \n",
      "    -0.1602      0.0844 \n"
     ]
    },
    {
     "name": "stderr",
     "output_type": "stream",
     "text": [
      "Warning message in if (is.na(mod)) {:\n",
      "“the condition has length > 1 and only the first element will be used”Beginning Cgee S-function, @(#) geeformula.q 4.13 98/01/27\n",
      "running glm to get initial regression estimate\n"
     ]
    },
    {
     "name": "stdout",
     "output_type": "stream",
     "text": [
      "(Intercept)    log(DPP) \n",
      "      0.640      -0.338 \n"
     ]
    },
    {
     "name": "stderr",
     "output_type": "stream",
     "text": [
      "Warning message in if (is.na(mod)) {:\n",
      "“the condition has length > 1 and only the first element will be used”Beginning Cgee S-function, @(#) geeformula.q 4.13 98/01/27\n",
      "running glm to get initial regression estimate\n"
     ]
    },
    {
     "name": "stdout",
     "output_type": "stream",
     "text": [
      "(Intercept)    log(DPP) \n",
      "     0.0682     -0.0360 \n"
     ]
    },
    {
     "name": "stderr",
     "output_type": "stream",
     "text": [
      "Warning message in if (is.na(mod)) {:\n",
      "“the condition has length > 1 and only the first element will be used”Beginning Cgee S-function, @(#) geeformula.q 4.13 98/01/27\n",
      "running glm to get initial regression estimate\n"
     ]
    },
    {
     "name": "stdout",
     "output_type": "stream",
     "text": [
      "(Intercept)    log(DPP) \n",
      "    -0.1311      0.0692 \n"
     ]
    },
    {
     "name": "stderr",
     "output_type": "stream",
     "text": [
      "Warning message in if (is.na(mod)) {:\n",
      "“the condition has length > 1 and only the first element will be used”Beginning Cgee S-function, @(#) geeformula.q 4.13 98/01/27\n",
      "running glm to get initial regression estimate\n"
     ]
    },
    {
     "name": "stdout",
     "output_type": "stream",
     "text": [
      "(Intercept)    log(DPP) \n",
      "     -0.262       0.138 \n"
     ]
    },
    {
     "name": "stderr",
     "output_type": "stream",
     "text": [
      "Warning message in if (is.na(mod)) {:\n",
      "“the condition has length > 1 and only the first element will be used”Beginning Cgee S-function, @(#) geeformula.q 4.13 98/01/27\n",
      "running glm to get initial regression estimate\n"
     ]
    },
    {
     "name": "stdout",
     "output_type": "stream",
     "text": [
      "(Intercept)    log(DPP) \n",
      "      0.663      -0.350 \n"
     ]
    },
    {
     "name": "stderr",
     "output_type": "stream",
     "text": [
      "Warning message in if (is.na(mod)) {:\n",
      "“the condition has length > 1 and only the first element will be used”Beginning Cgee S-function, @(#) geeformula.q 4.13 98/01/27\n",
      "running glm to get initial regression estimate\n"
     ]
    },
    {
     "name": "stdout",
     "output_type": "stream",
     "text": [
      "(Intercept)    log(DPP) \n",
      "     -0.219       0.115 \n"
     ]
    },
    {
     "name": "stderr",
     "output_type": "stream",
     "text": [
      "Warning message in if (is.na(mod)) {:\n",
      "“the condition has length > 1 and only the first element will be used”Beginning Cgee S-function, @(#) geeformula.q 4.13 98/01/27\n",
      "running glm to get initial regression estimate\n"
     ]
    },
    {
     "name": "stdout",
     "output_type": "stream",
     "text": [
      "(Intercept)    log(DPP) \n",
      "      0.941      -0.497 \n"
     ]
    },
    {
     "name": "stderr",
     "output_type": "stream",
     "text": [
      "Warning message in if (is.na(mod)) {:\n",
      "“the condition has length > 1 and only the first element will be used”Beginning Cgee S-function, @(#) geeformula.q 4.13 98/01/27\n",
      "running glm to get initial regression estimate\n"
     ]
    },
    {
     "name": "stdout",
     "output_type": "stream",
     "text": [
      "(Intercept)    log(DPP) \n",
      "    -0.1322      0.0698 \n"
     ]
    },
    {
     "name": "stderr",
     "output_type": "stream",
     "text": [
      "Warning message in if (is.na(mod)) {:\n",
      "“the condition has length > 1 and only the first element will be used”Beginning Cgee S-function, @(#) geeformula.q 4.13 98/01/27\n",
      "running glm to get initial regression estimate\n"
     ]
    },
    {
     "name": "stdout",
     "output_type": "stream",
     "text": [
      "(Intercept)    log(DPP) \n",
      "    -0.0681      0.0360 \n"
     ]
    },
    {
     "name": "stderr",
     "output_type": "stream",
     "text": [
      "Warning message in if (is.na(mod)) {:\n",
      "“the condition has length > 1 and only the first element will be used”Beginning Cgee S-function, @(#) geeformula.q 4.13 98/01/27\n",
      "running glm to get initial regression estimate\n"
     ]
    },
    {
     "name": "stdout",
     "output_type": "stream",
     "text": [
      "(Intercept)    log(DPP) \n",
      "     -0.375       0.198 \n"
     ]
    },
    {
     "name": "stderr",
     "output_type": "stream",
     "text": [
      "Warning message in if (is.na(mod)) {:\n",
      "“the condition has length > 1 and only the first element will be used”Beginning Cgee S-function, @(#) geeformula.q 4.13 98/01/27\n",
      "running glm to get initial regression estimate\n"
     ]
    },
    {
     "name": "stdout",
     "output_type": "stream",
     "text": [
      "(Intercept)    log(DPP) \n",
      "      0.528      -0.279 \n"
     ]
    },
    {
     "name": "stderr",
     "output_type": "stream",
     "text": [
      "Warning message in if (is.na(mod)) {:\n",
      "“the condition has length > 1 and only the first element will be used”Beginning Cgee S-function, @(#) geeformula.q 4.13 98/01/27\n",
      "running glm to get initial regression estimate\n"
     ]
    },
    {
     "name": "stdout",
     "output_type": "stream",
     "text": [
      "(Intercept)    log(DPP) \n",
      "     -0.201       0.106 \n"
     ]
    },
    {
     "name": "stderr",
     "output_type": "stream",
     "text": [
      "Warning message in if (is.na(mod)) {:\n",
      "“the condition has length > 1 and only the first element will be used”Beginning Cgee S-function, @(#) geeformula.q 4.13 98/01/27\n",
      "running glm to get initial regression estimate\n"
     ]
    },
    {
     "name": "stdout",
     "output_type": "stream",
     "text": [
      "(Intercept)    log(DPP) \n",
      "   -0.01675     0.00884 \n"
     ]
    },
    {
     "name": "stderr",
     "output_type": "stream",
     "text": [
      "Warning message in if (is.na(mod)) {:\n",
      "“the condition has length > 1 and only the first element will be used”Beginning Cgee S-function, @(#) geeformula.q 4.13 98/01/27\n",
      "running glm to get initial regression estimate\n"
     ]
    },
    {
     "name": "stdout",
     "output_type": "stream",
     "text": [
      "(Intercept)    log(DPP) \n",
      "      0.965      -0.510 \n"
     ]
    },
    {
     "name": "stderr",
     "output_type": "stream",
     "text": [
      "Warning message in if (is.na(mod)) {:\n",
      "“the condition has length > 1 and only the first element will be used”Beginning Cgee S-function, @(#) geeformula.q 4.13 98/01/27\n",
      "running glm to get initial regression estimate\n"
     ]
    },
    {
     "name": "stdout",
     "output_type": "stream",
     "text": [
      "(Intercept)    log(DPP) \n",
      "     -0.620       0.328 \n"
     ]
    },
    {
     "name": "stderr",
     "output_type": "stream",
     "text": [
      "Warning message in if (is.na(mod)) {:\n",
      "“the condition has length > 1 and only the first element will be used”Beginning Cgee S-function, @(#) geeformula.q 4.13 98/01/27\n",
      "running glm to get initial regression estimate\n"
     ]
    },
    {
     "name": "stdout",
     "output_type": "stream",
     "text": [
      "(Intercept)    log(DPP) \n",
      "    -0.1681      0.0887 \n"
     ]
    },
    {
     "name": "stderr",
     "output_type": "stream",
     "text": [
      "Warning message in if (is.na(mod)) {:\n",
      "“the condition has length > 1 and only the first element will be used”Beginning Cgee S-function, @(#) geeformula.q 4.13 98/01/27\n",
      "running glm to get initial regression estimate\n"
     ]
    },
    {
     "name": "stdout",
     "output_type": "stream",
     "text": [
      "(Intercept)    log(DPP) \n",
      "     -0.133       0.070 \n"
     ]
    },
    {
     "name": "stderr",
     "output_type": "stream",
     "text": [
      "Warning message in if (is.na(mod)) {:\n",
      "“the condition has length > 1 and only the first element will be used”Beginning Cgee S-function, @(#) geeformula.q 4.13 98/01/27\n",
      "running glm to get initial regression estimate\n"
     ]
    },
    {
     "name": "stdout",
     "output_type": "stream",
     "text": [
      "(Intercept)    log(DPP) \n",
      "     -0.343       0.181 \n"
     ]
    },
    {
     "name": "stderr",
     "output_type": "stream",
     "text": [
      "Warning message in if (is.na(mod)) {:\n",
      "“the condition has length > 1 and only the first element will be used”Beginning Cgee S-function, @(#) geeformula.q 4.13 98/01/27\n",
      "running glm to get initial regression estimate\n"
     ]
    },
    {
     "name": "stdout",
     "output_type": "stream",
     "text": [
      "(Intercept)    log(DPP) \n",
      "     -0.231       0.122 \n"
     ]
    },
    {
     "name": "stderr",
     "output_type": "stream",
     "text": [
      "Warning message in if (is.na(mod)) {:\n",
      "“the condition has length > 1 and only the first element will be used”Beginning Cgee S-function, @(#) geeformula.q 4.13 98/01/27\n",
      "running glm to get initial regression estimate\n"
     ]
    },
    {
     "name": "stdout",
     "output_type": "stream",
     "text": [
      "(Intercept)    log(DPP) \n",
      "     -0.925       0.489 \n"
     ]
    },
    {
     "name": "stderr",
     "output_type": "stream",
     "text": [
      "Warning message in if (is.na(mod)) {:\n",
      "“the condition has length > 1 and only the first element will be used”Beginning Cgee S-function, @(#) geeformula.q 4.13 98/01/27\n",
      "running glm to get initial regression estimate\n"
     ]
    },
    {
     "name": "stdout",
     "output_type": "stream",
     "text": [
      "(Intercept)    log(DPP) \n",
      "     -0.270       0.143 \n"
     ]
    },
    {
     "name": "stderr",
     "output_type": "stream",
     "text": [
      "Warning message in if (is.na(mod)) {:\n",
      "“the condition has length > 1 and only the first element will be used”Beginning Cgee S-function, @(#) geeformula.q 4.13 98/01/27\n",
      "running glm to get initial regression estimate\n"
     ]
    },
    {
     "name": "stdout",
     "output_type": "stream",
     "text": [
      "(Intercept)    log(DPP) \n",
      "     -0.750       0.396 \n"
     ]
    },
    {
     "name": "stderr",
     "output_type": "stream",
     "text": [
      "Warning message in if (is.na(mod)) {:\n",
      "“the condition has length > 1 and only the first element will be used”Beginning Cgee S-function, @(#) geeformula.q 4.13 98/01/27\n",
      "running glm to get initial regression estimate\n"
     ]
    },
    {
     "name": "stdout",
     "output_type": "stream",
     "text": [
      "(Intercept)    log(DPP) \n",
      "     -0.506       0.267 \n"
     ]
    },
    {
     "name": "stderr",
     "output_type": "stream",
     "text": [
      "Warning message in if (is.na(mod)) {:\n",
      "“the condition has length > 1 and only the first element will be used”Beginning Cgee S-function, @(#) geeformula.q 4.13 98/01/27\n",
      "running glm to get initial regression estimate\n"
     ]
    },
    {
     "name": "stdout",
     "output_type": "stream",
     "text": [
      "(Intercept)    log(DPP) \n",
      "     -0.919       0.485 \n"
     ]
    },
    {
     "name": "stderr",
     "output_type": "stream",
     "text": [
      "Warning message in if (is.na(mod)) {:\n",
      "“the condition has length > 1 and only the first element will be used”Beginning Cgee S-function, @(#) geeformula.q 4.13 98/01/27\n",
      "running glm to get initial regression estimate\n"
     ]
    },
    {
     "name": "stdout",
     "output_type": "stream",
     "text": [
      "(Intercept)    log(DPP) \n",
      "      0.304      -0.160 \n"
     ]
    },
    {
     "name": "stderr",
     "output_type": "stream",
     "text": [
      "Warning message in if (is.na(mod)) {:\n",
      "“the condition has length > 1 and only the first element will be used”Beginning Cgee S-function, @(#) geeformula.q 4.13 98/01/27\n",
      "running glm to get initial regression estimate\n"
     ]
    },
    {
     "name": "stdout",
     "output_type": "stream",
     "text": [
      "(Intercept)    Secretor \n",
      "       1.20       -1.82 \n"
     ]
    },
    {
     "name": "stderr",
     "output_type": "stream",
     "text": [
      "Warning message in if (is.na(mod)) {:\n",
      "“the condition has length > 1 and only the first element will be used”Beginning Cgee S-function, @(#) geeformula.q 4.13 98/01/27\n",
      "running glm to get initial regression estimate\n"
     ]
    },
    {
     "name": "stdout",
     "output_type": "stream",
     "text": [
      "(Intercept)    Secretor \n",
      "      -1.12        1.70 \n"
     ]
    },
    {
     "name": "stderr",
     "output_type": "stream",
     "text": [
      "Warning message in if (is.na(mod)) {:\n",
      "“the condition has length > 1 and only the first element will be used”Beginning Cgee S-function, @(#) geeformula.q 4.13 98/01/27\n",
      "running glm to get initial regression estimate\n"
     ]
    },
    {
     "name": "stdout",
     "output_type": "stream",
     "text": [
      "(Intercept)    Secretor \n",
      "       1.12       -1.70 \n"
     ]
    },
    {
     "name": "stderr",
     "output_type": "stream",
     "text": [
      "Warning message in if (is.na(mod)) {:\n",
      "“the condition has length > 1 and only the first element will be used”Beginning Cgee S-function, @(#) geeformula.q 4.13 98/01/27\n",
      "running glm to get initial regression estimate\n"
     ]
    },
    {
     "name": "stdout",
     "output_type": "stream",
     "text": [
      "(Intercept)    Secretor \n",
      "      0.221      -0.335 \n"
     ]
    },
    {
     "name": "stderr",
     "output_type": "stream",
     "text": [
      "Warning message in if (is.na(mod)) {:\n",
      "“the condition has length > 1 and only the first element will be used”Beginning Cgee S-function, @(#) geeformula.q 4.13 98/01/27\n",
      "running glm to get initial regression estimate\n"
     ]
    },
    {
     "name": "stdout",
     "output_type": "stream",
     "text": [
      "(Intercept)    Secretor \n",
      "     -0.190       0.287 \n"
     ]
    },
    {
     "name": "stderr",
     "output_type": "stream",
     "text": [
      "Warning message in if (is.na(mod)) {:\n",
      "“the condition has length > 1 and only the first element will be used”Beginning Cgee S-function, @(#) geeformula.q 4.13 98/01/27\n",
      "running glm to get initial regression estimate\n"
     ]
    },
    {
     "name": "stdout",
     "output_type": "stream",
     "text": [
      "(Intercept)    Secretor \n",
      "     -0.156       0.236 \n"
     ]
    },
    {
     "name": "stderr",
     "output_type": "stream",
     "text": [
      "Warning message in if (is.na(mod)) {:\n",
      "“the condition has length > 1 and only the first element will be used”Beginning Cgee S-function, @(#) geeformula.q 4.13 98/01/27\n",
      "running glm to get initial regression estimate\n"
     ]
    },
    {
     "name": "stdout",
     "output_type": "stream",
     "text": [
      "(Intercept)    Secretor \n",
      "      0.918      -1.392 \n"
     ]
    },
    {
     "name": "stderr",
     "output_type": "stream",
     "text": [
      "Warning message in if (is.na(mod)) {:\n",
      "“the condition has length > 1 and only the first element will be used”Beginning Cgee S-function, @(#) geeformula.q 4.13 98/01/27\n",
      "running glm to get initial regression estimate\n"
     ]
    },
    {
     "name": "stdout",
     "output_type": "stream",
     "text": [
      "(Intercept)    Secretor \n",
      "      -1.35        2.05 \n"
     ]
    },
    {
     "name": "stderr",
     "output_type": "stream",
     "text": [
      "Warning message in if (is.na(mod)) {:\n",
      "“the condition has length > 1 and only the first element will be used”Beginning Cgee S-function, @(#) geeformula.q 4.13 98/01/27\n",
      "running glm to get initial regression estimate\n"
     ]
    },
    {
     "name": "stdout",
     "output_type": "stream",
     "text": [
      "(Intercept)    Secretor \n",
      "       1.11       -1.68 \n"
     ]
    },
    {
     "name": "stderr",
     "output_type": "stream",
     "text": [
      "Warning message in if (is.na(mod)) {:\n",
      "“the condition has length > 1 and only the first element will be used”Beginning Cgee S-function, @(#) geeformula.q 4.13 98/01/27\n",
      "running glm to get initial regression estimate\n"
     ]
    },
    {
     "name": "stdout",
     "output_type": "stream",
     "text": [
      "(Intercept)    Secretor \n",
      "     -0.213       0.323 \n"
     ]
    },
    {
     "name": "stderr",
     "output_type": "stream",
     "text": [
      "Warning message in if (is.na(mod)) {:\n",
      "“the condition has length > 1 and only the first element will be used”Beginning Cgee S-function, @(#) geeformula.q 4.13 98/01/27\n",
      "running glm to get initial regression estimate\n"
     ]
    },
    {
     "name": "stdout",
     "output_type": "stream",
     "text": [
      "(Intercept)    Secretor \n",
      "      0.861      -1.305 \n"
     ]
    },
    {
     "name": "stderr",
     "output_type": "stream",
     "text": [
      "Warning message in if (is.na(mod)) {:\n",
      "“the condition has length > 1 and only the first element will be used”Beginning Cgee S-function, @(#) geeformula.q 4.13 98/01/27\n",
      "running glm to get initial regression estimate\n"
     ]
    },
    {
     "name": "stdout",
     "output_type": "stream",
     "text": [
      "(Intercept)    Secretor \n",
      "      0.412      -0.624 \n"
     ]
    },
    {
     "name": "stderr",
     "output_type": "stream",
     "text": [
      "Warning message in if (is.na(mod)) {:\n",
      "“the condition has length > 1 and only the first element will be used”Beginning Cgee S-function, @(#) geeformula.q 4.13 98/01/27\n",
      "running glm to get initial regression estimate\n"
     ]
    },
    {
     "name": "stdout",
     "output_type": "stream",
     "text": [
      "(Intercept)    Secretor \n",
      "     -0.458       0.695 \n"
     ]
    },
    {
     "name": "stderr",
     "output_type": "stream",
     "text": [
      "Warning message in if (is.na(mod)) {:\n",
      "“the condition has length > 1 and only the first element will be used”Beginning Cgee S-function, @(#) geeformula.q 4.13 98/01/27\n",
      "running glm to get initial regression estimate\n"
     ]
    },
    {
     "name": "stdout",
     "output_type": "stream",
     "text": [
      "(Intercept)    Secretor \n",
      "      -1.36        2.06 \n"
     ]
    },
    {
     "name": "stderr",
     "output_type": "stream",
     "text": [
      "Warning message in if (is.na(mod)) {:\n",
      "“the condition has length > 1 and only the first element will be used”Beginning Cgee S-function, @(#) geeformula.q 4.13 98/01/27\n",
      "running glm to get initial regression estimate\n"
     ]
    },
    {
     "name": "stdout",
     "output_type": "stream",
     "text": [
      "(Intercept)    Secretor \n",
      "       1.07       -1.62 \n"
     ]
    },
    {
     "name": "stderr",
     "output_type": "stream",
     "text": [
      "Warning message in if (is.na(mod)) {:\n",
      "“the condition has length > 1 and only the first element will be used”Beginning Cgee S-function, @(#) geeformula.q 4.13 98/01/27\n",
      "running glm to get initial regression estimate\n"
     ]
    },
    {
     "name": "stdout",
     "output_type": "stream",
     "text": [
      "(Intercept)    Secretor \n",
      "      0.726      -1.101 \n"
     ]
    },
    {
     "name": "stderr",
     "output_type": "stream",
     "text": [
      "Warning message in if (is.na(mod)) {:\n",
      "“the condition has length > 1 and only the first element will be used”Beginning Cgee S-function, @(#) geeformula.q 4.13 98/01/27\n",
      "running glm to get initial regression estimate\n"
     ]
    },
    {
     "name": "stdout",
     "output_type": "stream",
     "text": [
      "(Intercept)    Secretor \n",
      "       1.08       -1.64 \n"
     ]
    },
    {
     "name": "stderr",
     "output_type": "stream",
     "text": [
      "Warning message in if (is.na(mod)) {:\n",
      "“the condition has length > 1 and only the first element will be used”Beginning Cgee S-function, @(#) geeformula.q 4.13 98/01/27\n",
      "running glm to get initial regression estimate\n"
     ]
    },
    {
     "name": "stdout",
     "output_type": "stream",
     "text": [
      "(Intercept)    Secretor \n",
      "      0.802      -1.216 \n"
     ]
    },
    {
     "name": "stderr",
     "output_type": "stream",
     "text": [
      "Warning message in if (is.na(mod)) {:\n",
      "“the condition has length > 1 and only the first element will be used”Beginning Cgee S-function, @(#) geeformula.q 4.13 98/01/27\n",
      "running glm to get initial regression estimate\n"
     ]
    },
    {
     "name": "stdout",
     "output_type": "stream",
     "text": [
      "(Intercept)    Secretor \n",
      "      0.356      -0.540 \n"
     ]
    },
    {
     "name": "stderr",
     "output_type": "stream",
     "text": [
      "Warning message in if (is.na(mod)) {:\n",
      "“the condition has length > 1 and only the first element will be used”Beginning Cgee S-function, @(#) geeformula.q 4.13 98/01/27\n",
      "running glm to get initial regression estimate\n"
     ]
    },
    {
     "name": "stdout",
     "output_type": "stream",
     "text": [
      "(Intercept)    Secretor \n",
      "      0.813      -1.233 \n"
     ]
    },
    {
     "name": "stderr",
     "output_type": "stream",
     "text": [
      "Warning message in if (is.na(mod)) {:\n",
      "“the condition has length > 1 and only the first element will be used”Beginning Cgee S-function, @(#) geeformula.q 4.13 98/01/27\n",
      "running glm to get initial regression estimate\n"
     ]
    },
    {
     "name": "stdout",
     "output_type": "stream",
     "text": [
      "(Intercept)    Secretor \n",
      "      0.913      -1.384 \n"
     ]
    },
    {
     "name": "stderr",
     "output_type": "stream",
     "text": [
      "Warning message in if (is.na(mod)) {:\n",
      "“the condition has length > 1 and only the first element will be used”Beginning Cgee S-function, @(#) geeformula.q 4.13 98/01/27\n",
      "running glm to get initial regression estimate\n"
     ]
    },
    {
     "name": "stdout",
     "output_type": "stream",
     "text": [
      "(Intercept)    Secretor \n",
      "      -1.19        1.80 \n"
     ]
    },
    {
     "name": "stderr",
     "output_type": "stream",
     "text": [
      "Warning message in if (is.na(mod)) {:\n",
      "“the condition has length > 1 and only the first element will be used”Beginning Cgee S-function, @(#) geeformula.q 4.13 98/01/27\n",
      "running glm to get initial regression estimate\n"
     ]
    },
    {
     "name": "stdout",
     "output_type": "stream",
     "text": [
      "(Intercept)    Secretor \n",
      "     -0.492       0.746 \n"
     ]
    },
    {
     "name": "stderr",
     "output_type": "stream",
     "text": [
      "Warning message in if (is.na(mod)) {:\n",
      "“the condition has length > 1 and only the first element will be used”Beginning Cgee S-function, @(#) geeformula.q 4.13 98/01/27\n",
      "running glm to get initial regression estimate\n"
     ]
    },
    {
     "name": "stdout",
     "output_type": "stream",
     "text": [
      "(Intercept)    Secretor \n",
      "      0.263      -0.399 \n"
     ]
    },
    {
     "name": "stderr",
     "output_type": "stream",
     "text": [
      "Warning message in if (is.na(mod)) {:\n",
      "“the condition has length > 1 and only the first element will be used”Beginning Cgee S-function, @(#) geeformula.q 4.13 98/01/27\n",
      "running glm to get initial regression estimate\n"
     ]
    },
    {
     "name": "stdout",
     "output_type": "stream",
     "text": [
      "(Intercept)    Secretor \n",
      "      0.602      -0.913 \n"
     ]
    },
    {
     "name": "stderr",
     "output_type": "stream",
     "text": [
      "Warning message in if (is.na(mod)) {:\n",
      "“the condition has length > 1 and only the first element will be used”Beginning Cgee S-function, @(#) geeformula.q 4.13 98/01/27\n",
      "running glm to get initial regression estimate\n"
     ]
    },
    {
     "name": "stdout",
     "output_type": "stream",
     "text": [
      "(Intercept)    Secretor \n",
      "       0.84       -1.27 \n"
     ]
    },
    {
     "name": "stderr",
     "output_type": "stream",
     "text": [
      "Warning message in if (is.na(mod)) {:\n",
      "“the condition has length > 1 and only the first element will be used”Beginning Cgee S-function, @(#) geeformula.q 4.13 98/01/27\n",
      "running glm to get initial regression estimate\n"
     ]
    },
    {
     "name": "stdout",
     "output_type": "stream",
     "text": [
      "(Intercept)    Secretor \n",
      "      0.832      -1.261 \n"
     ]
    },
    {
     "name": "stderr",
     "output_type": "stream",
     "text": [
      "Warning message in if (is.na(mod)) {:\n",
      "“the condition has length > 1 and only the first element will be used”Beginning Cgee S-function, @(#) geeformula.q 4.13 98/01/27\n",
      "running glm to get initial regression estimate\n"
     ]
    },
    {
     "name": "stdout",
     "output_type": "stream",
     "text": [
      "(Intercept)    Secretor \n",
      "      0.892      -1.353 \n"
     ]
    },
    {
     "name": "stderr",
     "output_type": "stream",
     "text": [
      "Warning message in if (is.na(mod)) {:\n",
      "“the condition has length > 1 and only the first element will be used”Beginning Cgee S-function, @(#) geeformula.q 4.13 98/01/27\n",
      "running glm to get initial regression estimate\n"
     ]
    },
    {
     "name": "stdout",
     "output_type": "stream",
     "text": [
      "(Intercept)    Secretor \n",
      "      0.158      -0.239 \n"
     ]
    },
    {
     "name": "stderr",
     "output_type": "stream",
     "text": [
      "Warning message in if (is.na(mod)) {:\n",
      "“the condition has length > 1 and only the first element will be used”Beginning Cgee S-function, @(#) geeformula.q 4.13 98/01/27\n",
      "running glm to get initial regression estimate\n"
     ]
    },
    {
     "name": "stdout",
     "output_type": "stream",
     "text": [
      "(Intercept)    Secretor \n",
      "      0.475      -0.719 \n"
     ]
    },
    {
     "name": "stderr",
     "output_type": "stream",
     "text": [
      "Warning message in if (is.na(mod)) {:\n",
      "“the condition has length > 1 and only the first element will be used”Beginning Cgee S-function, @(#) geeformula.q 4.13 98/01/27\n",
      "running glm to get initial regression estimate\n"
     ]
    },
    {
     "name": "stdout",
     "output_type": "stream",
     "text": [
      "(Intercept)    log(DPP) \n",
      "     0.0882     -0.0466 \n"
     ]
    },
    {
     "name": "stderr",
     "output_type": "stream",
     "text": [
      "Warning message in if (is.na(mod)) {:\n",
      "“the condition has length > 1 and only the first element will be used”Beginning Cgee S-function, @(#) geeformula.q 4.13 98/01/27\n",
      "running glm to get initial regression estimate\n"
     ]
    },
    {
     "name": "stdout",
     "output_type": "stream",
     "text": [
      "(Intercept)    log(DPP) \n",
      "      0.421      -0.222 \n"
     ]
    },
    {
     "name": "stderr",
     "output_type": "stream",
     "text": [
      "Warning message in if (is.na(mod)) {:\n",
      "“the condition has length > 1 and only the first element will be used”Beginning Cgee S-function, @(#) geeformula.q 4.13 98/01/27\n",
      "running glm to get initial regression estimate\n"
     ]
    },
    {
     "name": "stdout",
     "output_type": "stream",
     "text": [
      "(Intercept)    log(DPP) \n",
      "      0.658      -0.347 \n"
     ]
    },
    {
     "name": "stderr",
     "output_type": "stream",
     "text": [
      "Warning message in if (is.na(mod)) {:\n",
      "“the condition has length > 1 and only the first element will be used”Beginning Cgee S-function, @(#) geeformula.q 4.13 98/01/27\n",
      "running glm to get initial regression estimate\n"
     ]
    },
    {
     "name": "stdout",
     "output_type": "stream",
     "text": [
      "(Intercept)    log(DPP) \n",
      "      0.891      -0.471 \n"
     ]
    },
    {
     "name": "stderr",
     "output_type": "stream",
     "text": [
      "Warning message in if (is.na(mod)) {:\n",
      "“the condition has length > 1 and only the first element will be used”Beginning Cgee S-function, @(#) geeformula.q 4.13 98/01/27\n",
      "running glm to get initial regression estimate\n"
     ]
    },
    {
     "name": "stdout",
     "output_type": "stream",
     "text": [
      "(Intercept)    log(DPP) \n",
      "   -0.01803     0.00952 \n"
     ]
    },
    {
     "name": "stderr",
     "output_type": "stream",
     "text": [
      "Warning message in if (is.na(mod)) {:\n",
      "“the condition has length > 1 and only the first element will be used”Beginning Cgee S-function, @(#) geeformula.q 4.13 98/01/27\n",
      "running glm to get initial regression estimate\n"
     ]
    },
    {
     "name": "stdout",
     "output_type": "stream",
     "text": [
      "(Intercept)    log(DPP) \n",
      "      0.281      -0.148 \n"
     ]
    },
    {
     "name": "stderr",
     "output_type": "stream",
     "text": [
      "Warning message in if (is.na(mod)) {:\n",
      "“the condition has length > 1 and only the first element will be used”Beginning Cgee S-function, @(#) geeformula.q 4.13 98/01/27\n",
      "running glm to get initial regression estimate\n"
     ]
    },
    {
     "name": "stdout",
     "output_type": "stream",
     "text": [
      "(Intercept)    log(DPP) \n",
      "      0.383      -0.202 \n"
     ]
    },
    {
     "name": "stderr",
     "output_type": "stream",
     "text": [
      "Warning message in if (is.na(mod)) {:\n",
      "“the condition has length > 1 and only the first element will be used”Beginning Cgee S-function, @(#) geeformula.q 4.13 98/01/27\n",
      "running glm to get initial regression estimate\n"
     ]
    },
    {
     "name": "stdout",
     "output_type": "stream",
     "text": [
      "(Intercept)    log(DPP) \n",
      "      0.486      -0.257 \n"
     ]
    },
    {
     "name": "stderr",
     "output_type": "stream",
     "text": [
      "Warning message in if (is.na(mod)) {:\n",
      "“the condition has length > 1 and only the first element will be used”Beginning Cgee S-function, @(#) geeformula.q 4.13 98/01/27\n",
      "running glm to get initial regression estimate\n"
     ]
    },
    {
     "name": "stdout",
     "output_type": "stream",
     "text": [
      "(Intercept)    log(DPP) \n",
      "      0.618      -0.326 \n"
     ]
    },
    {
     "name": "stderr",
     "output_type": "stream",
     "text": [
      "Warning message in if (is.na(mod)) {:\n",
      "“the condition has length > 1 and only the first element will be used”Beginning Cgee S-function, @(#) geeformula.q 4.13 98/01/27\n",
      "running glm to get initial regression estimate\n"
     ]
    },
    {
     "name": "stdout",
     "output_type": "stream",
     "text": [
      "(Intercept)    log(DPP) \n",
      "      1.074      -0.567 \n"
     ]
    },
    {
     "name": "stderr",
     "output_type": "stream",
     "text": [
      "Warning message in if (is.na(mod)) {:\n",
      "“the condition has length > 1 and only the first element will be used”Beginning Cgee S-function, @(#) geeformula.q 4.13 98/01/27\n",
      "running glm to get initial regression estimate\n"
     ]
    },
    {
     "name": "stdout",
     "output_type": "stream",
     "text": [
      "(Intercept)    log(DPP) \n",
      "      0.217      -0.114 \n"
     ]
    },
    {
     "name": "stderr",
     "output_type": "stream",
     "text": [
      "Warning message in if (is.na(mod)) {:\n",
      "“the condition has length > 1 and only the first element will be used”Beginning Cgee S-function, @(#) geeformula.q 4.13 98/01/27\n",
      "running glm to get initial regression estimate\n"
     ]
    },
    {
     "name": "stdout",
     "output_type": "stream",
     "text": [
      "(Intercept)    log(DPP) \n",
      "      0.983      -0.519 \n"
     ]
    },
    {
     "name": "stderr",
     "output_type": "stream",
     "text": [
      "Warning message in if (is.na(mod)) {:\n",
      "“the condition has length > 1 and only the first element will be used”Beginning Cgee S-function, @(#) geeformula.q 4.13 98/01/27\n",
      "running glm to get initial regression estimate\n"
     ]
    },
    {
     "name": "stdout",
     "output_type": "stream",
     "text": [
      "(Intercept)    log(DPP) \n",
      "     -0.359       0.189 \n"
     ]
    },
    {
     "name": "stderr",
     "output_type": "stream",
     "text": [
      "Warning message in if (is.na(mod)) {:\n",
      "“the condition has length > 1 and only the first element will be used”Beginning Cgee S-function, @(#) geeformula.q 4.13 98/01/27\n",
      "running glm to get initial regression estimate\n"
     ]
    },
    {
     "name": "stdout",
     "output_type": "stream",
     "text": [
      "(Intercept)    log(DPP) \n",
      "     0.1793     -0.0947 \n"
     ]
    },
    {
     "name": "stderr",
     "output_type": "stream",
     "text": [
      "Warning message in if (is.na(mod)) {:\n",
      "“the condition has length > 1 and only the first element will be used”Beginning Cgee S-function, @(#) geeformula.q 4.13 98/01/27\n",
      "running glm to get initial regression estimate\n"
     ]
    },
    {
     "name": "stdout",
     "output_type": "stream",
     "text": [
      "(Intercept)    log(DPP) \n",
      "      0.615      -0.325 \n"
     ]
    },
    {
     "name": "stderr",
     "output_type": "stream",
     "text": [
      "Warning message in if (is.na(mod)) {:\n",
      "“the condition has length > 1 and only the first element will be used”Beginning Cgee S-function, @(#) geeformula.q 4.13 98/01/27\n",
      "running glm to get initial regression estimate\n"
     ]
    },
    {
     "name": "stdout",
     "output_type": "stream",
     "text": [
      "(Intercept)    log(DPP) \n",
      "     -0.484       0.255 \n"
     ]
    },
    {
     "name": "stderr",
     "output_type": "stream",
     "text": [
      "Warning message in if (is.na(mod)) {:\n",
      "“the condition has length > 1 and only the first element will be used”Beginning Cgee S-function, @(#) geeformula.q 4.13 98/01/27\n",
      "running glm to get initial regression estimate\n"
     ]
    },
    {
     "name": "stdout",
     "output_type": "stream",
     "text": [
      "(Intercept)    Secretor \n",
      "      -1.25        1.90 \n"
     ]
    },
    {
     "name": "stderr",
     "output_type": "stream",
     "text": [
      "Warning message in if (is.na(mod)) {:\n",
      "“the condition has length > 1 and only the first element will be used”Beginning Cgee S-function, @(#) geeformula.q 4.13 98/01/27\n",
      "running glm to get initial regression estimate\n"
     ]
    },
    {
     "name": "stdout",
     "output_type": "stream",
     "text": [
      "(Intercept)    Secretor \n",
      "      0.170      -0.257 \n"
     ]
    },
    {
     "name": "stderr",
     "output_type": "stream",
     "text": [
      "Warning message in if (is.na(mod)) {:\n",
      "“the condition has length > 1 and only the first element will be used”Beginning Cgee S-function, @(#) geeformula.q 4.13 98/01/27\n",
      "running glm to get initial regression estimate\n"
     ]
    },
    {
     "name": "stdout",
     "output_type": "stream",
     "text": [
      "(Intercept)    Secretor \n",
      "     -0.485       0.735 \n"
     ]
    },
    {
     "name": "stderr",
     "output_type": "stream",
     "text": [
      "Warning message in if (is.na(mod)) {:\n",
      "“the condition has length > 1 and only the first element will be used”Beginning Cgee S-function, @(#) geeformula.q 4.13 98/01/27\n",
      "running glm to get initial regression estimate\n"
     ]
    },
    {
     "name": "stdout",
     "output_type": "stream",
     "text": [
      "(Intercept)    Secretor \n",
      "     -0.781       1.184 \n"
     ]
    },
    {
     "name": "stderr",
     "output_type": "stream",
     "text": [
      "Warning message in if (is.na(mod)) {:\n",
      "“the condition has length > 1 and only the first element will be used”Beginning Cgee S-function, @(#) geeformula.q 4.13 98/01/27\n",
      "running glm to get initial regression estimate\n"
     ]
    },
    {
     "name": "stdout",
     "output_type": "stream",
     "text": [
      "(Intercept)    Secretor \n",
      "      0.290      -0.439 \n"
     ]
    },
    {
     "name": "stderr",
     "output_type": "stream",
     "text": [
      "Warning message in if (is.na(mod)) {:\n",
      "“the condition has length > 1 and only the first element will be used”Beginning Cgee S-function, @(#) geeformula.q 4.13 98/01/27\n",
      "running glm to get initial regression estimate\n"
     ]
    },
    {
     "name": "stdout",
     "output_type": "stream",
     "text": [
      "(Intercept)    Secretor \n",
      "      -1.27        1.92 \n"
     ]
    },
    {
     "name": "stderr",
     "output_type": "stream",
     "text": [
      "Warning message in if (is.na(mod)) {:\n",
      "“the condition has length > 1 and only the first element will be used”Beginning Cgee S-function, @(#) geeformula.q 4.13 98/01/27\n",
      "running glm to get initial regression estimate\n"
     ]
    },
    {
     "name": "stdout",
     "output_type": "stream",
     "text": [
      "(Intercept)    Secretor \n",
      "       0.84       -1.27 \n"
     ]
    },
    {
     "name": "stderr",
     "output_type": "stream",
     "text": [
      "Warning message in if (is.na(mod)) {:\n",
      "“the condition has length > 1 and only the first element will be used”Beginning Cgee S-function, @(#) geeformula.q 4.13 98/01/27\n",
      "running glm to get initial regression estimate\n"
     ]
    },
    {
     "name": "stdout",
     "output_type": "stream",
     "text": [
      "(Intercept)    Secretor \n",
      "     -0.709       1.075 \n"
     ]
    },
    {
     "name": "stderr",
     "output_type": "stream",
     "text": [
      "Warning message in if (is.na(mod)) {:\n",
      "“the condition has length > 1 and only the first element will be used”Beginning Cgee S-function, @(#) geeformula.q 4.13 98/01/27\n",
      "running glm to get initial regression estimate\n"
     ]
    },
    {
     "name": "stdout",
     "output_type": "stream",
     "text": [
      "(Intercept)    Secretor \n",
      "      0.673      -1.020 \n"
     ]
    },
    {
     "name": "stderr",
     "output_type": "stream",
     "text": [
      "Warning message in if (is.na(mod)) {:\n",
      "“the condition has length > 1 and only the first element will be used”Beginning Cgee S-function, @(#) geeformula.q 4.13 98/01/27\n",
      "running glm to get initial regression estimate\n"
     ]
    },
    {
     "name": "stdout",
     "output_type": "stream",
     "text": [
      "(Intercept)    Secretor \n",
      "     -0.475       0.721 \n"
     ]
    },
    {
     "name": "stderr",
     "output_type": "stream",
     "text": [
      "Warning message in if (is.na(mod)) {:\n",
      "“the condition has length > 1 and only the first element will be used”Beginning Cgee S-function, @(#) geeformula.q 4.13 98/01/27\n",
      "running glm to get initial regression estimate\n"
     ]
    },
    {
     "name": "stdout",
     "output_type": "stream",
     "text": [
      "(Intercept)    Secretor \n",
      "     -0.909       1.378 \n"
     ]
    },
    {
     "name": "stderr",
     "output_type": "stream",
     "text": [
      "Warning message in if (is.na(mod)) {:\n",
      "“the condition has length > 1 and only the first element will be used”Beginning Cgee S-function, @(#) geeformula.q 4.13 98/01/27\n",
      "running glm to get initial regression estimate\n"
     ]
    },
    {
     "name": "stdout",
     "output_type": "stream",
     "text": [
      "(Intercept)    Secretor \n",
      "     -0.623       0.945 \n"
     ]
    },
    {
     "name": "stderr",
     "output_type": "stream",
     "text": [
      "Warning message in if (is.na(mod)) {:\n",
      "“the condition has length > 1 and only the first element will be used”Beginning Cgee S-function, @(#) geeformula.q 4.13 98/01/27\n",
      "running glm to get initial regression estimate\n"
     ]
    },
    {
     "name": "stdout",
     "output_type": "stream",
     "text": [
      "(Intercept)    Secretor \n",
      "      0.183      -0.278 \n"
     ]
    },
    {
     "name": "stderr",
     "output_type": "stream",
     "text": [
      "Warning message in if (is.na(mod)) {:\n",
      "“the condition has length > 1 and only the first element will be used”Beginning Cgee S-function, @(#) geeformula.q 4.13 98/01/27\n",
      "running glm to get initial regression estimate\n"
     ]
    },
    {
     "name": "stdout",
     "output_type": "stream",
     "text": [
      "(Intercept)    Secretor \n",
      "    -0.0350      0.0531 \n"
     ]
    },
    {
     "name": "stderr",
     "output_type": "stream",
     "text": [
      "Warning message in if (is.na(mod)) {:\n",
      "“the condition has length > 1 and only the first element will be used”Beginning Cgee S-function, @(#) geeformula.q 4.13 98/01/27\n",
      "running glm to get initial regression estimate\n"
     ]
    },
    {
     "name": "stdout",
     "output_type": "stream",
     "text": [
      "(Intercept)    Secretor \n",
      "     -0.226       0.343 \n"
     ]
    },
    {
     "name": "stderr",
     "output_type": "stream",
     "text": [
      "Warning message in if (is.na(mod)) {:\n",
      "“the condition has length > 1 and only the first element will be used”Beginning Cgee S-function, @(#) geeformula.q 4.13 98/01/27\n",
      "running glm to get initial regression estimate\n"
     ]
    },
    {
     "name": "stdout",
     "output_type": "stream",
     "text": [
      "(Intercept)    Secretor \n",
      "     -0.464       0.703 \n"
     ]
    },
    {
     "name": "stderr",
     "output_type": "stream",
     "text": [
      "Warning message in if (is.na(mod)) {:\n",
      "“the condition has length > 1 and only the first element will be used”Beginning Cgee S-function, @(#) geeformula.q 4.13 98/01/27\n",
      "running glm to get initial regression estimate\n"
     ]
    },
    {
     "name": "stdout",
     "output_type": "stream",
     "text": [
      "(Intercept)    log(DPP) \n",
      "    -0.0681      0.0360 \n"
     ]
    },
    {
     "name": "stderr",
     "output_type": "stream",
     "text": [
      "Warning message in if (is.na(mod)) {:\n",
      "“the condition has length > 1 and only the first element will be used”Beginning Cgee S-function, @(#) geeformula.q 4.13 98/01/27\n",
      "running glm to get initial regression estimate\n"
     ]
    },
    {
     "name": "stdout",
     "output_type": "stream",
     "text": [
      "(Intercept)    log(DPP) \n",
      "      0.337      -0.178 \n"
     ]
    },
    {
     "name": "stderr",
     "output_type": "stream",
     "text": [
      "Warning message in if (is.na(mod)) {:\n",
      "“the condition has length > 1 and only the first element will be used”Beginning Cgee S-function, @(#) geeformula.q 4.13 98/01/27\n",
      "running glm to get initial regression estimate\n"
     ]
    },
    {
     "name": "stdout",
     "output_type": "stream",
     "text": [
      "(Intercept)    log(DPP) \n",
      "     0.0687     -0.0363 \n"
     ]
    },
    {
     "name": "stderr",
     "output_type": "stream",
     "text": [
      "Warning message in if (is.na(mod)) {:\n",
      "“the condition has length > 1 and only the first element will be used”Beginning Cgee S-function, @(#) geeformula.q 4.13 98/01/27\n",
      "running glm to get initial regression estimate\n"
     ]
    },
    {
     "name": "stdout",
     "output_type": "stream",
     "text": [
      "(Intercept)    log(DPP) \n",
      "      0.663      -0.350 \n"
     ]
    },
    {
     "name": "stderr",
     "output_type": "stream",
     "text": [
      "Warning message in if (is.na(mod)) {:\n",
      "“the condition has length > 1 and only the first element will be used”Beginning Cgee S-function, @(#) geeformula.q 4.13 98/01/27\n",
      "running glm to get initial regression estimate\n"
     ]
    },
    {
     "name": "stdout",
     "output_type": "stream",
     "text": [
      "(Intercept)    log(DPP) \n",
      "     -0.547       0.289 \n"
     ]
    },
    {
     "name": "stderr",
     "output_type": "stream",
     "text": [
      "Warning message in if (is.na(mod)) {:\n",
      "“the condition has length > 1 and only the first element will be used”Beginning Cgee S-function, @(#) geeformula.q 4.13 98/01/27\n",
      "running glm to get initial regression estimate\n"
     ]
    },
    {
     "name": "stdout",
     "output_type": "stream",
     "text": [
      "(Intercept)    log(DPP) \n",
      "    -0.0353      0.0186 \n"
     ]
    },
    {
     "name": "stderr",
     "output_type": "stream",
     "text": [
      "Warning message in if (is.na(mod)) {:\n",
      "“the condition has length > 1 and only the first element will be used”Beginning Cgee S-function, @(#) geeformula.q 4.13 98/01/27\n",
      "running glm to get initial regression estimate\n"
     ]
    },
    {
     "name": "stdout",
     "output_type": "stream",
     "text": [
      "(Intercept)    log(DPP) \n",
      "    -0.1006      0.0532 \n"
     ]
    },
    {
     "name": "stderr",
     "output_type": "stream",
     "text": [
      "Warning message in if (is.na(mod)) {:\n",
      "“the condition has length > 1 and only the first element will be used”Beginning Cgee S-function, @(#) geeformula.q 4.13 98/01/27\n",
      "running glm to get initial regression estimate\n"
     ]
    },
    {
     "name": "stdout",
     "output_type": "stream",
     "text": [
      "(Intercept)    log(DPP) \n",
      "      0.515      -0.272 \n"
     ]
    },
    {
     "name": "stderr",
     "output_type": "stream",
     "text": [
      "Warning message in if (is.na(mod)) {:\n",
      "“the condition has length > 1 and only the first element will be used”Beginning Cgee S-function, @(#) geeformula.q 4.13 98/01/27\n",
      "running glm to get initial regression estimate\n"
     ]
    },
    {
     "name": "stdout",
     "output_type": "stream",
     "text": [
      "(Intercept)    log(DPP) \n",
      "     0.0252     -0.0133 \n"
     ]
    },
    {
     "name": "stderr",
     "output_type": "stream",
     "text": [
      "Warning message in if (is.na(mod)) {:\n",
      "“the condition has length > 1 and only the first element will be used”Beginning Cgee S-function, @(#) geeformula.q 4.13 98/01/27\n",
      "running glm to get initial regression estimate\n"
     ]
    },
    {
     "name": "stdout",
     "output_type": "stream",
     "text": [
      "(Intercept)    log(DPP) \n",
      "      0.962      -0.508 \n"
     ]
    },
    {
     "name": "stderr",
     "output_type": "stream",
     "text": [
      "Warning message in if (is.na(mod)) {:\n",
      "“the condition has length > 1 and only the first element will be used”Beginning Cgee S-function, @(#) geeformula.q 4.13 98/01/27\n",
      "running glm to get initial regression estimate\n"
     ]
    },
    {
     "name": "stdout",
     "output_type": "stream",
     "text": [
      "(Intercept)    log(DPP) \n",
      "     -0.343       0.181 \n"
     ]
    },
    {
     "name": "stderr",
     "output_type": "stream",
     "text": [
      "Warning message in if (is.na(mod)) {:\n",
      "“the condition has length > 1 and only the first element will be used”Beginning Cgee S-function, @(#) geeformula.q 4.13 98/01/27\n",
      "running glm to get initial regression estimate\n"
     ]
    },
    {
     "name": "stdout",
     "output_type": "stream",
     "text": [
      "(Intercept)    log(DPP) \n",
      "      0.897      -0.474 \n"
     ]
    },
    {
     "name": "stderr",
     "output_type": "stream",
     "text": [
      "Warning message in if (is.na(mod)) {:\n",
      "“the condition has length > 1 and only the first element will be used”Beginning Cgee S-function, @(#) geeformula.q 4.13 98/01/27\n",
      "running glm to get initial regression estimate\n"
     ]
    },
    {
     "name": "stdout",
     "output_type": "stream",
     "text": [
      "(Intercept)    log(DPP) \n",
      "     -0.750       0.396 \n"
     ]
    },
    {
     "name": "stderr",
     "output_type": "stream",
     "text": [
      "Warning message in if (is.na(mod)) {:\n",
      "“the condition has length > 1 and only the first element will be used”Beginning Cgee S-function, @(#) geeformula.q 4.13 98/01/27\n",
      "running glm to get initial regression estimate\n"
     ]
    },
    {
     "name": "stdout",
     "output_type": "stream",
     "text": [
      "(Intercept)    log(DPP) \n",
      "     -0.506       0.267 \n"
     ]
    },
    {
     "name": "stderr",
     "output_type": "stream",
     "text": [
      "Warning message in if (is.na(mod)) {:\n",
      "“the condition has length > 1 and only the first element will be used”Beginning Cgee S-function, @(#) geeformula.q 4.13 98/01/27\n",
      "running glm to get initial regression estimate\n"
     ]
    },
    {
     "name": "stdout",
     "output_type": "stream",
     "text": [
      "(Intercept)    log(DPP) \n",
      "      0.304      -0.160 \n"
     ]
    },
    {
     "name": "stderr",
     "output_type": "stream",
     "text": [
      "Warning message in if (is.na(mod)) {:\n",
      "“the condition has length > 1 and only the first element will be used”Beginning Cgee S-function, @(#) geeformula.q 4.13 98/01/27\n",
      "running glm to get initial regression estimate\n"
     ]
    },
    {
     "name": "stdout",
     "output_type": "stream",
     "text": [
      "(Intercept)    log(DPP) \n",
      "     -0.919       0.485 \n"
     ]
    },
    {
     "name": "stderr",
     "output_type": "stream",
     "text": [
      "Warning message in if (is.na(mod)) {:\n",
      "“the condition has length > 1 and only the first element will be used”Beginning Cgee S-function, @(#) geeformula.q 4.13 98/01/27\n",
      "running glm to get initial regression estimate\n"
     ]
    },
    {
     "name": "stdout",
     "output_type": "stream",
     "text": [
      "(Intercept)    Secretor \n",
      "      -1.36        2.06 \n"
     ]
    },
    {
     "name": "stderr",
     "output_type": "stream",
     "text": [
      "Warning message in if (is.na(mod)) {:\n",
      "“the condition has length > 1 and only the first element will be used”Beginning Cgee S-function, @(#) geeformula.q 4.13 98/01/27\n",
      "running glm to get initial regression estimate\n"
     ]
    },
    {
     "name": "stdout",
     "output_type": "stream",
     "text": [
      "(Intercept)    Secretor \n",
      "      0.623      -0.945 \n"
     ]
    },
    {
     "name": "stderr",
     "output_type": "stream",
     "text": [
      "Warning message in if (is.na(mod)) {:\n",
      "“the condition has length > 1 and only the first element will be used”Beginning Cgee S-function, @(#) geeformula.q 4.13 98/01/27\n",
      "running glm to get initial regression estimate\n"
     ]
    },
    {
     "name": "stdout",
     "output_type": "stream",
     "text": [
      "(Intercept)    Secretor \n",
      "      0.484      -0.734 \n"
     ]
    },
    {
     "name": "stderr",
     "output_type": "stream",
     "text": [
      "Warning message in if (is.na(mod)) {:\n",
      "“the condition has length > 1 and only the first element will be used”Beginning Cgee S-function, @(#) geeformula.q 4.13 98/01/27\n",
      "running glm to get initial regression estimate\n"
     ]
    },
    {
     "name": "stdout",
     "output_type": "stream",
     "text": [
      "(Intercept)    Secretor \n",
      "     -0.213       0.323 \n"
     ]
    },
    {
     "name": "stderr",
     "output_type": "stream",
     "text": [
      "Warning message in if (is.na(mod)) {:\n",
      "“the condition has length > 1 and only the first element will be used”Beginning Cgee S-function, @(#) geeformula.q 4.13 98/01/27\n",
      "running glm to get initial regression estimate\n"
     ]
    },
    {
     "name": "stdout",
     "output_type": "stream",
     "text": [
      "(Intercept)    Secretor \n",
      "      0.976      -1.480 \n"
     ]
    },
    {
     "name": "stderr",
     "output_type": "stream",
     "text": [
      "Warning message in if (is.na(mod)) {:\n",
      "“the condition has length > 1 and only the first element will be used”Beginning Cgee S-function, @(#) geeformula.q 4.13 98/01/27\n",
      "running glm to get initial regression estimate\n"
     ]
    },
    {
     "name": "stdout",
     "output_type": "stream",
     "text": [
      "(Intercept)    Secretor \n",
      "      -1.28        1.94 \n"
     ]
    },
    {
     "name": "stderr",
     "output_type": "stream",
     "text": [
      "Warning message in if (is.na(mod)) {:\n",
      "“the condition has length > 1 and only the first element will be used”Beginning Cgee S-function, @(#) geeformula.q 4.13 98/01/27\n",
      "running glm to get initial regression estimate\n"
     ]
    },
    {
     "name": "stdout",
     "output_type": "stream",
     "text": [
      "(Intercept)    Secretor \n",
      "       1.20       -1.83 \n"
     ]
    },
    {
     "name": "stderr",
     "output_type": "stream",
     "text": [
      "Warning message in if (is.na(mod)) {:\n",
      "“the condition has length > 1 and only the first element will be used”Beginning Cgee S-function, @(#) geeformula.q 4.13 98/01/27\n",
      "running glm to get initial regression estimate\n"
     ]
    },
    {
     "name": "stdout",
     "output_type": "stream",
     "text": [
      "(Intercept)    Secretor \n",
      "     -0.305       0.463 \n"
     ]
    },
    {
     "name": "stderr",
     "output_type": "stream",
     "text": [
      "Warning message in if (is.na(mod)) {:\n",
      "“the condition has length > 1 and only the first element will be used”Beginning Cgee S-function, @(#) geeformula.q 4.13 98/01/27\n",
      "running glm to get initial regression estimate\n"
     ]
    },
    {
     "name": "stdout",
     "output_type": "stream",
     "text": [
      "(Intercept)    Secretor \n",
      "       1.22       -1.84 \n"
     ]
    },
    {
     "name": "stderr",
     "output_type": "stream",
     "text": [
      "Warning message in if (is.na(mod)) {:\n",
      "“the condition has length > 1 and only the first element will be used”Beginning Cgee S-function, @(#) geeformula.q 4.13 98/01/27\n",
      "running glm to get initial regression estimate\n"
     ]
    },
    {
     "name": "stdout",
     "output_type": "stream",
     "text": [
      "(Intercept)    Secretor \n",
      "      0.263      -0.398 \n"
     ]
    },
    {
     "name": "stderr",
     "output_type": "stream",
     "text": [
      "Warning message in if (is.na(mod)) {:\n",
      "“the condition has length > 1 and only the first element will be used”Beginning Cgee S-function, @(#) geeformula.q 4.13 98/01/27\n",
      "running glm to get initial regression estimate\n"
     ]
    },
    {
     "name": "stdout",
     "output_type": "stream",
     "text": [
      "(Intercept)    Secretor \n",
      "     -0.492       0.746 \n"
     ]
    },
    {
     "name": "stderr",
     "output_type": "stream",
     "text": [
      "Warning message in if (is.na(mod)) {:\n",
      "“the condition has length > 1 and only the first element will be used”Beginning Cgee S-function, @(#) geeformula.q 4.13 98/01/27\n",
      "running glm to get initial regression estimate\n"
     ]
    },
    {
     "name": "stdout",
     "output_type": "stream",
     "text": [
      "(Intercept)    Secretor \n",
      "    -0.0672      0.1019 \n"
     ]
    },
    {
     "name": "stderr",
     "output_type": "stream",
     "text": [
      "Warning message in if (is.na(mod)) {:\n",
      "“the condition has length > 1 and only the first element will be used”Beginning Cgee S-function, @(#) geeformula.q 4.13 98/01/27\n",
      "running glm to get initial regression estimate\n"
     ]
    },
    {
     "name": "stdout",
     "output_type": "stream",
     "text": [
      "(Intercept)    Secretor \n",
      "      0.832      -1.261 \n"
     ]
    },
    {
     "name": "stderr",
     "output_type": "stream",
     "text": [
      "Warning message in if (is.na(mod)) {:\n",
      "“the condition has length > 1 and only the first element will be used”Beginning Cgee S-function, @(#) geeformula.q 4.13 98/01/27\n",
      "running glm to get initial regression estimate\n"
     ]
    },
    {
     "name": "stdout",
     "output_type": "stream",
     "text": [
      "(Intercept)    Secretor \n",
      "      0.892      -1.353 \n"
     ]
    },
    {
     "name": "stderr",
     "output_type": "stream",
     "text": [
      "Warning message in if (is.na(mod)) {:\n",
      "“the condition has length > 1 and only the first element will be used”Beginning Cgee S-function, @(#) geeformula.q 4.13 98/01/27\n",
      "running glm to get initial regression estimate\n"
     ]
    },
    {
     "name": "stdout",
     "output_type": "stream",
     "text": [
      "(Intercept)    Secretor \n",
      "      0.475      -0.719 \n"
     ]
    },
    {
     "name": "stderr",
     "output_type": "stream",
     "text": [
      "Warning message in if (is.na(mod)) {:\n",
      "“the condition has length > 1 and only the first element will be used”Beginning Cgee S-function, @(#) geeformula.q 4.13 98/01/27\n",
      "running glm to get initial regression estimate\n"
     ]
    },
    {
     "name": "stdout",
     "output_type": "stream",
     "text": [
      "(Intercept)    Secretor \n",
      "      0.158      -0.239 \n"
     ]
    },
    {
     "name": "stderr",
     "output_type": "stream",
     "text": [
      "Warning message in if (is.na(mod)) {:\n",
      "“the condition has length > 1 and only the first element will be used”"
     ]
    }
   ],
   "source": [
    "library(gee)\n",
    "\n",
    "add_models=list()\n",
    "inter_models=list()\n",
    "\n",
    "i=0\n",
    "out_i=lapply( data, function(x){\n",
    "    i=i+1\n",
    "    x$Secretor = as.numeric(x$Secretor)\n",
    "    #\tx$Secretor = relevel(factor(ifelse(x$Secretor,'secretor','nonsecretor')),ref='nonsecretor')\n",
    "    mods_i = lapply( colnames(x)[colnames(x)%in%vars] , function(motif){\n",
    "        mod=NA\n",
    "        #try(mod<-gee(as.formula(paste(motif,'~ Secretor+log(DPP)')),id=PateintID,data=droplevels(x),corstr='exchangeable',family=Gamma()))\n",
    "        try(mod<-gee(as.formula(paste('scale(log(',motif,'+.001))~ log(DPP)')),id=PateintID,data=droplevels(x),corstr='exchangeable'))\n",
    "        #try(mod<-gee(as.formula(paste('Secretor~scale(',motif,')+log(DPP)')),id=PateintID,data=droplevels(x),corstr='exchangeable',family='binomial'))\n",
    "        if(is.na(mod)){return(NULL)}else{as.data.frame(coef(summary(mod)))}\n",
    "    })\n",
    "    names(mods_i) = colnames(x)[colnames(x)%in%vars]\n",
    "    mods=as.data.frame( do.call(rbind,mods_i[!sapply(mods_i,is.null)]) )\n",
    "    mods = cbind(mods,do.call(rbind,strsplit( gsub('scale|log|\\\\(|\\\\)','',rownames(mods)) , split = '\\\\.') ) )\n",
    "    colnames(mods) = c('Coef','naiveSE','naiveZ','robustSE','robustZ','response','vars')\n",
    "    mods$type = 'additive'\n",
    "    mods$robustPr = 2*pnorm(-abs(mods$robustZ))\n",
    "    mods1=mods[mods$response%in%vars & mods$vars!='Intercept',]\n",
    "    \n",
    "    mods_i = lapply( colnames(x)[colnames(x)%in%vars] , function(motif){\n",
    "        mod=NA\n",
    "        #try(mod<-gee(as.formula(paste(motif,'~ Secretor+log(DPP)')),id=PateintID,data=droplevels(x),corstr='exchangeable',family=Gamma()))\n",
    "        try(mod<-gee(as.formula(paste('scale(log(',motif,'+.001))~ Secretor')),id=PateintID,data=droplevels(x),corstr='exchangeable'))\n",
    "        #try(mod<-gee(as.formula(paste('Secretor~scale(',motif,')+log(DPP)')),id=PateintID,data=droplevels(x),corstr='exchangeable',family='binomial'))\n",
    "        if(is.na(mod)){return(NULL)}else{as.data.frame(coef(summary(mod)))}\n",
    "    })\n",
    "    names(mods_i) = colnames(x)[colnames(x)%in%vars]\n",
    "    mods=as.data.frame( do.call(rbind,mods_i[!sapply(mods_i,is.null)]) )\n",
    "    mods = cbind(mods,do.call(rbind,strsplit( gsub('scale|log|\\\\(|\\\\)','',rownames(mods)) , split = '\\\\.') ) )\n",
    "    colnames(mods) = c('Coef','naiveSE','naiveZ','robustSE','robustZ','response','vars')\n",
    "    mods$type = 'additive'\n",
    "    mods$robustPr = 2*pnorm(-abs(mods$robustZ))\n",
    "    mods2=mods[mods$response%in%vars & mods$vars!='Intercept',]\n",
    "    \n",
    "    rbind(mods1,mods2)\n",
    "})\n",
    "out=do.call(rbind,out_i) #[-(4:5)])\n",
    "out$data = unlist(lapply(strsplit(rownames(out),'\\\\.'),function(x) x[1]))"
   ]
  },
  {
   "cell_type": "code",
   "execution_count": 578,
   "metadata": {
    "scrolled": false
   },
   "outputs": [
    {
     "name": "stdout",
     "output_type": "stream",
     "text": [
      " [1] \"X3FL\"    \"LNnT\"    \"LNFPIII\" \"LSTc\"    \"DSLNT\"   \"FLNH\"    \"DFLNH\"  \n",
      " [8] \"FDSLNH\"  \"DSLNH\"   \"X4\"      \"X10\"     \"X26\"     \"X61\"     \"X75\"    \n",
      "[15] \"X80\"     \"X103\"    \"X121\"    \"X129\"    \"X137\"    \"X138\"    \"X143\"   \n"
     ]
    }
   ],
   "source": [
    "#### power analysis\n",
    "\n",
    "\n",
    "### check normality\n",
    "x=data$glycan_percent\n",
    "p1=unlist(apply( x[colnames(x)[colnames(x)%in%vars]],2,function(y){\n",
    "    out=NULL;\n",
    "    try(out<-shapiro.test(scale(log(y+.001)))$p.value);\n",
    "    out} ))\n",
    "x=data$smallest_motif_abundance_dropped_more\n",
    "p2=unlist(apply( x[colnames(x)[colnames(x)%in%vars]],2,function(y){\n",
    "    out=NULL;\n",
    "    try(out<-shapiro.test(scale(log(y+.001)))$p.value);\n",
    "    out} ))\n",
    "\n",
    "thresh=.1\n",
    "pn = c(names(p1)[p.adjust(p1,'fdr')>thresh],names(p2)[p.adjust(p2,'fdr')>thresh])\n",
    "print(pn)\n",
    "\n",
    "x1=data$smallest_motif_abundance_dropped_more\n",
    "x2=data$glycan_percent\n",
    "vars1 = colnames(x1)[colnames(x1)%in%pn]\n",
    "vars2 = colnames(x2)[colnames(x2)%in%pn]\n",
    "\n",
    "\n",
    "#par(mfrow = c(1,3))\n",
    "\n",
    "##### marginal r^2\n",
    "mr2<-list(motifs=sapply(out_models$smallest_motif_abundance_dropped_more[vars1],function(mod){\n",
    "        y = mod$y; y_bar=mean(y); y_hat=mod$fitted.values\n",
    "        mr2=1-sum((y-y_hat)^2)/sum((y-y_bar)^2)\n",
    "        mr2\n",
    "    }),\n",
    "    glycans=sapply(out_models$glycan_percent[vars2],function(mod){\n",
    "        y = mod$y; y_bar=mean(y); y_hat=mod$fitted.values\n",
    "        mr2=1-sum((y-y_hat)^2)/sum((y-y_bar)^2)\n",
    "        mr2\n",
    "    }))\n",
    "\n",
    "### cohen's d\n",
    "\n",
    "chnD<-list(\n",
    "    motifs=sapply(vars1[vars1%in%pn],function(yn){\n",
    "    y=x1[,yn]\n",
    "    cohen.d(y,factor(x$Secretor), pooled=TRUE, paired=FALSE, na.rm=T, \n",
    "        hedges.correction = FALSE, conf.level = 0.95, noncentral = FALSE)$estimate\n",
    "    }),\n",
    "    glycans=sapply(vars2[vars2%in%pn],function(yn){\n",
    "        y=x2[,yn]\n",
    "        cohen.d(y,factor(x$Secretor), pooled=TRUE, paired=FALSE, na.rm=T, \n",
    "            hedges.correction = FALSE, conf.level = 0.95, noncentral = FALSE)$estimate\n",
    "    }))\n",
    "\n",
    "\n",
    "\n",
    "###### coeffiecients and noise\n",
    "\n",
    "keep = out$type=='additive' & out$data%in%keep_data & \n",
    "    out$response%in%pn & #!grepl('DPP',rownames(out)) &\n",
    "    out$robustPr<0.1\n"
   ]
  },
  {
   "cell_type": "code",
   "execution_count": 579,
   "metadata": {
    "scrolled": false
   },
   "outputs": [
    {
     "data": {
      "image/png": "[encoded data removed]",
      "text/plain": [
       "plot without title"
      ]
     },
     "metadata": {},
     "output_type": "display_data"
    },
    {
     "data": {
      "image/png": "[encoded data removed]",
      "text/plain": [
       "plot without title"
      ]
     },
     "metadata": {},
     "output_type": "display_data"
    }
   ],
   "source": [
    "tmp=melt(chnD)\n",
    "colnames(tmp)=c('CohenD','abundance_type')\n",
    "p1=ggboxplot(tmp, x = \"abundance_type\", y = \"abs(CohenD)\",\n",
    "                fill = \"abundance_type\", palette =c(\"#00AFBB\",'#FC4E07'), #, \"#E7B800\"),\n",
    "                add = \"jitter\")+stat_compare_means(method.args = list(alternative = \"less\"))\n",
    "\n",
    "tmp=melt(mr2)\n",
    "colnames(tmp)=c('marginal_R2','abundance_type')\n",
    "p2=ggboxplot(tmp, x = \"abundance_type\", y = \"marginal_R2\",\n",
    "                fill = \"abundance_type\", palette =c(\"#00AFBB\",'#FC4E07'), #, \"#E7B800\"),\n",
    "                add = \"jitter\")+stat_compare_means(method.args = list(alternative = \"less\"))\n",
    "\n",
    "p3=ggboxplot(droplevels(out[keep,]),x='data',y='abs(Coef)',\n",
    "                fill = \"data\", palette =c(\"#00AFBB\",'#FC4E07'), #, \"#E7B800\"),\n",
    "                add = \"jitter\")+stat_compare_means(method.args = list(alternative = \"less\"))\n",
    "\n",
    "p4=ggboxplot(droplevels(out[keep,]),x='data',y='robustSE',\n",
    "                fill = \"data\", palette =c(\"#00AFBB\",'#FC4E07'), #, \"#E7B800\"),\n",
    "                add = \"jitter\")+stat_compare_means(method.args = list(alternative = \"greater\"))\n",
    "\n",
    "\n",
    "g1<-grid.arrange(grobs=list(p1,p2),nrow=1)\n",
    "g2<-grid.arrange(grobs=list(p3,p4),nrow=1)\n",
    "#g = grid.arrange(grobs=list(p1,p2,p3,p4),nrow=1)\n",
    "#ggsave(grid.arrange(grobs=list(p1,p2,p3,p4),nrow=2),filename = '~/Desktop/poweranyl.pdf',height=10,width=10)"
   ]
  },
  {
   "cell_type": "code",
   "execution_count": 489,
   "metadata": {},
   "outputs": [],
   "source": [
    "#summary(aov(abs(Coef) ~ data , data=droplevels(out[keep,])))\n",
    "#summary(aov(Coef ~ data , data=droplevels(out[keep,])))\n",
    "#summary(aov(robustSE ~ data , data=droplevels(out[keep,])))\n",
    "\n",
    "# dfmr2 = data.frame(mr2=c(mr2$motifs,mr2$glycans),\n",
    "#                    type=c(rep('motifs',length(mr2$motifs)),rep('glycans',length(mr2$glycans))))\n",
    "\n",
    "# #summary(aov(mr2~type, dfmr2))\n",
    "# t.test(mr2$motifs,mr2$glycans)\n",
    "# wilcox.test(mr2$motifs,mr2$glycans)\n",
    "\n",
    "#t.test(abs(mr2$motifs),abs(mr2$glycans),alternative = 'greater')\n",
    "#wilcox.test(abs(mr2$motifs),abs(mr2$glycans),alternative='greater')\n",
    "\n",
    "#t.test(abs(chnD$motifs),abs(chnD$glycans),alternative = 'greater')\n",
    "#wilcox.test(abs(chnD$motifs),abs(chnD$glycans),alternative='greater')\n",
    "\n",
    "#t.test(abs(hG$motifs),abs(hG$glycans),alternative = 'greater')\n",
    "#wilcox.test(abs(hG$motifs),abs(hG$glycans),alternative='greater')\n"
   ]
  },
  {
   "cell_type": "code",
   "execution_count": null,
   "metadata": {},
   "outputs": [],
   "source": []
  },
  {
   "cell_type": "code",
   "execution_count": null,
   "metadata": {},
   "outputs": [],
   "source": []
  },
  {
   "cell_type": "code",
   "execution_count": null,
   "metadata": {},
   "outputs": [],
   "source": []
  },
  {
   "cell_type": "code",
   "execution_count": null,
   "metadata": {},
   "outputs": [],
   "source": []
  },
  {
   "cell_type": "markdown",
   "metadata": {},
   "source": [
    "## Using the likelihood ratio test to determine if more complex substructures are significantly more predictive of secretor status "
   ]
  },
  {
   "cell_type": "code",
   "execution_count": 63,
   "metadata": {
    "scrolled": true
   },
   "outputs": [
    {
     "name": "stdout",
     "output_type": "stream",
     "text": [
      "     [,1] [,2]\n",
      "[1,] \"5\"  \"20\"\n",
      "[1] \"skip 5_20\"\n",
      "     [,1] [,2]\n",
      "[1,] \"5\"  \"21\"\n",
      "[1] \"skip 5_21\"\n",
      "     [,1] [,2]\n",
      "[1,] \"5\"  \"26\"\n",
      "[1] \"skip 5_26\"\n",
      "     [,1] [,2]\n",
      "[1,] \"5\"  \"29\"\n",
      "[1] \"skip 5_29\"\n",
      "     [,1] [,2]\n",
      "[1,] \"5\"  \"35\"\n",
      "[1] \"skip 5_35\"\n",
      "     [,1] [,2]\n",
      "[1,] \"20\" \"37\"\n"
     ]
    },
    {
     "name": "stderr",
     "output_type": "stream",
     "text": [
      "Warning message:\n",
      "“glm.fit: algorithm did not converge”Warning message:\n",
      "“glm.fit: fitted probabilities numerically 0 or 1 occurred”Warning message:\n",
      "“glm.fit: algorithm did not converge”Warning message:\n",
      "“glm.fit: fitted probabilities numerically 0 or 1 occurred”Warning message:\n",
      "“glm.fit: algorithm did not converge”Warning message:\n",
      "“glm.fit: fitted probabilities numerically 0 or 1 occurred”"
     ]
    },
    {
     "name": "stdout",
     "output_type": "stream",
     "text": [
      "     [,1] [,2]\n",
      "[1,] \"20\" \"38\"\n"
     ]
    },
    {
     "name": "stderr",
     "output_type": "stream",
     "text": [
      "Warning message:\n",
      "“glm.fit: algorithm did not converge”Warning message:\n",
      "“glm.fit: fitted probabilities numerically 0 or 1 occurred”Warning message:\n",
      "“glm.fit: algorithm did not converge”Warning message:\n",
      "“glm.fit: fitted probabilities numerically 0 or 1 occurred”Warning message:\n",
      "“glm.fit: algorithm did not converge”Warning message:\n",
      "“glm.fit: fitted probabilities numerically 0 or 1 occurred”"
     ]
    },
    {
     "name": "stdout",
     "output_type": "stream",
     "text": [
      "     [,1] [,2]\n",
      "[1,] \"20\" \"40\"\n"
     ]
    },
    {
     "name": "stderr",
     "output_type": "stream",
     "text": [
      "Warning message:\n",
      "“glm.fit: algorithm did not converge”Warning message:\n",
      "“glm.fit: fitted probabilities numerically 0 or 1 occurred”Warning message:\n",
      "“glm.fit: algorithm did not converge”Warning message:\n",
      "“glm.fit: fitted probabilities numerically 0 or 1 occurred”Warning message:\n",
      "“glm.fit: algorithm did not converge”Warning message:\n",
      "“glm.fit: fitted probabilities numerically 0 or 1 occurred”"
     ]
    },
    {
     "name": "stdout",
     "output_type": "stream",
     "text": [
      "     [,1] [,2]\n",
      "[1,] \"20\" \"41\"\n"
     ]
    },
    {
     "name": "stderr",
     "output_type": "stream",
     "text": [
      "Warning message:\n",
      "“glm.fit: algorithm did not converge”Warning message:\n",
      "“glm.fit: fitted probabilities numerically 0 or 1 occurred”Warning message:\n",
      "“glm.fit: algorithm did not converge”Warning message:\n",
      "“glm.fit: fitted probabilities numerically 0 or 1 occurred”Warning message:\n",
      "“glm.fit: algorithm did not converge”Warning message:\n",
      "“glm.fit: fitted probabilities numerically 0 or 1 occurred”"
     ]
    },
    {
     "name": "stdout",
     "output_type": "stream",
     "text": [
      "     [,1] [,2]\n",
      "[1,] \"20\" \"43\"\n"
     ]
    },
    {
     "name": "stderr",
     "output_type": "stream",
     "text": [
      "Warning message:\n",
      "“glm.fit: algorithm did not converge”Warning message:\n",
      "“glm.fit: fitted probabilities numerically 0 or 1 occurred”Warning message:\n",
      "“glm.fit: algorithm did not converge”Warning message:\n",
      "“glm.fit: fitted probabilities numerically 0 or 1 occurred”Warning message:\n",
      "“glm.fit: algorithm did not converge”Warning message:\n",
      "“glm.fit: fitted probabilities numerically 0 or 1 occurred”"
     ]
    },
    {
     "name": "stdout",
     "output_type": "stream",
     "text": [
      "     [,1] [,2]\n",
      "[1,] \"20\" \"51\"\n"
     ]
    },
    {
     "name": "stderr",
     "output_type": "stream",
     "text": [
      "Warning message:\n",
      "“glm.fit: algorithm did not converge”Warning message:\n",
      "“glm.fit: fitted probabilities numerically 0 or 1 occurred”Warning message:\n",
      "“glm.fit: algorithm did not converge”Warning message:\n",
      "“glm.fit: fitted probabilities numerically 0 or 1 occurred”Warning message:\n",
      "“glm.fit: algorithm did not converge”Warning message:\n",
      "“glm.fit: fitted probabilities numerically 0 or 1 occurred”"
     ]
    },
    {
     "name": "stdout",
     "output_type": "stream",
     "text": [
      "     [,1] [,2]\n",
      "[1,] \"20\" \"53\"\n"
     ]
    },
    {
     "name": "stderr",
     "output_type": "stream",
     "text": [
      "Warning message:\n",
      "“glm.fit: algorithm did not converge”Warning message:\n",
      "“glm.fit: fitted probabilities numerically 0 or 1 occurred”Warning message:\n",
      "“glm.fit: algorithm did not converge”Warning message:\n",
      "“glm.fit: fitted probabilities numerically 0 or 1 occurred”Warning message:\n",
      "“glm.fit: algorithm did not converge”Warning message:\n",
      "“glm.fit: fitted probabilities numerically 0 or 1 occurred”"
     ]
    },
    {
     "name": "stdout",
     "output_type": "stream",
     "text": [
      "     [,1] [,2]\n",
      "[1,] \"26\" \"43\"\n",
      "     [,1] [,2]\n",
      "[1,] \"29\" \"45\"\n",
      "[1] \"skip 29_45\"\n",
      "     [,1] [,2]\n",
      "[1,] \"29\" \"46\"\n",
      "     [,1] [,2]\n",
      "[1,] \"29\" \"51\"\n",
      "[1] \"skip 29_51\"\n",
      "     [,1] [,2]\n",
      "[1,] \"37\" \"61\"\n",
      "[1] \"skip 37_61\"\n",
      "     [,1] [,2]\n",
      "[1,] \"37\" \"64\"\n"
     ]
    },
    {
     "name": "stderr",
     "output_type": "stream",
     "text": [
      "Warning message:\n",
      "“glm.fit: fitted probabilities numerically 0 or 1 occurred”Warning message:\n",
      "“glm.fit: algorithm did not converge”Warning message:\n",
      "“glm.fit: fitted probabilities numerically 0 or 1 occurred”Warning message:\n",
      "“glm.fit: algorithm did not converge”Warning message:\n",
      "“glm.fit: fitted probabilities numerically 0 or 1 occurred”"
     ]
    },
    {
     "name": "stdout",
     "output_type": "stream",
     "text": [
      "     [,1] [,2]\n",
      "[1,] \"38\" \"61\"\n"
     ]
    },
    {
     "name": "stderr",
     "output_type": "stream",
     "text": [
      "Warning message:\n",
      "“glm.fit: algorithm did not converge”Warning message:\n",
      "“glm.fit: fitted probabilities numerically 0 or 1 occurred”Warning message:\n",
      "“glm.fit: algorithm did not converge”Warning message:\n",
      "“glm.fit: fitted probabilities numerically 0 or 1 occurred”Warning message:\n",
      "“glm.fit: algorithm did not converge”Warning message:\n",
      "“glm.fit: fitted probabilities numerically 0 or 1 occurred”"
     ]
    },
    {
     "name": "stdout",
     "output_type": "stream",
     "text": [
      "     [,1] [,2]\n",
      "[1,] \"38\" \"65\"\n"
     ]
    },
    {
     "name": "stderr",
     "output_type": "stream",
     "text": [
      "Warning message:\n",
      "“glm.fit: algorithm did not converge”Warning message:\n",
      "“glm.fit: fitted probabilities numerically 0 or 1 occurred”Warning message:\n",
      "“glm.fit: algorithm did not converge”Warning message:\n",
      "“glm.fit: fitted probabilities numerically 0 or 1 occurred”Warning message:\n",
      "“glm.fit: algorithm did not converge”Warning message:\n",
      "“glm.fit: fitted probabilities numerically 0 or 1 occurred”"
     ]
    },
    {
     "name": "stdout",
     "output_type": "stream",
     "text": [
      "     [,1] [,2]\n",
      "[1,] \"38\" \"79\"\n"
     ]
    },
    {
     "name": "stderr",
     "output_type": "stream",
     "text": [
      "Warning message:\n",
      "“glm.fit: algorithm did not converge”Warning message:\n",
      "“glm.fit: fitted probabilities numerically 0 or 1 occurred”Warning message:\n",
      "“glm.fit: algorithm did not converge”Warning message:\n",
      "“glm.fit: fitted probabilities numerically 0 or 1 occurred”Warning message:\n",
      "“glm.fit: algorithm did not converge”Warning message:\n",
      "“glm.fit: fitted probabilities numerically 0 or 1 occurred”"
     ]
    },
    {
     "name": "stdout",
     "output_type": "stream",
     "text": [
      "     [,1] [,2]\n",
      "[1,] \"38\" \"80\"\n"
     ]
    },
    {
     "name": "stderr",
     "output_type": "stream",
     "text": [
      "Warning message:\n",
      "“glm.fit: algorithm did not converge”Warning message:\n",
      "“glm.fit: fitted probabilities numerically 0 or 1 occurred”Warning message:\n",
      "“glm.fit: algorithm did not converge”Warning message:\n",
      "“glm.fit: fitted probabilities numerically 0 or 1 occurred”Warning message:\n",
      "“glm.fit: algorithm did not converge”Warning message:\n",
      "“glm.fit: fitted probabilities numerically 0 or 1 occurred”"
     ]
    },
    {
     "name": "stdout",
     "output_type": "stream",
     "text": [
      "     [,1] [,2]\n",
      "[1,] \"38\" \"85\"\n"
     ]
    },
    {
     "name": "stderr",
     "output_type": "stream",
     "text": [
      "Warning message:\n",
      "“glm.fit: algorithm did not converge”Warning message:\n",
      "“glm.fit: fitted probabilities numerically 0 or 1 occurred”Warning message:\n",
      "“glm.fit: algorithm did not converge”Warning message:\n",
      "“glm.fit: fitted probabilities numerically 0 or 1 occurred”Warning message:\n",
      "“glm.fit: algorithm did not converge”Warning message:\n",
      "“glm.fit: fitted probabilities numerically 0 or 1 occurred”"
     ]
    },
    {
     "name": "stdout",
     "output_type": "stream",
     "text": [
      "     [,1] [,2]\n",
      "[1,] \"38\" \"86\"\n"
     ]
    },
    {
     "name": "stderr",
     "output_type": "stream",
     "text": [
      "Warning message:\n",
      "“glm.fit: algorithm did not converge”Warning message:\n",
      "“glm.fit: fitted probabilities numerically 0 or 1 occurred”Warning message:\n",
      "“glm.fit: algorithm did not converge”Warning message:\n",
      "“glm.fit: fitted probabilities numerically 0 or 1 occurred”Warning message:\n",
      "“glm.fit: algorithm did not converge”Warning message:\n",
      "“glm.fit: fitted probabilities numerically 0 or 1 occurred”"
     ]
    },
    {
     "name": "stdout",
     "output_type": "stream",
     "text": [
      "     [,1] [,2]\n",
      "[1,] \"40\" \"62\"\n",
      "     [,1] [,2]\n",
      "[1,] \"40\" \"63\"\n",
      "     [,1] [,2]\n",
      "[1,] \"40\" \"73\"\n",
      "     [,1] [,2]\n",
      "[1,] \"41\" \"62\"\n",
      "[1] \"skip 41_62\"\n",
      "     [,1] [,2]\n",
      "[1,] \"41\" \"74\"\n",
      "     [,1] [,2]\n",
      "[1,] \"43\" \"64\"\n",
      "[1] \"skip 43_64\"\n",
      "     [,1] [,2]\n",
      "[1,] \"43\" \"65\"\n",
      "[1] \"skip 43_65\"\n",
      "     [,1] [,2]\n",
      "[1,] \"45\" \"66\"\n",
      "     [,1] [,2]\n",
      "[1,] \"45\" \"75\"\n",
      "[1] \"skip 45_75\"\n",
      "     [,1] [,2]\n",
      "[1,] \"45\" \"88\"\n",
      "     [,1] [,2]\n",
      "[1,] \"46\" \"66\"\n",
      "[1] \"skip 46_66\"\n",
      "     [,1] [,2]\n",
      "[1,] \"46\" \"76\"\n",
      "[1] \"skip 46_76\"\n",
      "     [,1] [,2]\n",
      "[1,] \"51\" \"73\"\n",
      "     [,1] [,2]\n",
      "[1,] \"51\" \"74\"\n",
      "     [,1] [,2]\n",
      "[1,] \"51\" \"75\"\n",
      "[1] \"skip 51_75\"\n",
      "     [,1] [,2]\n",
      "[1,] \"51\" \"76\"\n",
      "     [,1] [,2]\n",
      "[1,] \"51\" \"81\"\n",
      "     [,1] [,2]\n",
      "[1,] \"51\" \"85\"\n",
      "     [,1] [,2]\n",
      "[1,] \"53\" \"80\"\n",
      "[1] \"skip 53_80\"\n",
      "     [,1] [,2]\n",
      "[1,] \"53\" \"81\"\n",
      "     [,1] [,2]\n",
      "[1,] \"61\" \"92\"\n"
     ]
    },
    {
     "name": "stderr",
     "output_type": "stream",
     "text": [
      "Warning message:\n",
      "“glm.fit: fitted probabilities numerically 0 or 1 occurred”Warning message:\n",
      "“glm.fit: algorithm did not converge”Warning message:\n",
      "“glm.fit: fitted probabilities numerically 0 or 1 occurred”Warning message:\n",
      "“glm.fit: algorithm did not converge”Warning message:\n",
      "“glm.fit: fitted probabilities numerically 0 or 1 occurred”"
     ]
    },
    {
     "name": "stdout",
     "output_type": "stream",
     "text": [
      "     [,1] [,2]\n",
      "[1,] \"62\" \"97\"\n",
      "     [,1] [,2] \n",
      "[1,] \"62\" \"113\"\n",
      "     [,1] [,2] \n",
      "[1,] \"63\" \"113\"\n",
      "     [,1] [,2] \n",
      "[1,] \"63\" \"116\"\n",
      "     [,1] [,2]\n",
      "[1,] \"64\" \"92\"\n",
      "[1] \"skip 64_92\"\n",
      "     [,1] [,2]\n",
      "[1,] \"65\" \"92\"\n",
      "[1] \"skip 65_92\"\n",
      "     [,1] [,2] \n",
      "[1,] \"66\" \"102\"\n",
      "[1] \"skip 66_102\"\n",
      "     [,1] [,2]\n",
      "[1,] \"73\" \"97\"\n",
      "[1] \"skip 73_97\"\n",
      "     [,1] [,2]\n",
      "[1,] \"73\" \"98\"\n",
      "[1] \"skip 73_98\"\n",
      "     [,1] [,2] \n",
      "[1,] \"73\" \"100\"\n",
      "     [,1] [,2] \n",
      "[1,] \"73\" \"116\"\n",
      "     [,1] [,2]\n",
      "[1,] \"74\" \"97\"\n",
      "[1] \"skip 74_97\"\n",
      "     [,1] [,2]\n",
      "[1,] \"74\" \"99\"\n",
      "[1] \"skip 74_99\"\n",
      "     [,1] [,2] \n",
      "[1,] \"74\" \"101\"\n",
      "     [,1] [,2]\n",
      "[1,] \"75\" \"98\"\n",
      "     [,1] [,2]\n",
      "[1,] \"75\" \"99\"\n",
      "     [,1] [,2] \n",
      "[1,] \"75\" \"102\"\n",
      "     [,1] [,2] \n",
      "[1,] \"75\" \"104\"\n",
      "     [,1] [,2] \n",
      "[1,] \"75\" \"110\"\n",
      "     [,1] [,2] \n",
      "[1,] \"75\" \"117\"\n",
      "     [,1] [,2] \n",
      "[1,] \"76\" \"100\"\n",
      "[1] \"skip 76_100\"\n",
      "     [,1] [,2] \n",
      "[1,] \"76\" \"101\"\n",
      "[1] \"skip 76_101\"\n",
      "     [,1] [,2] \n",
      "[1,] \"76\" \"102\"\n",
      "[1] \"skip 76_102\"\n",
      "     [,1] [,2] \n",
      "[1,] \"79\" \"103\"\n",
      "[1] \"skip 79_103\"\n",
      "     [,1] [,2] \n",
      "[1,] \"79\" \"108\"\n",
      "     [,1] [,2] \n",
      "[1,] \"80\" \"103\"\n"
     ]
    },
    {
     "name": "stderr",
     "output_type": "stream",
     "text": [
      "Warning message:\n",
      "“glm.fit: fitted probabilities numerically 0 or 1 occurred”Warning message:\n",
      "“glm.fit: fitted probabilities numerically 0 or 1 occurred”"
     ]
    },
    {
     "name": "stdout",
     "output_type": "stream",
     "text": [
      "     [,1] [,2] \n",
      "[1,] \"80\" \"109\"\n",
      "     [,1] [,2] \n",
      "[1,] \"81\" \"104\"\n",
      "[1] \"skip 81_104\"\n",
      "     [,1] [,2] \n",
      "[1,] \"81\" \"109\"\n",
      "[1] \"skip 81_109\"\n",
      "     [,1] [,2] \n",
      "[1,] \"85\" \"108\"\n",
      "     [,1] [,2] \n",
      "[1,] \"85\" \"109\"\n",
      "     [,1] [,2] \n",
      "[1,] \"85\" \"110\"\n",
      "[1] \"skip 85_110\"\n",
      "     [,1] [,2] \n",
      "[1,] \"85\" \"112\"\n",
      "     [,1] [,2] \n",
      "[1,] \"86\" \"112\"\n"
     ]
    },
    {
     "name": "stderr",
     "output_type": "stream",
     "text": [
      "Warning message:\n",
      "“glm.fit: fitted probabilities numerically 0 or 1 occurred”Warning message:\n",
      "“glm.fit: algorithm did not converge”Warning message:\n",
      "“glm.fit: fitted probabilities numerically 0 or 1 occurred”Warning message:\n",
      "“glm.fit: algorithm did not converge”Warning message:\n",
      "“glm.fit: fitted probabilities numerically 0 or 1 occurred”"
     ]
    },
    {
     "name": "stdout",
     "output_type": "stream",
     "text": [
      "     [,1] [,2] \n",
      "[1,] \"88\" \"117\"\n",
      "[1] \"skip 88_117\"\n",
      "     [,1] [,2] \n",
      "[1,] \"97\" \"121\"\n",
      "[1] \"skip 97_121\"\n",
      "     [,1] [,2] \n",
      "[1,] \"97\" \"122\"\n",
      "     [,1] [,2] \n",
      "[1,] \"97\" \"130\"\n",
      "     [,1] [,2] \n",
      "[1,] \"98\" \"121\"\n",
      "[1] \"skip 98_121\"\n",
      "     [,1] [,2] \n",
      "[1,] \"98\" \"123\"\n",
      "     [,1] [,2] \n",
      "[1,] \"98\" \"135\"\n",
      "     [,1] [,2] \n",
      "[1,] \"98\" \"136\"\n",
      "     [,1] [,2] \n",
      "[1,] \"99\" \"121\"\n",
      "[1] \"skip 99_121\"\n",
      "     [,1] [,2] \n",
      "[1,] \"99\" \"124\"\n",
      "     [,1] [,2] \n",
      "[1,] \"99\" \"131\"\n",
      "     [,1]  [,2] \n",
      "[1,] \"100\" \"122\"\n",
      "[1] \"skip 100_122\"\n",
      "     [,1]  [,2] \n",
      "[1,] \"100\" \"123\"\n",
      "[1] \"skip 100_123\"\n",
      "     [,1]  [,2] \n",
      "[1,] \"101\" \"122\"\n",
      "[1] \"skip 101_122\"\n",
      "     [,1]  [,2] \n",
      "[1,] \"101\" \"124\"\n",
      "[1] \"skip 101_124\"\n",
      "     [,1]  [,2] \n",
      "[1,] \"102\" \"123\"\n",
      "[1] \"skip 102_123\"\n",
      "     [,1]  [,2] \n",
      "[1,] \"102\" \"124\"\n",
      "[1] \"skip 102_124\"\n",
      "     [,1]  [,2] \n",
      "[1,] \"103\" \"126\"\n",
      "     [,1]  [,2] \n",
      "[1,] \"104\" \"128\"\n",
      "[1] \"skip 104_128\"\n",
      "     [,1]  [,2] \n",
      "[1,] \"108\" \"126\"\n",
      "[1] \"skip 108_126\"\n",
      "     [,1]  [,2] \n",
      "[1,] \"108\" \"127\"\n",
      "[1] \"skip 108_127\"\n",
      "     [,1]  [,2] \n",
      "[1,] \"109\" \"126\"\n",
      "[1] \"skip 109_126\"\n",
      "     [,1]  [,2] \n",
      "[1,] \"109\" \"128\"\n",
      "[1] \"skip 109_128\"\n",
      "     [,1]  [,2] \n",
      "[1,] \"110\" \"127\"\n",
      "     [,1]  [,2] \n",
      "[1,] \"110\" \"128\"\n",
      "     [,1]  [,2] \n",
      "[1,] \"110\" \"129\"\n",
      "     [,1]  [,2] \n",
      "[1,] \"112\" \"129\"\n",
      "[1] \"skip 112_129\"\n",
      "     [,1]  [,2] \n",
      "[1,] \"113\" \"130\"\n",
      "[1] \"skip 113_130\"\n",
      "     [,1]  [,2] \n",
      "[1,] \"116\" \"130\"\n",
      "[1] \"skip 116_130\"\n",
      "     [,1]  [,2] \n",
      "[1,] \"116\" \"135\"\n",
      "[1] \"skip 116_135\"\n",
      "     [,1]  [,2] \n",
      "[1,] \"117\" \"131\"\n",
      "[1] \"skip 117_131\"\n",
      "     [,1]  [,2] \n",
      "[1,] \"117\" \"136\"\n",
      "[1] \"skip 117_136\"\n",
      "     [,1]  [,2] \n",
      "[1,] \"121\" \"137\"\n",
      "     [,1]  [,2] \n",
      "[1,] \"121\" \"140\"\n",
      "     [,1]  [,2] \n",
      "[1,] \"121\" \"142\"\n",
      "     [,1]  [,2] \n",
      "[1,] \"122\" \"137\"\n",
      "[1] \"skip 122_137\"\n",
      "     [,1]  [,2] \n",
      "[1,] \"123\" \"137\"\n",
      "[1] \"skip 123_137\"\n",
      "     [,1]  [,2] \n",
      "[1,] \"124\" \"137\"\n",
      "[1] \"skip 124_137\"\n",
      "     [,1]  [,2] \n",
      "[1,] \"126\" \"138\"\n",
      "[1] \"skip 126_138\"\n",
      "     [,1]  [,2] \n",
      "[1,] \"127\" \"138\"\n",
      "[1] \"skip 127_138\"\n",
      "     [,1]  [,2] \n",
      "[1,] \"128\" \"138\"\n",
      "[1] \"skip 128_138\"\n",
      "     [,1]  [,2] \n",
      "[1,] \"130\" \"140\"\n",
      "[1] \"skip 130_140\"\n",
      "     [,1]  [,2] \n",
      "[1,] \"131\" \"142\"\n",
      "[1] \"skip 131_142\"\n",
      "     [,1]  [,2] \n",
      "[1,] \"135\" \"140\"\n",
      "[1] \"skip 135_140\"\n",
      "     [,1]  [,2] \n",
      "[1,] \"135\" \"141\"\n",
      "[1] \"skip 135_141\"\n",
      "     [,1]  [,2] \n",
      "[1,] \"136\" \"141\"\n",
      "[1] \"skip 136_141\"\n",
      "     [,1]  [,2] \n",
      "[1,] \"136\" \"142\"\n",
      "[1] \"skip 136_142\"\n",
      "     [,1]  [,2] \n",
      "[1,] \"140\" \"143\"\n",
      "[1] \"skip 140_143\"\n",
      "     [,1]  [,2] \n",
      "[1,] \"141\" \"143\"\n",
      "[1] \"skip 141_143\"\n",
      "     [,1]  [,2] \n",
      "[1,] \"142\" \"143\"\n",
      "[1] \"skip 142_143\"\n"
     ]
    },
    {
     "data": {
      "text/html": [
       "<table>\n",
       "<caption>A data.frame: 6 × 8</caption>\n",
       "<thead>\n",
       "\t<tr><th></th><th scope=col>Estimate</th><th scope=col>Std.err</th><th scope=col>Wald</th><th scope=col>Pr...W..</th><th scope=col>model</th><th scope=col>iter</th><th scope=col>vars</th><th scope=col>LRT</th></tr>\n",
       "\t<tr><th></th><th scope=col>&lt;dbl&gt;</th><th scope=col>&lt;dbl&gt;</th><th scope=col>&lt;dbl&gt;</th><th scope=col>&lt;dbl&gt;</th><th scope=col>&lt;chr&gt;</th><th scope=col>&lt;chr&gt;</th><th scope=col>&lt;chr&gt;</th><th scope=col>&lt;dbl&gt;</th></tr>\n",
       "</thead>\n",
       "<tbody>\n",
       "\t<tr><th scope=row>26_43.(Intercept)</th><td> 0.69494924</td><td>0.86693136</td><td>0.6425941</td><td>0.4227730</td><td>m1</td><td>26_43</td><td>Intercept</td><td>0.1158514</td></tr>\n",
       "\t<tr><th scope=row>26_43.X26</th><td>-0.01889897</td><td>0.02903672</td><td>0.4236243</td><td>0.5151341</td><td>m1</td><td>26_43</td><td>26       </td><td>0.1158514</td></tr>\n",
       "\t<tr><th scope=row>26_43.(Intercept)1</th><td> 0.69710437</td><td>0.86682828</td><td>0.6467396</td><td>0.4212808</td><td>m2</td><td>26_43</td><td>Intercept</td><td>0.1158514</td></tr>\n",
       "\t<tr><th scope=row>26_43.X261</th><td> 0.09174131</td><td>0.06288704</td><td>2.1281759</td><td>0.1446128</td><td>m2</td><td>26_43</td><td>26       </td><td>0.1158514</td></tr>\n",
       "\t<tr><th scope=row>26_43.X43</th><td>-0.16576369</td><td>0.10543322</td><td>2.4718600</td><td>0.1159007</td><td>m2</td><td>26_43</td><td>43       </td><td>0.1158514</td></tr>\n",
       "\t<tr><th scope=row>53_81.(Intercept)</th><td> 0.68414491</td><td>0.86525408</td><td>0.6251855</td><td>0.4291268</td><td>m1</td><td>53_81</td><td>Intercept</td><td>0.9929525</td></tr>\n",
       "</tbody>\n",
       "</table>\n"
      ],
      "text/latex": [
       "A data.frame: 6 × 8\n",
       "\\begin{tabular}{r|llllllll}\n",
       "  & Estimate & Std.err & Wald & Pr...W.. & model & iter & vars & LRT\\\\\n",
       "  & <dbl> & <dbl> & <dbl> & <dbl> & <chr> & <chr> & <chr> & <dbl>\\\\\n",
       "\\hline\n",
       "\t26\\_43.(Intercept) &  0.69494924 & 0.86693136 & 0.6425941 & 0.4227730 & m1 & 26\\_43 & Intercept & 0.1158514\\\\\n",
       "\t26\\_43.X26 & -0.01889897 & 0.02903672 & 0.4236243 & 0.5151341 & m1 & 26\\_43 & 26        & 0.1158514\\\\\n",
       "\t26\\_43.(Intercept)1 &  0.69710437 & 0.86682828 & 0.6467396 & 0.4212808 & m2 & 26\\_43 & Intercept & 0.1158514\\\\\n",
       "\t26\\_43.X261 &  0.09174131 & 0.06288704 & 2.1281759 & 0.1446128 & m2 & 26\\_43 & 26        & 0.1158514\\\\\n",
       "\t26\\_43.X43 & -0.16576369 & 0.10543322 & 2.4718600 & 0.1159007 & m2 & 26\\_43 & 43        & 0.1158514\\\\\n",
       "\t53\\_81.(Intercept) &  0.68414491 & 0.86525408 & 0.6251855 & 0.4291268 & m1 & 53\\_81 & Intercept & 0.9929525\\\\\n",
       "\\end{tabular}\n"
      ],
      "text/markdown": [
       "\n",
       "A data.frame: 6 × 8\n",
       "\n",
       "| <!--/--> | Estimate &lt;dbl&gt; | Std.err &lt;dbl&gt; | Wald &lt;dbl&gt; | Pr...W.. &lt;dbl&gt; | model &lt;chr&gt; | iter &lt;chr&gt; | vars &lt;chr&gt; | LRT &lt;dbl&gt; |\n",
       "|---|---|---|---|---|---|---|---|---|\n",
       "| 26_43.(Intercept) |  0.69494924 | 0.86693136 | 0.6425941 | 0.4227730 | m1 | 26_43 | Intercept | 0.1158514 |\n",
       "| 26_43.X26 | -0.01889897 | 0.02903672 | 0.4236243 | 0.5151341 | m1 | 26_43 | 26        | 0.1158514 |\n",
       "| 26_43.(Intercept)1 |  0.69710437 | 0.86682828 | 0.6467396 | 0.4212808 | m2 | 26_43 | Intercept | 0.1158514 |\n",
       "| 26_43.X261 |  0.09174131 | 0.06288704 | 2.1281759 | 0.1446128 | m2 | 26_43 | 26        | 0.1158514 |\n",
       "| 26_43.X43 | -0.16576369 | 0.10543322 | 2.4718600 | 0.1159007 | m2 | 26_43 | 43        | 0.1158514 |\n",
       "| 53_81.(Intercept) |  0.68414491 | 0.86525408 | 0.6251855 | 0.4291268 | m1 | 53_81 | Intercept | 0.9929525 |\n",
       "\n"
      ],
      "text/plain": [
       "                   Estimate    Std.err    Wald      Pr...W..  model iter \n",
       "26_43.(Intercept)   0.69494924 0.86693136 0.6425941 0.4227730 m1    26_43\n",
       "26_43.X26          -0.01889897 0.02903672 0.4236243 0.5151341 m1    26_43\n",
       "26_43.(Intercept)1  0.69710437 0.86682828 0.6467396 0.4212808 m2    26_43\n",
       "26_43.X261          0.09174131 0.06288704 2.1281759 0.1446128 m2    26_43\n",
       "26_43.X43          -0.16576369 0.10543322 2.4718600 0.1159007 m2    26_43\n",
       "53_81.(Intercept)   0.68414491 0.86525408 0.6251855 0.4291268 m1    53_81\n",
       "                   vars      LRT      \n",
       "26_43.(Intercept)  Intercept 0.1158514\n",
       "26_43.X26          26        0.1158514\n",
       "26_43.(Intercept)1 Intercept 0.1158514\n",
       "26_43.X261         26        0.1158514\n",
       "26_43.X43          43        0.1158514\n",
       "53_81.(Intercept)  Intercept 0.9929525"
      ]
     },
     "metadata": {},
     "output_type": "display_data"
    }
   ],
   "source": [
    "#### load heirachy\n",
    "r = read.csv('motifAnyl/motif_heir.12.7.18.Bokan/edges.txt',header=F)\n",
    "heir = graph_from_edgelist( cbind( as.character(r[,1]) , as.character(r[,2]) ))\n",
    "#plot(heir, layout=layout_as_tree(heir))\n",
    "\n",
    "#### data\n",
    "tmp = data[[1]]\n",
    "\n",
    "comp=list()\n",
    "comp_clean=list()\n",
    "for( e in E(heir)){\n",
    "    print(ends(heir,e))\n",
    "    en=as.character(ends(heir,e))\n",
    "    if(any(! paste0('X',en) %in% colnames(tmp) )){print(paste('skip',paste(en,collapse='_')));next}\n",
    "    if( !all( apply(tmp[,paste0('X',en)],2,sd) > 1e-4 ) | all( tmp[[paste0('X',en[1])]] == tmp[[paste0('X',en[2])]] ) ){\n",
    "        print(paste('skip',paste(en,collapse='_')));\n",
    "        next\n",
    "    }\n",
    "    # run models\n",
    "    f1 = as.formula(paste('Secretor ~',paste0('X',en[1])))\n",
    "    f2 = as.formula(paste('Secretor ~',paste(paste0('X',en),collapse='+')  ))\n",
    "    m1 = geeglm( f1, id=PateintID,data=tmp,corstr='exchangeable',family='binomial')\n",
    "    m2 = geeglm( f2 , id=PateintID,data=tmp,corstr='exchangeable',family='binomial')\n",
    "    aov = anova(m1,m2,test='LRT')\n",
    "    out = data.frame( rbind(coef(summary(m1)) , coef(summary(m2))) )\n",
    "    out$model = c(rep('m1',2),rep('m2',3))\n",
    "    out$iter = paste(en,collapse='_')\n",
    "    eni = c('Intercept',en)\n",
    "    out$vars = c(eni[1:2],eni[1:3])\n",
    "    out$LRT = aov[[3]]\n",
    "    if(any(abs(out$Estimate)>15)){next}\n",
    "    comp[[paste(en,collapse='_')]] = list(m1,m2,aov)\n",
    "    comp_clean[[paste(en,collapse='_')]] = out\n",
    "}\n",
    "head(do.call(rbind,comp_clean))\n",
    "\n"
   ]
  },
  {
   "cell_type": "code",
   "execution_count": 61,
   "metadata": {},
   "outputs": [
    {
     "data": {
      "image/png": "[encoded data removed]",
      "text/plain": [
       "plot without title"
      ]
     },
     "metadata": {},
     "output_type": "display_data"
    }
   ],
   "source": [
    "g=grid.arrange(grobs=list(\n",
    "\tggplot(data[[1]],aes(x=log(DPP),y=X80,color=factor(Secretor),shape=PateintID,group=factor(Secretor)))+geom_point()+stat_smooth(method='lm'),\n",
    "\tggplot(data[[1]],aes(x=log(DPP),y=X85,color=factor(Secretor),shape=PateintID,group=factor(Secretor)))+geom_point()+stat_smooth(method='lm'),\n",
    "\tggplot(data[[1]],aes(x=log(DPP),y=X103,color=factor(Secretor),shape=PateintID,group=factor(Secretor)))+geom_point()+stat_smooth(method='lm'),\n",
    "\tggplot(data[[1]],aes(x=log(DPP),y=X108,color=factor(Secretor),shape=PateintID,group=factor(Secretor)))+geom_point()+stat_smooth(method='lm'),\n",
    "\tggplot(data[[1]],aes(x=log(DPP),y=X109,color=factor(Secretor),shape=PateintID,group=factor(Secretor)))+geom_point()+stat_smooth(method='lm'),\n",
    "\tggplot(data[[1]],aes(x=log(DPP),y=X112,color=factor(Secretor),shape=PateintID,group=factor(Secretor)))+geom_point()+stat_smooth(method='lm')\n",
    "\t))"
   ]
  },
  {
   "cell_type": "code",
   "execution_count": null,
   "metadata": {},
   "outputs": [],
   "source": []
  },
  {
   "cell_type": "code",
   "execution_count": 73,
   "metadata": {},
   "outputs": [
    {
     "data": {
      "text/plain": [
       "R version 3.6.0 (2019-04-26)\n",
       "Platform: x86_64-pc-linux-gnu (64-bit)\n",
       "Running under: Ubuntu 18.04.2 LTS\n",
       "\n",
       "Matrix products: default\n",
       "BLAS:   /usr/lib/x86_64-linux-gnu/blas/libblas.so.3.7.1\n",
       "LAPACK: /usr/lib/x86_64-linux-gnu/lapack/liblapack.so.3.7.1\n",
       "\n",
       "locale:\n",
       " [1] LC_CTYPE=en_US.UTF-8       LC_NUMERIC=C              \n",
       " [3] LC_TIME=en_US.UTF-8        LC_COLLATE=en_US.UTF-8    \n",
       " [5] LC_MONETARY=en_US.UTF-8    LC_MESSAGES=en_US.UTF-8   \n",
       " [7] LC_PAPER=en_US.UTF-8       LC_NAME=C                 \n",
       " [9] LC_ADDRESS=C               LC_TELEPHONE=C            \n",
       "[11] LC_MEASUREMENT=en_US.UTF-8 LC_IDENTIFICATION=C       \n",
       "\n",
       "attached base packages:\n",
       "[1] parallel  stats     graphics  grDevices utils     datasets  methods  \n",
       "[8] base     \n",
       "\n",
       "other attached packages:\n",
       " [1] geepack_1.2-1       gee_4.13-19         heatmap.plus_1.3   \n",
       " [4] lme4_1.1-21         openxlsx_4.1.0.1    reshape2_1.4.3     \n",
       " [7] metap_1.1           GGally_1.4.0        ggrepel_0.8.1      \n",
       "[10] colorRamps_2.3      stringr_1.4.0       MASS_7.3-51.4      \n",
       "[13] useful_1.2.6        mclust_5.4.5        factoextra_1.0.5   \n",
       "[16] logisticPCA_0.2     igraph_1.2.4.1      doParallel_1.0.14  \n",
       "[19] iterators_1.0.10    gplots_3.0.1.1      dummies_1.5.6      \n",
       "[22] bigalgebra_0.8.4.1  biganalytics_1.1.14 biglm_0.9-1        \n",
       "[25] DBI_1.0.0           foreach_1.4.4       bigmemory_4.5.33   \n",
       "[28] cluster_2.1.0       Matrix_1.2-17       diptest_0.75-7     \n",
       "[31] mixtools_1.1.0      broom_0.5.2         dplyr_0.8.3        \n",
       "[34] R.matlab_3.6.2      reshape_0.8.8       gridExtra_2.3      \n",
       "[37] ggplot2_3.2.0      \n",
       "\n",
       "loaded via a namespace (and not attached):\n",
       " [1] segmented_0.5-4.0   nlme_3.1-139        bitops_1.0-6       \n",
       " [4] RColorBrewer_1.1-2  repr_1.0.1          tools_3.6.0        \n",
       " [7] backports_1.1.4     R6_2.4.0            KernSmooth_2.23-15 \n",
       "[10] lazyeval_0.2.2      colorspace_1.4-1    withr_2.1.2        \n",
       "[13] tidyselect_0.2.5    compiler_3.6.0      labeling_0.3       \n",
       "[16] caTools_1.17.1.2    scales_1.0.0        pbdZMQ_0.3-3       \n",
       "[19] digest_0.6.19       minqa_1.2.4         R.utils_2.9.0      \n",
       "[22] base64enc_0.1-3     pkgconfig_2.0.2     htmltools_0.3.6    \n",
       "[25] bibtex_0.4.2        rlang_0.4.0         generics_0.0.2     \n",
       "[28] jsonlite_1.6        gtools_3.8.1        zip_2.0.2          \n",
       "[31] R.oo_1.22.0         magrittr_1.5        Rcpp_1.0.1         \n",
       "[34] IRkernel_1.0.1      munsell_0.5.0       R.methodsS3_1.7.1  \n",
       "[37] stringi_1.4.3       gbRd_0.4-11         plyr_1.8.4         \n",
       "[40] grid_3.6.0          gdata_2.18.0        bigmemory.sri_0.1.3\n",
       "[43] crayon_1.3.4        lattice_0.20-38     IRdisplay_0.7.0    \n",
       "[46] splines_3.6.0       zeallot_0.1.0       pillar_1.4.0       \n",
       "[49] uuid_0.1-2          boot_1.3-20         codetools_0.2-16   \n",
       "[52] glue_1.3.1          evaluate_0.13       vctrs_0.2.0        \n",
       "[55] nloptr_1.2.1        Rdpack_0.11-0       gtable_0.3.0       \n",
       "[58] purrr_0.3.2         tidyr_0.8.3         assertthat_0.2.1   \n",
       "[61] survival_2.44-1.1   tibble_2.1.1       "
      ]
     },
     "metadata": {},
     "output_type": "display_data"
    }
   ],
   "source": [
    "sessionInfo()"
   ]
  },
  {
   "cell_type": "code",
   "execution_count": null,
   "metadata": {},
   "outputs": [],
   "source": []
  }
 ],
 "metadata": {
  "kernelspec": {
   "display_name": "R 3.6",
   "language": "R",
   "name": "ir36"
  },
  "language_info": {
   "codemirror_mode": "r",
   "file_extension": ".r",
   "mimetype": "text/x-r-source",
   "name": "R",
   "pygments_lexer": "r",
   "version": "3.6.1"
  }
 },
 "nbformat": 4,
 "nbformat_minor": 2
}
