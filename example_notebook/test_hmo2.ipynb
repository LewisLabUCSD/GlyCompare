{
 "cells": [
  {
   "cell_type": "code",
   "execution_count": 3,
   "metadata": {},
   "outputs": [],
   "source": [
    "from glycompare import *\n",
    "import os"
   ]
  },
  {
   "cell_type": "code",
   "execution_count": 12,
   "metadata": {},
   "outputs": [
    {
     "data": {
      "text/plain": [
       "{'project_name': 'paper_hmo2',\n",
       " 'working_addr': '/Users/apple/PycharmProjects/GlyCompare/example_data/paper_hmo2/',\n",
       " 'glycoct_dir': '/Users/apple/PycharmProjects/GlyCompare/example_data/paper_hmo2/source_data/glycoct/',\n",
       " 'source_dir': '/Users/apple/PycharmProjects/GlyCompare/example_data/paper_hmo2/source_data/',\n",
       " 'intermediate_dir': '/Users/apple/PycharmProjects/GlyCompare/example_data/paper_hmo2/intermediate_file/',\n",
       " 'plot_output_dir': '/Users/apple/PycharmProjects/GlyCompare/example_data/paper_hmo2/output_plot/',\n",
       " 'glycan_dict_addr': '/Users/apple/PycharmProjects/GlyCompare/example_data/paper_hmo2/intermediate_file/paper_hmo2_glycan_dict.json',\n",
       " 'glycan_motif_dict_addr': '/Users/apple/PycharmProjects/GlyCompare/example_data/paper_hmo2/intermediate_file/paper_hmo2_glycan_motif_dict.json',\n",
       " 'motif_dict_addr': '/Users/apple/PycharmProjects/GlyCompare/example_data/paper_hmo2/intermediate_file/paper_hmo2_motif_dict.json',\n",
       " 'substructure_abd_table_addr': '/Users/apple/PycharmProjects/GlyCompare/example_data/paper_hmo2/intermediate_file/paper_hmo2_substructure_abd_table.csv',\n",
       " 'motif_abd_table_addr': '/Users/apple/PycharmProjects/GlyCompare/example_data/paper_hmo2/intermediate_file/paper_hmo2_motif_abd_table.csv',\n",
       " 'matched_dict_addr': '/Users/apple/PycharmProjects/GlyCompare/example_data/paper_hmo2/intermediate_file/paper_hmo2_matched_dict.json',\n",
       " 'external_profile_naming_addr': '/Users/apple/PycharmProjects/GlyCompare/example_data/paper_hmo2/source_data/external_profile_naming.json',\n",
       " 'name_to_id_addr': '/Users/apple/PycharmProjects/GlyCompare/example_data/paper_hmo2/source_data/glycan_identifier_to_structure_id.json',\n",
       " 'glycoprofile_list_addr': '/Users/apple/PycharmProjects/GlyCompare/example_data/paper_hmo2/intermediate_file/paper_hmo2_glycoprofile_list.json',\n",
       " 'glytoucan_db_addr': '/Users/apple/PycharmProjects/GlyCompare/glycompare/database/glytoucan_database.json'}"
      ]
     },
     "execution_count": 12,
     "metadata": {},
     "output_type": "execute_result"
    }
   ],
   "source": [
    "# parameter setting \n",
    "# environment parameter setting \n",
    "glycompare_addr = '/Users/apple/PycharmProjects/GlyCompare/'\n",
    "glytoucan_db_addr = os.path.join(glycompare_addr, 'glycompare','database', 'glytoucan_database.json')\n",
    "linkage_specific = True\n",
    "num_processors = 8\n",
    "# project parameter\n",
    "working_addr = '/Users/apple/PycharmProjects/GlyCompare/example_data/paper_hmo2/'\n",
    "project_name = \"paper_hmo2\"\n",
    "costumized_glycan_identifier = True\n",
    "external_profile_naming= True\n",
    "\n",
    "# initiator\n",
    "keywords_dict = pipeline_functions.load_para_keywords(project_name, working_addr, glytoucan_db_addr=glytoucan_db_addr)\n",
    "keywords_dict"
   ]
  },
  {
   "cell_type": "code",
   "execution_count": 13,
   "metadata": {},
   "outputs": [
    {
     "name": "stdout",
     "output_type": "stream",
     "text": [
      "Check if the required files exist\n",
      "files checked\n",
      "Check if the required files exist\n",
      "files checked\n",
      "Successfully created the directory need, please add the source file is the directory\n",
      "end loading glycoct from  /Users/apple/PycharmProjects/GlyCompare/example_data/paper_hmo2/source_data/glycoct/\n",
      "/Users/apple/PycharmProjects/GlyCompare/example_data/paper_hmo2/intermediate_file/paper_hmo2_glycan_dict.json\n"
     ]
    }
   ],
   "source": [
    "\n",
    "data_type = 'local_glycoct'\n",
    "# reload(pipeline_functions)\n",
    "from glycompare import glycan_io\n",
    "# reload(glycan_io)\n",
    "glycan_dict = pipeline_functions.load_glycans_pip(keywords_dict=keywords_dict,\n",
    "                                           data_type=data_type)"
   ]
  },
  {
   "cell_type": "code",
   "execution_count": 15,
   "metadata": {},
   "outputs": [
    {
     "name": "stdout",
     "output_type": "stream",
     "text": [
      "start glycan_dict\n",
      "start parallel parsing 16 glycans\n",
      "start LSTc\n",
      "start LSTb\n",
      "start LNFP III\n",
      "start LNT\n",
      "start FDSLNH\n",
      "start 2'FL\n",
      "start LNFP I\n",
      "start LNFP II\n",
      "2'FL 3 0.022928237915039062\n",
      "LNT 4 0.028776884078979492\n",
      "LSTc 5 0.04735207557678223\n",
      "LNFP III 5 0.057704925537109375\n",
      "start LNnT\n",
      "start 3FL\n",
      "LSTb 5 0.061097145080566406\n",
      "start DFLNT\n",
      "LNFP I 5 0.06199502944946289\n",
      "start DSLNH\n",
      "LNFP II 5 0.06087207794189453\n",
      "3FL 3 0.01179194450378418\n",
      "start DFLNH\n",
      "LNnT 4 0.0228271484375\n",
      "start FLNH\n",
      "start 3'SL\n",
      "start DSLNT\n",
      "3'SL 3 0.009201288223266602\n",
      "DFLNT 6 0.055320024490356445\n",
      "DSLNT 6 0.06316614151000977\n",
      "FLNH 7 0.09751605987548828\n",
      "DFLNH 8 0.17241215705871582\n",
      "DSLNH 8 0.19208526611328125\n",
      "FDSLNH 9 0.33469700813293457\n",
      "finished pool\n",
      "glycan_dict 16\n",
      "finished parse motif_dic\n",
      "start merge motif_dict\n",
      "Start merge_glycan_motif_to_motif_dict\n",
      "combine original\n",
      "motif_dict is merged with len  410\n",
      "finished removing duplicate\n",
      "after the cleaning the motif vec's length is 144\n",
      "finished merge motif_dic\n",
      "1 5\n",
      "2 12\n",
      "3 19\n",
      "4 25\n",
      "5 31\n",
      "6 28\n",
      "7 17\n",
      "8 6\n",
      "9 1\n",
      "144\n",
      "get motif vec, the length is  144\n",
      "start processing 2'FL\n",
      "start processing LNT\n",
      "start processing LSTc\n",
      "start processing LNFP III\n",
      "start processing LSTb\n",
      "start processing LNFP I\n",
      "start processing LNFP II\n",
      "start processing 3FL\n",
      "start processing LNnT\n",
      "start processing 3'SL\n",
      "start processing DFLNT\n",
      "start processing DSLNT\n",
      "start processing FLNH\n",
      "start processing DFLNH\n",
      "start processing DSLNH\n",
      "start processing FDSLNH\n",
      "closing poll\n",
      "joining pool\n",
      "finished  0\n",
      "finished  1\n",
      "finished  2\n",
      "finished  3\n",
      "finished  4\n",
      "finished  5\n",
      "finished  6\n",
      "finished  7\n",
      "finished  8\n",
      "finished  9\n",
      "finished  10\n",
      "finished  11\n",
      "finished  12\n",
      "finished  14\n",
      "finished  15\n",
      "finished  13\n",
      "converting dict\n",
      "finished glycan deconvolution\n"
     ]
    }
   ],
   "source": [
    "# reload(pipeline_functions)\n",
    "matched_dict = pipeline_functions.extract_and_merge_substrutures_pip(keywords_dict, num_processors=num_processors,linkage_specific=linkage_specific, forced=True)"
   ]
  },
  {
   "cell_type": "code",
   "execution_count": null,
   "metadata": {},
   "outputs": [],
   "source": []
  }
 ],
 "metadata": {
  "kernelspec": {
   "display_name": "Python 3",
   "language": "python",
   "name": "python3"
  },
  "language_info": {
   "codemirror_mode": {
    "name": "ipython",
    "version": 3
   },
   "file_extension": ".py",
   "mimetype": "text/x-python",
   "name": "python",
   "nbconvert_exporter": "python",
   "pygments_lexer": "ipython3",
   "version": "3.7.3"
  }
 },
 "nbformat": 4,
 "nbformat_minor": 2
}
