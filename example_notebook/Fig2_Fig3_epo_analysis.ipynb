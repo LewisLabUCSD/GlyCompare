{
 "cells": [
  {
   "cell_type": "code",
   "execution_count": 1,
   "metadata": {},
   "outputs": [],
   "source": [
    "import sys\n",
    "# please insert the glycompare to the PATH\n",
    "# sys.path.insert(0, '/Users/apple/PycharmProjects/GlyCompare/')"
   ]
  },
  {
   "cell_type": "code",
   "execution_count": 2,
   "metadata": {},
   "outputs": [
    {
     "name": "stdout",
     "output_type": "stream",
     "text": [
      "\n",
      "Thanks for using the GlyCompare v1.0, \n",
      "Please check our github for the latest update.\n",
      "\n",
      "\n",
      "Bokan & Ben,\n",
      "08/1/2019\n",
      "\n",
      "\n"
     ]
    }
   ],
   "source": [
    "import os\n",
    "from importlib import reload\n",
    "\n",
    "import pandas as pd\n",
    "import seaborn as sns\n",
    "from scipy.stats import zscore\n",
    "\n",
    "from glycompare import *\n",
    "import matplotlib.pyplot as plt\n",
    "from copy import deepcopy\n",
    "# reload(pipeline_functions)\n",
    "%matplotlib inline"
   ]
  },
  {
   "cell_type": "markdown",
   "metadata": {},
   "source": [
    "# Initialization"
   ]
  },
  {
   "cell_type": "markdown",
   "metadata": {},
   "source": [
    "\n",
    "    04/02/2019 need to approve parse the meta table, glycan id (unresolved)\n",
    "    04/14/2019 modified for the paper \n"
   ]
  },
  {
   "cell_type": "code",
   "execution_count": 3,
   "metadata": {
    "scrolled": true
   },
   "outputs": [
    {
     "data": {
      "text/plain": [
       "{'project_name': 'paper_epo',\n",
       " 'working_addr': '/Users/apple/PycharmProjects/GlyCompare/example_data/paper_epo/',\n",
       " 'glycoct_dir': '/Users/apple/PycharmProjects/GlyCompare/example_data/paper_epo/source_data/glycoct/',\n",
       " 'source_dir': '/Users/apple/PycharmProjects/GlyCompare/example_data/paper_epo/source_data/',\n",
       " 'output_data_dir': '/Users/apple/PycharmProjects/GlyCompare/example_data/paper_epo/output_data/',\n",
       " 'plot_output_dir': '/Users/apple/PycharmProjects/GlyCompare/example_data/paper_epo/output_plot/',\n",
       " 'glycan_glycoct_dict_addr': '/Users/apple/PycharmProjects/GlyCompare/example_data/paper_epo/output_data/paper_epo_glycan_glycoct_dict.json',\n",
       " 'glycan_substructure_glycoct_dict_addr': '/Users/apple/PycharmProjects/GlyCompare/example_data/paper_epo/output_data/paper_epo_glycan_substructure_glycoct_dict.json',\n",
       " 'substructure_glycoct_dict_addr': '/Users/apple/PycharmProjects/GlyCompare/example_data/paper_epo/output_data/paper_epo_substructure_glycoct_dict.json',\n",
       " 'substructure_glycoct_vec_addr': '/Users/apple/PycharmProjects/GlyCompare/example_data/paper_epo/output_data/paper_epo_substructure_glycoct_vec.json',\n",
       " 'substructure_abd_table_addr': '/Users/apple/PycharmProjects/GlyCompare/example_data/paper_epo/output_data/paper_epo_substructure_abd_table.csv',\n",
       " 'motif_abd_table_addr': '/Users/apple/PycharmProjects/GlyCompare/example_data/paper_epo/output_data/paper_epo_motif_abd_table.csv',\n",
       " 'motif_glycoct_dict_addr': '/Users/apple/PycharmProjects/GlyCompare/example_data/paper_epo/output_data/paper_epo_motif_glycoct_dict.json',\n",
       " 'glycan_substructure_occurance_dict_addr': '/Users/apple/PycharmProjects/GlyCompare/example_data/paper_epo/output_data/paper_epo_glycan_substructure_occurance_dict.json',\n",
       " 'external_profile_naming_addr': '/Users/apple/PycharmProjects/GlyCompare/example_data/paper_epo/source_data/external_profile_naming.json',\n",
       " 'name_to_id_addr': '/Users/apple/PycharmProjects/GlyCompare/example_data/paper_epo/source_data/glycan_identifier_to_structure_id.json',\n",
       " 'glycoprofile_list_addr': '/Users/apple/PycharmProjects/GlyCompare/example_data/paper_epo/output_data/paper_epo_glycoprofile_list.json',\n",
       " 'glytoucan_db_addr': '/Users/apple/PycharmProjects/GlyCompare/glycompare/database/glytoucan_database.json'}"
      ]
     },
     "execution_count": 3,
     "metadata": {},
     "output_type": "execute_result"
    }
   ],
   "source": [
    "# parameter setting \n",
    "# environment parameter setting \n",
    "glycompare_addr = '/Users/apple/PycharmProjects/GlyCompare/'\n",
    "glytoucan_db_addr = os.path.join(glycompare_addr, 'glycompare','database', 'glytoucan_database.json')\n",
    "# __init__.num_processors = 4\n",
    "# __init__.exact_Ture = False\n",
    "linkage_specific = False\n",
    "num_processors = 8\n",
    "# project parameter\n",
    "working_addr = '/Users/apple/PycharmProjects/GlyCompare/example_data/paper_epo/'\n",
    "project_name = \"paper_epo\"\n",
    "costumized_glycan_identifier = True\n",
    "external_profile_naming= True\n",
    "reload(pipeline_functions)\n",
    "\n",
    "# initiator\n",
    "keywords_dict = pipeline_functions.load_para_keywords(project_name, working_addr, glytoucan_db_addr=glytoucan_db_addr)\n",
    "keywords_dict"
   ]
  },
  {
   "cell_type": "code",
   "execution_count": null,
   "metadata": {
    "scrolled": true
   },
   "outputs": [
    {
     "name": "stdout",
     "output_type": "stream",
     "text": [
      "Check if the required files exist\n",
      "files checked\n",
      "Check if the required files exist\n",
      "files checked\n",
      "Successfully created the directory need, please add the source file is the directory\n"
     ]
    }
   ],
   "source": [
    "pipeline_functions.check_init_dir(keywords_dict)"
   ]
  },
  {
   "cell_type": "code",
   "execution_count": null,
   "metadata": {
    "scrolled": true
   },
   "outputs": [
    {
     "name": "stdout",
     "output_type": "stream",
     "text": [
      "Check if the required files exist\n",
      "files checked\n",
      "Check if the required files exist\n",
      "files checked\n",
      "Successfully created the directory need, please add the source file is the directory\n",
      "Loaded the glycan structure from glycan_glycoct_dict\n"
     ]
    }
   ],
   "source": [
    "# reload(pipeline_functions)\n",
    "meta_name = pd.read_csv(os.path.join(working_addr,'source_data','glycan_id_list.txt'), sep='\\t')\n",
    "structure_loader = meta_name['glycan_id'].tolist()\n",
    "data_type = 'used'\n",
    "glycan_dict = pipeline_functions.load_glycans_pip(keywords_dict=keywords_dict,\n",
    "                                           data_type=data_type, \n",
    "                                           structure_loader=structure_loader)\n"
   ]
  },
  {
   "cell_type": "code",
   "execution_count": null,
   "metadata": {},
   "outputs": [
    {
     "name": "stdout",
     "output_type": "stream",
     "text": [
      "start glycan_dict\n",
      "start parallel parsing 77 glycans\n",
      "start G60415BS\n",
      "start 1417.1\n",
      "start G49721VX\n",
      "start G39213VZ\n",
      "start G07483YN\n",
      "start 1754.1\n",
      "start G12398HZ\n",
      "start G80858MF\n",
      "1417.1 6 0.0839688777923584\n",
      "G60415BS 6 0.08175301551818848\n",
      "start G24987DS\n",
      "start G58667NI\n",
      "G49721VX 7 0.13548016548156738\n",
      "start G36191CD\n",
      "G39213VZ 7 0.16220688819885254\n",
      "G07483YN 7 0.16206598281860352\n",
      "start G39439UR\n",
      "start G80393PG\n",
      "1754.1 8 0.2721898555755615\n",
      "G12398HZ 8 0.28734302520751953\n",
      "start G04483SK\n",
      "start G52428MJ\n",
      "G80858MF 8 0.3114199638366699\n",
      "start 2244.1\n",
      "G24987DS 8 0.286989688873291\n",
      "start G03445UI\n",
      "G58667NI 9 0.8626010417938232\n",
      "G39439UR 9 0.8071389198303223\n",
      "start G00176HZ\n",
      "start G23295TF\n",
      "G36191CD 9 0.8516931533813477\n",
      "start 2401.1\n",
      "G80393PG 9 0.8679852485656738\n",
      "start G10691MJ\n",
      "G04483SK 10 0.8926022052764893\n",
      "start G79457WN\n",
      "2244.1 10 0.9662702083587646\n",
      "start G30460NZ\n",
      "G52428MJ 10 1.0591928958892822\n",
      "start 2605.1\n",
      "G03445UI 10 0.9789061546325684\n",
      "start 2605.2\n",
      "G23295TF 10 0.8480570316314697\n",
      "start 2646.1\n",
      "G00176HZ 10 0.9339556694030762\n",
      "2401.1 10 0.9662141799926758\n",
      "start G07568IR\n",
      "start 2693.1\n",
      "G30460NZ 11 1.4449820518493652\n",
      "G10691MJ 11 1.617337703704834\n",
      "start 2693.2\n",
      "start 2693.3\n",
      "G79457WN 11 1.6622350215911865\n",
      "start G00536FZ\n",
      "2605.1 11 1.6080119609832764\n",
      "start G39764AC\n",
      "2605.2 11 1.4947032928466797\n",
      "start G79412GP\n",
      "2646.1 11 1.8376622200012207\n",
      "start G37597FW\n",
      "2693.1 12 2.7152090072631836\n",
      "G39764AC 11 1.5969221591949463\n",
      "start G17689DH\n",
      "start 2967.1\n",
      "2693.3 12 2.3224048614501953\n",
      "start G88127MB\n",
      "G07568IR 12 3.09313702583313\n",
      "start 3055.1\n",
      "2693.2 12 2.4225881099700928\n",
      "start 3055.2\n",
      "G00536FZ 12 2.7491719722747803\n",
      "start G40242TG\n",
      "G79412GP 12 2.962106943130493\n",
      "start G20924UR\n",
      "G17689DH 12 2.71675705909729\n",
      "start G54953LX\n",
      "2967.1 12 2.886749029159546\n",
      "start 3143.1\n",
      "G37597FW 13 4.4729321002960205\n",
      "start 3212.1\n",
      "3055.2 13 4.4042017459869385\n",
      "start G39813YP\n",
      "G88127MB 13 4.71376895904541\n",
      "start G88966ZO\n",
      "3055.1 13 4.87742280960083\n",
      "start G54338PJ\n",
      "G40242TG 13 5.247892379760742\n",
      "start 3416.1\n",
      "3212.1 13 5.118494033813477\n",
      "start 3416.2\n",
      "G20924UR 14 7.90053391456604\n",
      "3143.1 14 6.532238960266113\n",
      "start 3416.3\n",
      "start 3457.1\n",
      "G54953LX 14 7.450717926025391\n",
      "start G10292TC\n",
      "G39813YP 13 5.818196058273315\n",
      "start G75308SV\n",
      "G54338PJ 14 8.51272702217102\n",
      "start 3592.1\n",
      "3416.1 14 8.133328914642334\n",
      "start G05098FE\n",
      "3416.2 14 10.661389112472534\n",
      "start 3661.1\n",
      "3416.3 14 11.001796960830688\n",
      "G88966ZO 15 15.368813037872314\n",
      "start G76812VG\n",
      "start 3865.1\n",
      "3457.1 14 12.233574867248535\n",
      "start 3953.1\n",
      "G05098FE 14 11.467754125595093\n",
      "start G80264ZA\n",
      "G10292TC 15 16.818885803222656\n",
      "start G90130AG\n",
      "3592.1 16 20.49820113182068\n",
      "start 4041.1\n",
      "G75308SV 16 24.062590837478638\n",
      "start G99891PR\n",
      "3661.1 15 15.749529123306274\n",
      "start G56516KW\n",
      "G76812VG 15 16.318302869796753\n",
      "start G86696LV\n",
      "3865.1 16 22.735028982162476\n",
      "start G16873YG\n",
      "G80264ZA 16 23.422916173934937\n",
      "start 4402.1\n",
      "3953.1 17 29.99460196495056\n",
      "start G05203UQ\n",
      "G99891PR 16 21.68379521369934\n",
      "start 4490.1\n"
     ]
    }
   ],
   "source": [
    "reload(pipeline_functions)\n",
    "reload(merge_substructure_vec)\n",
    "glycan_substructure_occurance_dict = pipeline_functions.extract_and_merge_substrutures_pip(keywords_dict, \n",
    "                                                                     num_processors=num_processors,\n",
    "                                                                     linkage_specific=linkage_specific, \n",
    "                                                                     forced=True)"
   ]
  },
  {
   "cell_type": "code",
   "execution_count": null,
   "metadata": {
    "scrolled": true
   },
   "outputs": [],
   "source": [
    "reload(pipeline_functions)\n",
    "# print(keywords_dict['name_to_id_addr'])\n",
    "abd_table = glycan_io.load_table(os.path.join(keywords_dict['source_dir'], 'abundance_table.xls'))\n",
    "\n",
    "_, glycoprofile_list = pipeline_functions.glycoprofile_pip(keywords_dict, \n",
    "                                                           abd_table, \n",
    "                                                           unique_glycan_identifier_to_structure_id=False, \n",
    "                                                           already_glytoucan_id=False,\n",
    "                                                           external_profile_naming=True, \n",
    "                                                           forced=True)"
   ]
  },
  {
   "cell_type": "markdown",
   "metadata": {},
   "source": [
    "## We only chose 16 glycoprofiles out of 34 glycoprofiles\n",
    "    1. There are 34 glycoprofiles in original paper. Yang, Z. et al. Engineered CHO cells for production of diverse, homogeneous glycoproteins. Nat. Biotechnol. 33, 842–844 (2015). \n",
    "    2. We only chose 16 gycoprofiles that overlap with glycoprofiles in Čaval, T., Tian, W., Yang, Z., Clausen, H. & Heck, A. J. R. Direct quality control of glycoengineered erythropoietin variants. Nat. Commun. 9, 3342 (2018). Both data are from the same lab. \n",
    "    3. We are compareing the similarity of clustering results and showed the clustering difference in supplementary figure S2.\n"
   ]
  },
  {
   "cell_type": "code",
   "execution_count": null,
   "metadata": {},
   "outputs": [],
   "source": [
    "_name_dict = json_utility.load_json(keywords_dict['source_dir']+'external_profile_naming.json')\n",
    "selected_name_list = [\"EPO127.mgat1.\",\n",
    "\"EPO174.mgat2.\",\n",
    "\"EPO266.fut8.\",\n",
    "\"st3gal4.st3gal6.mgat4a.mgat4b.mgat5\",\n",
    "\"KI_ST6GalNAc1.st3gal4.st3gal6.mgat4a.mgat4b.mgat5\",\n",
    "\"mgat4A.mgat4B.mgat5\",\n",
    "\"B3gnt2.mgat4a.mgat4b.mgat5\",\n",
    "\"st3gal4.st3gal6\",\n",
    "\"B4GalT1\",\n",
    "\"B4GalT2\",\n",
    "\"B4GalT3\",\n",
    "\"WT\",\n",
    "\"B4GalT4\",\n",
    "\"EPO78.mgat4B.\",\n",
    "\"mgat4A.mgat4B\",\n",
    "\"mgat5\"]\n",
    "\n",
    "select_col=[]\n",
    "_ = {}\n",
    "for i,j in _name_dict.items():\n",
    "    _[j] = i\n",
    "    \n",
    "for i in selected_name_list:\n",
    "    select_col.append(_[i])\n",
    "print(select_col)"
   ]
  },
  {
   "cell_type": "code",
   "execution_count": null,
   "metadata": {},
   "outputs": [],
   "source": [
    "feature_name = []\n",
    "profile_name = []\n",
    "\n",
    "selected_profile = [30, 25, 34, 21, 22, 5, 20, 18, 6, 7, 8, 1, 9, 28, 3, 4]\n",
    "for i in selected_profile:\n",
    "    profile_name.append(_name_dict[str(i)])\n",
    "    for j in glycoprofile_list[i-1].glycan_id_list:\n",
    "        feature_name.append(j)\n",
    "\n",
    "feature_name = list(set(feature_name))\n",
    "print(feature_name)\n",
    "print(selected_profile)\n",
    "print(profile_name)"
   ]
  },
  {
   "cell_type": "markdown",
   "metadata": {},
   "source": [
    "# Raw glycan clustering plot for Fig 2a and Fig S1, 52/77 of glycans in 16 glycoprofiles has non-zero abundance \n",
    "### Note: the order of rows and columns might be different from the plots in paper while the hierachy remain stable, because the orders are automatically arranged by algorithm."
   ]
  },
  {
   "cell_type": "code",
   "execution_count": null,
   "metadata": {
    "scrolled": true
   },
   "outputs": [],
   "source": [
    "import pandas as pd\n",
    "import numpy as np\n",
    "abundance_table = np.zeros((len(feature_name), len(selected_profile)))\n",
    "\n",
    "for i in range(len(selected_profile)):\n",
    "    _profile_idex = selected_profile[i]-1\n",
    "    _profile_dict = dict(zip(glycoprofile_list[_profile_idex].glycan_id_list, glycoprofile_list[_profile_idex].relative_abundance))\n",
    "    \n",
    "    for j in range(len(feature_name)):\n",
    "        if feature_name[j] in _profile_dict:\n",
    "            abundance_table[j,i] = _profile_dict[feature_name[j]]\n",
    "index_list = []\n",
    "for i in range(len(abundance_table)):\n",
    "    if sum(abundance_table[i,:])!=0:\n",
    "        index_list.append(i)\n",
    "# len(index_list)\n",
    "abundance_table = abundance_table[index_list,:]\n",
    "\n",
    "#     abundance_table[i] = abundance_table[i]/sum(abundance_table[i])\n",
    "feature_name=[feature_name[i] for i in index_list]\n",
    "pd_table = pd.DataFrame(abundance_table, columns=profile_name, index=feature_name)\n",
    "pd_table.head()\n"
   ]
  },
  {
   "cell_type": "code",
   "execution_count": null,
   "metadata": {},
   "outputs": [],
   "source": [
    "for i in pd_table.columns:\n",
    "#     print(i,pd_table[i], sum(pd_table[i]))\n",
    "    pd_table[i] = pd_table[i]/sum(pd_table[i])\n",
    "#     print(pd_table[i])\n",
    "pd_table.head()"
   ]
  },
  {
   "cell_type": "code",
   "execution_count": null,
   "metadata": {},
   "outputs": [],
   "source": [
    "name_prefix = 'full_glycan'\n",
    "# pd_table.to_csv('/Users/apple/PycharmProjects/Glycompare/paper_supplementory/data_generator/paper_epo/intermediate_file/glycan_abd_table.xls')\n",
    "\n",
    "cmap = sns.color_palette(\"RdBu_r\", 40)\n",
    "# g = sns.clustermap(pd_table.round(3), metric=\"correlation\", cmap=cmap, linewidths=.01, annot=False, figsize=(7,7),method='complete')\n",
    "# plt.savefig(keywords_dict['plot_output_dir']+'raw_glycan_cluster.eps')\n",
    "g = sns.clustermap(pd_table.round(3), metric=\"correlation\", cmap=cmap, linewidths=.01\n",
    "                   , figsize=(8,14), linecolor='black', method='complete')\n",
    "plt.savefig(keywords_dict['plot_output_dir']+'raw_glycan_cluster_no_anno.eps')\n",
    "# clustering_analysis_pip.draw_profile_cluster(g, pd_table, profile_name, color_threshold=0.95)"
   ]
  },
  {
   "cell_type": "markdown",
   "metadata": {},
   "source": [
    "# load substructure_abd table"
   ]
  },
  {
   "cell_type": "code",
   "execution_count": null,
   "metadata": {
    "scrolled": true
   },
   "outputs": [],
   "source": [
    "reload(pipeline_functions)\n",
    "core=select_motifs.nglycan_core\n",
    "motif_abd_table, substructure_lab, merged_weights_dict=pipeline_functions.select_motifs_pip(keywords_dict, \n",
    "                                                     linkage_specific=linkage_specific,   \n",
    "                                                                                     core=core,\n",
    "                                                     only_substructures_start_from_root=True,\n",
    "                                                     select_col= select_col)\n",
    "motif_abd_table.shape"
   ]
  },
  {
   "cell_type": "markdown",
   "metadata": {},
   "source": [
    "# Raw clustering plot for Figure 2b\n",
    "### Note: we tested this plot on different version of python. We found that the orders of rows and columns might be different from the plot in paper while the clustering hierachy structrue remain same. The reason is that the orders are automatically arranged by algorithm.\n",
    "### Note: the raw clustering plot for Figure S3 and S4 are also included."
   ]
  },
  {
   "cell_type": "code",
   "execution_count": null,
   "metadata": {
    "scrolled": false
   },
   "outputs": [],
   "source": [
    "glycoprofile_cluster_dict, glyco_motif_cluster_dict = pipeline_functions.clustering_analysis_pip(keywords_dict=keywords_dict, \n",
    "                                           motif_abd_table=motif_abd_table, \n",
    "                                           select_profile_name = selected_name_list)"
   ]
  },
  {
   "cell_type": "code",
   "execution_count": null,
   "metadata": {
    "scrolled": true
   },
   "outputs": [],
   "source": [
    "rep_list = pipeline_functions.draw_substructure_representative_pip(glyco_motif_cluster=glyco_motif_cluster_dict,\n",
    "                                                        substructure_vec=substructure_lab.substructure_vec,\n",
    "                                                        motif_weights_dict=merged_weights_dict,\n",
    "                                                        plot_all_substructure=True,\n",
    "                                                        address_dir=keywords_dict['plot_output_dir'],\n",
    "                                                        threshold=0.51,\n",
    "                                                        plot_rep=True)"
   ]
  },
  {
   "cell_type": "code",
   "execution_count": null,
   "metadata": {},
   "outputs": [],
   "source": [
    "glyco_motif_cluster_dict[22]"
   ]
  },
  {
   "cell_type": "code",
   "execution_count": null,
   "metadata": {
    "scrolled": false
   },
   "outputs": [],
   "source": [
    "# import seaborn as sns\n",
    "# import clustering_analysis\n",
    "# import scipy\n",
    "# from copy import deepcopy\n",
    "# reload(clustering_analysis)\n",
    "# # sns.set(\"RdBu_r\", 7)\n",
    "# # dropper.drop_node()\n",
    "# # print(\"\", len(dropper.drop_node()))\n",
    "# # # motif_abd_table =  substructure_abd_table[_table_col]\n",
    "\n",
    "\n",
    "# if 51 in mod_nodes:\n",
    "#     mod_nodes.remove(51)\n",
    "# # print(motif_abd_table.head())\n",
    "# df_ncore = deepcopy(motif_abd_table)\n",
    "# # print(sorted(mod_nodes))\n",
    "# print(df_ncore.shape)\n",
    "# # draw plot\n",
    "# # motif_with_n_glycan_core_all_motif(motif_, _table, weight_dict)\n",
    "# \"\"\" with n_glycan_core using jaccard for binary and use braycurtis for float\n",
    "# \"\"\"\n",
    "# df_ncore.columns=selected_name_list\n",
    "# from sklearn import preprocessing\n",
    "# import numpy as np\n",
    "# import matplotlib.pyplot as plt\n",
    "\n",
    "# # df_ncore=pd.DataFrame(data=preprocessing.scale(df_ncore.transpose()).transpose(), index=df_ncore.index, columns=df_ncore.columns)\n",
    "# df_ncore.to_csv(os.path.join(keywords_dict['intermediate_dir'], str(len(selected_name_list))+r\"selected_abundance_matrix.txt\"))\n",
    "# motif_abd_table.colmuns=selected_name_list\n",
    "# # motif_abd_table.to_csv(__init__.json_address + r\"full_abundance_matrix.txt\")\n",
    "# name_prefix = 'dropped'\n",
    "# # sns.palplot(sns.color_palette(\"RdBu_r\", 7))\n",
    "# cmap = sns.color_palette(\"Reds\", 25)\n",
    "# g = sns.clustermap(df_ncore, metric=\"correlation\", cmap=cmap, linewidths=.02, figsize=(20,20),linecolor='black', method='complete')\n",
    "# plt.savefig(keywords_dict['plot_output_dir']+'pseudo_profile_clustering.svg')\n",
    "# # clustering_analysis.draw_profile_cluster(g, df_ncore, selected_name_list, name_prefix, color_threshold=0.5, address=keywords_dict['plot_output_dir']+'profile_clustering.svg')\n",
    "# # cccluster_dict = clustering_analysis.draw_motif_cluster(g, df_ncore, name_prefix, color_threshold=0.185, fig_size=(6, 20))\n",
    "\n",
    " "
   ]
  },
  {
   "cell_type": "markdown",
   "metadata": {},
   "source": [
    "# Role substructure representative abundance table for Fig 2c and Fig 2d \n",
    "## Note: Since clusters in cluster map are automatically ordered by searborn, I reorder the clusters with n-glycan features without significantly changing the cluster hierarchy.\n",
    "\n",
    "## branch: 1-> 4\n",
    "## galactose: 1-> 4\n",
    "## sialyation: 1-> 4\n",
    "## fucose: 0 -> 1\n",
    "\n",
    "We tested that these 24 clusteres in different computers might have different indexs. But only indexs have inconsistency. \n",
    "\n",
    "rearanged_list = [21,22,20,23,18,16,17,19,13,1,14,12,2,3,15,7,8,10,11,5,4,9,24,6]\n"
   ]
  },
  {
   "cell_type": "code",
   "execution_count": null,
   "metadata": {
    "scrolled": false
   },
   "outputs": [],
   "source": [
    "profile_dict={1:[\"EPO127.mgat1.\"],\n",
    "2:[\"EPO174.mgat2.\"],\n",
    "3:[\"EPO266.fut8.\"],\n",
    "4:[\"KI_ST6GalNAc1.st3gal4.st3gal6.mgat4a.mgat4b.mgat5\",\n",
    "   \"st3gal4.st3gal6.mgat4a.mgat4b.mgat5\",\n",
    "   \"B3gnt2.mgat4a.mgat4b.mgat5\",\n",
    "   \"mgat4A.mgat4B.mgat5\",\n",
    "   ],\n",
    "5:[\"mgat5\",\n",
    "   \"mgat4A.mgat4B\",\n",
    "   \"EPO78.mgat4B.\"],\n",
    "6:[\"st3gal4.st3gal6\"], \n",
    "7:[\"B4GalT1\",\n",
    "   \"B4GalT2\",\n",
    "   \"B4GalT3\",\n",
    "   \"B4GalT4\",\n",
    "   \"WT\",]}\n",
    "\n",
    "\n",
    "# rearanged_list = [21,22,20,23,18,16,17,19,13,1,14,12,2,3,15,7,8,10,11,5,4,9,24,6]\n",
    "\n",
    "rearanged_list = [24,9,23,8,22,21,15,16,1,19,18,17,3,2,20,12,13,10,11,6,5,14,7,4]\n",
    "for idex, i in enumerate(rearanged_list):\n",
    "    plot_glycan_utilities.plot_glycan(rep_list[i-1], title=str(idex+1)+','+str(i))\n",
    "profile_Gly=[]\n",
    "profile_name_order = []\n",
    "for i in range(1,len(profile_dict)+1):\n",
    "    for j in profile_dict[i]:\n",
    "        profile_Gly.append(j)\n",
    "        profile_name_order.append(j)\n",
    "def generate_weight(vec_, merged_weights_dict):\n",
    "    weight_vec = [merged_weights_dict[i] for i in vec_]\n",
    "    _sum =sum(weight_vec)\n",
    "    return [i/_sum for i in weight_vec]\n",
    "\n",
    "\n",
    "substructure_table = np.zeros((len(glyco_motif_cluster_dict),16))\n",
    "for i in range(1,len(glyco_motif_cluster_dict)+1):\n",
    "    temp_table =  deepcopy(motif_abd_table[profile_name_order][motif_abd_table.index.isin(glyco_motif_cluster_dict[i])])\n",
    "    temp_table = np.array(temp_table)\n",
    "    _weight_vec = generate_weight(sorted(glyco_motif_cluster_dict[i]),merged_weights_dict)\n",
    "    _substructure_vec = np.zeros((1,16))\n",
    "    for idex, j in enumerate(temp_table):\n",
    "        _substructure_vec += j*_weight_vec[idex]\n",
    "#     scaler = preprocessing.StandardScaler().fit(temp_table)\n",
    "    substructure_table[i-1,] = _substructure_vec[0,]\n"
   ]
  },
  {
   "cell_type": "code",
   "execution_count": null,
   "metadata": {},
   "outputs": [],
   "source": [
    "reorder_glycoprofile_table = np.zeros(motif_abd_table.shape)\n",
    "_cur_row = 0\n",
    "_index = []\n",
    "for i in sorted(list(glyco_motif_cluster_dict), reverse=True):\n",
    "    temp_table =  deepcopy(motif_abd_table[profile_name_order][motif_abd_table.index.isin(glyco_motif_cluster_dict[i])])\n",
    "    _index.extend(glyco_motif_cluster_dict[i])\n",
    "    temp_table = np.array(temp_table)\n",
    "#     _weight_vec = generate_weight(sorted(glyco_motif_cluster_dict[i]),merged_weights_dict)\n",
    "    for j in range(temp_table.shape[0]):\n",
    "        reorder_glycoprofile_table[_cur_row]=temp_table[j]\n",
    "        _cur_row+=1\n",
    "#     _substructure_vec = np.zeros((1,16))\n",
    "#     for idex, j in enumerate(temp_table):\n",
    "#         _substructure_vec += j*_weight_vec[idex]\n",
    "# #     scaler = preprocessing.StandardScaler().fit(temp_table)\n",
    "#     substructure_table[i-1,] = _substructure_vec[0,]\n",
    "cluster_table_redraw = pd.DataFrame(data=reorder_glycoprofile_table, index=_index, columns=profile_name_order).transpose()\n",
    "# cluster_table_redraw\n",
    "# fig, ax = plt.subplots(figsize=(16,10))\n",
    "# # cmap = sns.color_palette(\"Reds\", 40)\n",
    "# # cmap=sns.color_palette(\"RdBu_r\", 20)\n",
    "# sns.heatmap(cluster_table_redraw.round(2), ax=ax, annot=False, cmap=sns.color_palette(\"Reds\", 25), linewidths=.01, linecolor='black')\n",
    "# plt.tight_layout()\n",
    "# plt.savefig(keywords_dict['plot_output_dir']+'/raw_abundance_glycoprofile_redraw.eps')\n"
   ]
  },
  {
   "cell_type": "markdown",
   "metadata": {},
   "source": [
    "# Figure 2c Substructure representative table"
   ]
  },
  {
   "cell_type": "code",
   "execution_count": null,
   "metadata": {},
   "outputs": [],
   "source": [
    "\n",
    "substre_profile=pd.DataFrame(data=substructure_table.transpose(), index=profile_name_order, columns=range(1,25))\n",
    "substre_profile=substre_profile[[i for i in rearanged_list]]\n",
    "fig, ax = plt.subplots(figsize=(16,5))\n",
    "substre_profile=substre_profile.round(5)\n",
    "substre_profile.to_csv(keywords_dict['output_data_dir']+keywords_dict['project_name']+\"_abundance_representatives.csv\")\n",
    "sns.heatmap(substre_profile.round(2), ax=ax, cmap=sns.color_palette(\"RdBu_r\", 25), linewidths=.01, linecolor='white')\n",
    "plt.title('Substructure representative table', size=20)\n",
    "plt.tight_layout()\n",
    "plt.savefig(keywords_dict['plot_output_dir']+keywords_dict['project_name']+'_raw_abundance_sub.eps')\n",
    "plt.show()\n",
    "# substre_profile_zscore.round(2).to_csv(os.path.join(keywords_dict['intermediate_dir'], str(len(selected_name_list))+r\"substre_profile_zscore.txt\"))\n",
    "\n",
    "# plt.tight_layout()\n",
    "# plt.savefig(keywords_dict['plot_output_dir']+'/raw_abundance_sub_shifted.eps')\n",
    "# plt.show()"
   ]
  },
  {
   "cell_type": "markdown",
   "metadata": {},
   "source": [
    "# 1-sample one-side wilcoxn test with zsplit\n",
    "### zsplit includes zero-differences in the ranking process and splits the zero rank between positive and negative ones"
   ]
  },
  {
   "cell_type": "code",
   "execution_count": null,
   "metadata": {
    "scrolled": false
   },
   "outputs": [],
   "source": [
    "# from scipy.stats import shapiro, anderson, boxcox\n",
    "from scipy.stats import yeojohnson, probplot, wilcoxon\n",
    "from scipy import stats\n",
    "\n",
    "# i = substre_profile.columns[0]\n",
    "# _a, _b = wilcoxon(substre_profile[i]-j, zero_method='zsplit')\n",
    "\n",
    "# wilcoxon_statistic_table = np.zeros(substre_profile.shape)\n",
    "# p_value_table = np.zeros(substre_profile.shape)\n",
    "# for idex, i in enumerate(substre_profile.columns):\n",
    "# #     print(substre_profile[i])\n",
    "#     b_a,b_b = wilcoxon(substre_profile[i]-substre_profile[i][-1], zero_method='zsplit', correction=True, alternative='greater')\n",
    "#     for jdex, j in enumerate(substre_profile[i]):\n",
    "# #         print(substre_profile[i]-j)\n",
    "# #         print('j:',j, )\n",
    "# #         print(type(i), type(j))\n",
    "#         if j > substre_profile[i][-1]:\n",
    "#             test = 'greater'\n",
    "#         else:\n",
    "#             test = 'less'\n",
    "#         _a,_b=wilcoxon(substre_profile[i]-j, zero_method='zsplit', correction=True, alternative=test)\n",
    "# #         _a,_b=(wilcoxon(substre_profile[i]-j, zero_method='zsplit'))\n",
    "#         wilcoxon_statistic_table[jdex,idex]=b_a-_a\n",
    "#         p_value_table[jdex,idex]=_b if _b < 0.5 else 1-_b\n",
    "\n",
    "        \n",
    "# substre_profile=pd.read_csv(keywords_dict['intermediate_dir']+keywords_dict['project_name']+\"_abundance_representatives.csv\", index_col=0)\n",
    "substre_profile.columns=range(1,25)\n",
    "substre_profile"
   ]
  },
  {
   "cell_type": "code",
   "execution_count": null,
   "metadata": {},
   "outputs": [],
   "source": [
    "from scipy.stats import norm\n",
    "import numpy as np\n",
    "def get_effect_size(p, sample_size=16):\n",
    "    return np.abs(norm.ppf(p)/np.sqrt(sample_size))\n",
    "\n",
    "print(get_effect_size(0.0031))\n",
    "for idex in [18,20]:\n",
    "    i = substre_profile.columns[idex]\n",
    "    for jdex in [2]:\n",
    "        j = substre_profile[i][jdex]\n",
    "        # help(stats.wilcoxon)\n",
    "        if j > substre_profile[i][-1]:\n",
    "            test = 'greater'\n",
    "        elif j< substre_profile[i][-1]:\n",
    "            test = 'less'\n",
    "        else: \n",
    "            test='same'\n",
    "        print(i, test, substre_profile[i][jdex], substre_profile.index[jdex])\n",
    "        \n",
    "        _a,_b=stats.wilcoxon(substre_profile[i]-j, zero_method='zsplit', correction=True)\n",
    "        #         _a,_b=(wilcoxon(substre_profile[i]-j, zero_method='zsplit'))\n",
    "        _b=_b/2 if _b < 0.5 else (1-_b)/2\n",
    "        \n",
    "        print(_a, _b, get_effect_size(_b))\n",
    "    print(\"\\n\")"
   ]
  },
  {
   "cell_type": "code",
   "execution_count": null,
   "metadata": {},
   "outputs": [],
   "source": []
  },
  {
   "cell_type": "code",
   "execution_count": null,
   "metadata": {},
   "outputs": [],
   "source": [
    "#St3gal4/6\n",
    "reload(stats)\n",
    "i = substre_profile.columns[12]\n",
    "jdex= -6\n",
    "# help(stats.wilcoxon)\n",
    "j = substre_profile[i][-6]\n",
    "\n",
    "if j > substre_profile[i][-1]:\n",
    "            test = 'greater'\n",
    "else:\n",
    "            test = 'less'\n",
    "print(i, test, substre_profile[i][jdex], substre_profile.index[jdex])\n",
    "_a,_b=stats.wilcoxon(substre_profile[i]-j, zero_method='zsplit', correction=True)\n",
    "#         _a,_b=(wilcoxon(substre_profile[i]-j, zero_method='zsplit'))\n",
    "_b=_b/2 if _b < 0.5 else (1-_b)/2\n",
    "print(\"st3gal4.st3gal6: Rep\",_a, _b, get_effect_size(_b))\n",
    "\n",
    "\n",
    "i = substre_profile.columns[19]\n",
    "# jdex=substre_profile.index[-6]\n",
    "# help(stats.wilcoxon)\n",
    "j = substre_profile[i][-6]\n",
    "if j > substre_profile[i][-1]:\n",
    "            test = 'greater'\n",
    "else:\n",
    "            test = 'less'\n",
    "print(i, test, substre_profile[i][jdex], substre_profile.index[jdex])\n",
    "_a,_b=stats.wilcoxon(substre_profile[i]-j, zero_method='zsplit', correction=True)\n",
    "#         _a,_b=(wilcoxon(substre_profile[i]-j, zero_method='zsplit'))\n",
    "_b=_b/2 if _b < 0.5 else (1-_b)/2\n",
    "print(_a, _b, get_effect_size(_b))"
   ]
  },
  {
   "cell_type": "code",
   "execution_count": null,
   "metadata": {
    "scrolled": false
   },
   "outputs": [],
   "source": [
    "for idex in [8,12,13, 14]:\n",
    "    i = substre_profile.columns[idex]\n",
    "    for jdex in [7,8,9]:\n",
    "        j = substre_profile[i][jdex]\n",
    "        # help(stats.wilcoxon)\n",
    "        if j > substre_profile[i][-1]:\n",
    "            test = 'greater'\n",
    "        elif j< substre_profile[i][-1]:\n",
    "            test = 'less'\n",
    "        else: \n",
    "            test='same'\n",
    "        print(i, test, substre_profile[i][jdex], substre_profile.index[jdex])\n",
    "        \n",
    "        _a,_b=stats.wilcoxon(substre_profile[i]-j, zero_method='zsplit', correction=True)\n",
    "        #         _a,_b=(wilcoxon(substre_profile[i]-j, zero_method='zsplit'))\n",
    "        _b=_b/2 if _b < 0.5 else (1-_b)/2\n",
    "        print(_a, _b, get_effect_size(_b))\n",
    "    print(\"\\n\")\n",
    "\n",
    "for idex in range(15,22):\n",
    "    i = substre_profile.columns[idex]\n",
    "    for jdex in range(7,10):\n",
    "        j = substre_profile[i][jdex]\n",
    "        # help(stats.wilcoxon)\n",
    "        if j > substre_profile[i][-1]:\n",
    "            test = 'greater'\n",
    "        elif j< substre_profile[i][-1]:\n",
    "            test = 'less'\n",
    "        else: \n",
    "            test='same'\n",
    "        print(i, test, substre_profile[i][jdex], substre_profile.index[jdex])\n",
    "        \n",
    "        _a,_b=stats.wilcoxon(substre_profile[i]-j, zero_method='zsplit', correction=True)\n",
    "        #         _a,_b=(wilcoxon(substre_profile[i]-j, zero_method='zsplit'))\n",
    "        _b=_b/2 if _b < 0.5 else (1-_b)/2\n",
    "        print(_a, _b, get_effect_size(_b))\n",
    "    print(\"\\n\")"
   ]
  },
  {
   "cell_type": "code",
   "execution_count": null,
   "metadata": {
    "scrolled": true
   },
   "outputs": [],
   "source": [
    "\n",
    "def ecdf(data):\n",
    "    \"\"\" Compute ECDF \"\"\"\n",
    "    x = np.sort(data)\n",
    "    n = x.size\n",
    "    y = np.arange(1, n+1) / n\n",
    "    plt.scatter(x=x, y=y)\n",
    "    plt.show()\n",
    "\n",
    "_count = 0\n",
    "_len = 4\n",
    "# plt.style.use('seaborn-whitegrid')\n",
    "fig, ax = plt.subplots(6, 4, constrained_layout=True)\n",
    "# fig.patch.set_facecolor('white')\n",
    "fig.suptitle('Empirical cumulative distribution function for substructure representatives', size=20)\n",
    "\n",
    "fig.set_size_inches(10,15)\n",
    "for idex, i in enumerate(substre_profile.columns):\n",
    "#     fig.add_subplot(4, 6, idex+1)\n",
    "    #             print(i)\n",
    "    #             print(divmod(_count, _a))\n",
    "    _x, _y = divmod(_count, _len)\n",
    "    x = np.sort(substre_profile[i])\n",
    "    n = x.size\n",
    "    y = np.arange(1, n+1) / n\n",
    "    axe=ax[_x][_y]\n",
    "    axe.set_ylim(-0.1,1.1)\n",
    "#     axe.set_xlim(-0.1,1.1)\n",
    "    axe.set_facecolor('white')\n",
    "    axe.scatter(x=x, y=y ,edgecolors='black')\n",
    "    axe.set_title(str(idex))\n",
    "#     plt.show()\n",
    "    _count += 1\n",
    "# plt.show()\n",
    "plt.savefig(keywords_dict['plot_output_dir']+keywords_dict['project_name']+\"_ECDF.eps\")\n"
   ]
  },
  {
   "cell_type": "markdown",
   "metadata": {},
   "source": [
    "# Selected the example for Figure 2d, 3"
   ]
  },
  {
   "cell_type": "code",
   "execution_count": null,
   "metadata": {},
   "outputs": [],
   "source": [
    "import numpy as np\n",
    "import matplotlib.pyplot as plt\n",
    "#  matplotlib.rc('xtick', labelsize=20) \n",
    "# matplotlib.rc('ytick', labelsize=20)\n",
    "def compare_profile(profile_table, name_list, ax, addr=None):\n",
    "    # data to plot\n",
    "\n",
    "    # create plot\n",
    "    profile_table.columns=name_list\n",
    "#     print('a', profile_table.shape)\n",
    "#     print('a', profile_table)\n",
    "#     for i in zip(range(profile_table.shape[0]),profile_table.iloc[:,0]):\n",
    "#         print(i)\n",
    "#     print(profile_table.iloc[0,0])\n",
    "#     print('fini')\n",
    "    index = np.arange(profile_table.shape[0])\n",
    "    bar_width = min(0.25, 1/(profile_table.shape[1]+2))\n",
    "    opacity = 0.8\n",
    "    rects_list=[0]*profile_table.shape[1]\n",
    "    if ax is None:\n",
    "        fig, ax = plt.subplots(figsize=(8 ,3))\n",
    "        ax.set_facecolor('white')\n",
    "#         plt\n",
    "        plt.xlabel('Substructure', size=20)\n",
    "        plt.ylabel('Stdscaled difference', size=20)\n",
    "        plt.title('Glycoprofile comparison', size=20)\n",
    "        plt.xlabel('Substructure', size=20)\n",
    "        plt.ylim(-5,5)\n",
    "        \n",
    "        for i,j in enumerate(profile_table.columns):\n",
    "            plt.bar(index+i*bar_width, profile_table[j], bar_width,\n",
    "    #                  alpha=opacity,\n",
    "    #                  color='b',\n",
    "                     label=str(j))\n",
    "        plt.legend(name_list, loc=1)\n",
    "        plt.yticks(size=15)\n",
    "        plt.axhline(y=0, color='Black', linestyle='-',linewidth=0.1)\n",
    "        plt.yticks([-4,-2,0,2,4], ['-4','-2','0','2','4'])\n",
    "        plt.xticks(index-1/(profile_table.shape[1]+2), ([str(x) for x in range(1, profile_table.shape[0]+1)]))\n",
    "        plt.savefig(addr)\n",
    "        plt.tight_layout()\n",
    "    else:\n",
    "#         print(name_list)\n",
    "        print('index', index)\n",
    "        ax.set_facecolor('white')\n",
    "        ax.set_ylim(-5,5)\n",
    "#     ax.set_yticklabels(size=15)\n",
    "        \n",
    "    \n",
    "        for i,j in enumerate(profile_table.columns):\n",
    "            ax.bar(index+i*bar_width, profile_table[j], bar_width,\n",
    "    #                  alpha=opacity,\n",
    "    #                  color='b',\n",
    "                     label=str(j))\n",
    "        ax.legend(name_list, loc=2)\n",
    "        ax.set_yticks([-4,-2,0,2,4])\n",
    "        ax.axhline(y=0, color='Black', linestyle='-',linewidth=0.5)\n",
    "        ax.set_yticklabels(['-4','-2','0','2','4'])\n",
    "        ax.set_xticks(index-1/(profile_table.shape[1]+2), )\n",
    "        ax.set_xticklabels(([str(x) for x in range(1, profile_table.shape[0]+1)]))\n",
    "    if addr:\n",
    "        \n",
    "#     ax.tight_layout()\n",
    "        plt.savefig(addr)\n",
    "# compare_profile(substre_profile[])"
   ]
  },
  {
   "cell_type": "markdown",
   "metadata": {},
   "source": [
    "# Raw plots and related plots for Figure 2d"
   ]
  },
  {
   "cell_type": "code",
   "execution_count": null,
   "metadata": {},
   "outputs": [],
   "source": [
    "\n",
    "# fig, axes = plt.subplots(2, 1, squeeze=False, facecolor='white')\n",
    "\n",
    "# # plt.title(title)\n",
    "# fig.set_size_inches(8, 6)\n",
    "# _count = 0\n",
    "# # _profile_dict={1:[\"EPO127.mgat1.\", \"EPO174.mgat2.\", \"EPO266.fut8.\", \"st3gal4.st3gal6\"]\n",
    "# # _name_list = [x for x in mod_profile_dict[i]]\n",
    "# condense_plot = [\"EPO266.fut8.\", \"st3gal4.st3gal6\", ]\n",
    "# condense_plot_name = ['EPO266.KO_fut8','KO_st3gal4/6']\n",
    "# sns.set(palette='Accent_r')\n",
    "\n",
    "substre_profile_zscore=substre_profile.apply(zscore)\n",
    "\n",
    "\n",
    "# fig, ax = plt.subplots(figsize=(16, 5))\n",
    "# sns.heatmap(substre_profile_zscore.round(2), ax=ax, cmap=sns.color_palette(\"RdBu_r\", 40), linewidths=.01, linecolor='white', annot=True)\n",
    "\n",
    "if 'B4GalT2' in substre_profile_zscore.columns:\n",
    "    pass\n",
    "else:\n",
    "    substre_profile_zscore = substre_profile_zscore.transpose()\n",
    "substre_profile_zscore=substre_profile_zscore.round(3)\n",
    "substre_profile_zscore_with_baseWT = substre_profile_zscore.copy()\n",
    "base = list(substre_profile_zscore.WT.tolist())\n",
    "for i in substre_profile_zscore_with_baseWT.columns:\n",
    "#     print(base)\n",
    "    substre_profile_zscore_with_baseWT[i]=substre_profile_zscore_with_baseWT[i]-base\n",
    "\n",
    "\n",
    "# for idex, i in enumerate(condense_plot):\n",
    "#     #             print(i)\n",
    "#     #             print(divmod(_count, _a))\n",
    "#     _name_list = [i]\n",
    "    \n",
    "# #     _x, _y = divmod(_count, _len)\n",
    "#     ax=axes[idex][0]\n",
    "#     compare_profile(deepcopy(substre_profile_zscore_with_baseWT[_name_list]), [condense_plot_name[idex]], ax=ax)#addr=__init__.plot_output_address+\"substructure_cluster_\"+str(i)+\".eps\")\n",
    "# #     _count += 1\n",
    "# plt.savefig(keywords_dict['plot_output_dir']+\"substructure_cluster_condense.eps\")"
   ]
  },
  {
   "cell_type": "code",
   "execution_count": null,
   "metadata": {},
   "outputs": [],
   "source": [
    "substre_profile_zscore_with_baseWT1=substre_profile_zscore_with_baseWT.transpose()\n",
    "substre_profile_zscore_with_baseWT1.to_csv(keywords_dict['plot_output_dir']+keywords_dict['project_name']+ r\"_substructure_matrix_std_base.txt\")\n",
    "fig, ax = plt.subplots(figsize=(14,6))\n",
    "sns.heatmap(substre_profile_zscore_with_baseWT1.round(2), annot=True, ax=ax, cmap=sns.color_palette(\"RdBu_r\", 20), linewidths=.005, linecolor='white')\n",
    "plt.title('Standard-scaled substructure representative table', size=20)\n",
    "\n",
    "plt.savefig(keywords_dict['plot_output_dir']+keywords_dict['project_name']+'_adjusted_abundance_zscore.eps')\n",
    "plt.show()\n"
   ]
  },
  {
   "cell_type": "markdown",
   "metadata": {},
   "source": [
    "# Raw plots and related plots for Figure 3"
   ]
  },
  {
   "cell_type": "code",
   "execution_count": null,
   "metadata": {
    "scrolled": false
   },
   "outputs": [],
   "source": [
    "profile_dict={1:[\"EPO127.mgat1.\"],\n",
    "2:[\"EPO174.mgat2.\"],\n",
    "3:[\"EPO266.fut8.\",\"st3gal4.st3gal6\"],\n",
    "4:[\"KI_ST6GalNAc1.st3gal4.st3gal6.mgat4a.mgat4b.mgat5\",\n",
    "   \"st3gal4.st3gal6.mgat4a.mgat4b.mgat5\",\n",
    "   \"B3gnt2.mgat4a.mgat4b.mgat5\",\n",
    "   \"mgat4A.mgat4B.mgat5\",\n",
    "   ],\n",
    "5:[\"mgat5\",\n",
    "   \"mgat4A.mgat4B\",\n",
    "   \"EPO78.mgat4B.\"],\n",
    "\n",
    "7:[\"B4GalT1\",\n",
    "   \"B4GalT2\",\n",
    "   \"B4GalT3\",\n",
    "   \"B4GalT4\",\n",
    "   \"WT\",]}\n",
    "mod_profile_dict=profile_dict\n",
    "sns.set(palette='Accent_r')\n",
    "if 'B4GalT2' in substre_profile_zscore.columns:\n",
    "    pass\n",
    "else:\n",
    "    substre_profile_zscore = substre_profile_zscore.transpose()\n",
    "substre_profile_zscore=substre_profile_zscore.round(3)\n",
    "substre_profile_zscore_with_baseWT = substre_profile_zscore.copy()\n",
    "base = list(substre_profile_zscore.WT.tolist())\n",
    "for i in substre_profile_zscore_with_baseWT.columns:\n",
    "#     print(base)\n",
    "    substre_profile_zscore_with_baseWT[i]=substre_profile_zscore_with_baseWT[i]-base\n",
    "#     print(substre_profile_zscore_with_baseWT[i])\n",
    "#     print(substre_profile_zscore_with_baseWT[i])\n",
    "for i in sorted(mod_profile_dict):\n",
    "#     for j in profile_dict[i]:\n",
    "    _name_list = [x for x in mod_profile_dict[i]]\n",
    "#     print(_name_list, len(_name_list))\n",
    "    print(_name_list)\n",
    "    compare_profile(deepcopy(substre_profile_zscore_with_baseWT[_name_list]), _name_list, ax=None, addr=keywords_dict['plot_output_dir']+keywords_dict['project_name']+\"cluster_rep_abd_std_scaled\"+str(i)+\".eps\")\n",
    "    \n",
    "\n"
   ]
  },
  {
   "cell_type": "code",
   "execution_count": null,
   "metadata": {},
   "outputs": [],
   "source": [
    "# from sklearn.decomposition import PCA as pca\n",
    "# # Y_sklearn = sklearn_pca.fit_transform(X_std)\n",
    "# group_list = [1,1,1,2,2,2,2,4,3,3,3,5,5,5,5,5]"
   ]
  },
  {
   "cell_type": "code",
   "execution_count": null,
   "metadata": {},
   "outputs": [],
   "source": [
    "# import matplotlib.pyplot as plt\n",
    "# def _pca(data_table, group_list):\n",
    "#     sklearn_pca = pca(n_components=3)\n",
    "#     projected = sklearn_pca.fit_transform(data_table)\n",
    "#     print(sklearn_pca.explained_variance_ratio_)\n",
    "\n",
    "#     fig, ax = plt.subplots()\n",
    "# #     ax.scatter(z, y)\n",
    "\n",
    "\n",
    "#     plt.scatter(projected[:, 0], projected[:, 1],\n",
    "#                 c=group_list, edgecolor='none', alpha=0.5,\n",
    "#                 cmap=plt.cm.get_cmap('Dark2',5), )\n",
    "#     plt.xlabel('component 1')\n",
    "#     plt.ylabel('component 2')\n",
    "#     for i, txt in enumerate(data_table.index.tolist()):\n",
    "#         ax.annotate(txt, (projected[i, 0]+0.1, projected[i,1]))\n",
    "#     plt.colorbar();\n",
    "    \n"
   ]
  },
  {
   "cell_type": "code",
   "execution_count": null,
   "metadata": {},
   "outputs": [],
   "source": [
    "# _pca(substre_profile.round(2), group_list)"
   ]
  },
  {
   "cell_type": "code",
   "execution_count": null,
   "metadata": {},
   "outputs": [],
   "source": [
    "# _pca(substre_profile_zscore.round(2), group_list)"
   ]
  },
  {
   "cell_type": "code",
   "execution_count": null,
   "metadata": {},
   "outputs": [],
   "source": [
    "# import plotly.plotly as py\n",
    "# import plotly.graph_objs as go\n",
    "# import plotly \n",
    "# plotly.tools.set_credentials_file(username='hoveathly', api_key='bcBZdP07AvxyJ605DwHM')"
   ]
  },
  {
   "cell_type": "code",
   "execution_count": null,
   "metadata": {},
   "outputs": [],
   "source": [
    "# ax.scatter(xs, ys, zs, marker=m)\n",
    "\n",
    "# plt.colorbar();\n",
    "# ax.set_xlabel('X Label')\n",
    "# ax.set_ylabel('Y Label')\n",
    "# ax.set_zlabel('Z Label')"
   ]
  },
  {
   "cell_type": "code",
   "execution_count": null,
   "metadata": {},
   "outputs": [],
   "source": [
    "# for i in substre_profile.index.tolist():\n",
    "#     print(i)"
   ]
  },
  {
   "cell_type": "code",
   "execution_count": null,
   "metadata": {},
   "outputs": [],
   "source": [
    "# # x, y, z = np.random.multivariate_normal(np.array([0,0,0]), np.eye(3), 400).transpose()\n",
    "# sklearn_pca = pca(n_components=3)\n",
    "# projected = sklearn_pca.fit_transform(substre_profile)\n",
    "# trace1 = go.Scatter3d(\n",
    "#     x=projected[:, 0],\n",
    "#     y=projected[:, 1],\n",
    "#     z=projected[:, 2],\n",
    "#     text=substre_profile_zscore.index.tolist(),\n",
    "#     mode='markers',\n",
    "#     marker=dict(\n",
    "#         size=12,\n",
    "#         color=group_list,                # set color to an array/list of desired values\n",
    "#         colorscale='Viridis',   # choose a colorscale\n",
    "#         opacity=0.8\n",
    "#     )\n",
    "# )\n",
    "\n",
    "# data = [trace1]\n",
    "# layout = go.Layout(\n",
    "#     autosize=True,\n",
    "#     hovermode='closest',\n",
    "#     showlegend=False,\n",
    "#     margin=dict(\n",
    "#         l=0,\n",
    "#         r=0,\n",
    "#         b=0,\n",
    "#         t=0\n",
    "#     )\n",
    "\n",
    "# )\n",
    "# fig = go.Figure(data=data, layout=layout)\n",
    "# py.iplot(fig, filename='3d-scatter-colorscale-2')"
   ]
  },
  {
   "cell_type": "code",
   "execution_count": null,
   "metadata": {},
   "outputs": [],
   "source": []
  },
  {
   "cell_type": "code",
   "execution_count": null,
   "metadata": {},
   "outputs": [],
   "source": []
  }
 ],
 "metadata": {
  "anaconda-cloud": {},
  "kernelspec": {
   "display_name": "Python 3",
   "language": "python",
   "name": "python3"
  },
  "language_info": {
   "codemirror_mode": {
    "name": "ipython",
    "version": 3
   },
   "file_extension": ".py",
   "mimetype": "text/x-python",
   "name": "python",
   "nbconvert_exporter": "python",
   "pygments_lexer": "ipython3",
   "version": "3.7.3"
  }
 },
 "nbformat": 4,
 "nbformat_minor": 1
}
